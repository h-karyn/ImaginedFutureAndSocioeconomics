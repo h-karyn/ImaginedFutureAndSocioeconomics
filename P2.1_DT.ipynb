{
 "cells": [
  {
   "cell_type": "markdown",
   "id": "e3706256f60dd5e4",
   "metadata": {
    "collapsed": false
   },
   "source": [
    "# Exploratory Data Analysis \n",
    "##         -- Children's Imagined Future and its association with socioeconomic status"
   ]
  },
  {
   "cell_type": "markdown",
   "id": "7c1012406e4e8504",
   "metadata": {
    "collapsed": false
   },
   "source": [
    "## Background \n",
    "\n",
    "“Imagine you are now 25 years old. Write about the life you are leading, your interests, your home life and your work at the age of 25”. As a part of a longitudinal study on individuals born in 1958, over 10,000 11-year-old children in the UK were asked to write an essay given the instruction above (Center for Longitudinal Studies (CLS) | 1958 National Child Development Study). Their families’ demographic information, including socioeconomic status (SES) related items (e.g., father’s occupation), was recorded. At the age of 42, they participated in another sweep of the study, which collected information including their income range. \n",
    "\n",
    "One study examined this corpus and themes of children’s imagined future. With selected sample and a qualitative approach, it identified a wide range of themes, including marriage, family members, occupation, money, domestic life, vacations, leisure activities and animals. Although the children rarely described their future in terms of status, researchers discovered that high SES children are more likely to write about imaginations characterizing high-prestige lifestyles (e.g. large house, fancy vehicle and overseas vacation) (Elliott, 2010).\n",
    "\n",
    "So far, no existing literature using this corpus has investigated this relationship of SES and children’s writing with a machine learning/NLP approach. Thus, I am here to fill the gap and discover new knowledge:). "
   ]
  },
  {
   "cell_type": "markdown",
   "id": "3eb840b5a5cad4eb",
   "metadata": {
    "collapsed": false
   },
   "source": [
    "## Data \n",
    "\n",
    "We (my collaborator Dr. Holly Engstrom and I) obtained the longitudinal data at CLS' data access application portal. We first selected the age-11 and age-42 waves as our data, which contain information on:\n",
    "1. children's essays\n",
    "2. children's father's occupation\n",
    "3. whether the family experienced financial hardship\n",
    "4. weekly income at the age of 42.  \n",
    "\n",
    "We had put enormous effort to clean and preprocess the data, including manually correcting all the misspellings in the essays. The data after processing is saved in full_data.csv under the **[current repository](https://github.com/h-karyn/ImaginedFutureAndSocioeconomics)**. "
   ]
  },
  {
   "cell_type": "markdown",
   "id": "30cf737325dc425a",
   "metadata": {
    "collapsed": false
   },
   "source": [
    "## Data Overview    "
   ]
  },
  {
   "cell_type": "code",
   "execution_count": 1,
   "id": "f4be43f0703cf0ce",
   "metadata": {
    "collapsed": false,
    "ExecuteTime": {
     "end_time": "2024-01-30T22:56:50.903659Z",
     "start_time": "2024-01-30T22:56:50.851730Z"
    }
   },
   "outputs": [],
   "source": [
    "import numpy as np\n",
    "import pandas as pd\n",
    "import matplotlib.pyplot as plt\n",
    "import seaborn as sns"
   ]
  },
  {
   "cell_type": "code",
   "execution_count": 2,
   "id": "a940333ddf9bcb6a",
   "metadata": {
    "collapsed": false,
    "ExecuteTime": {
     "end_time": "2024-01-30T22:56:51.116031Z",
     "start_time": "2024-01-30T22:56:50.906162Z"
    }
   },
   "outputs": [
    {
     "data": {
      "text/plain": "(18567, 13)"
     },
     "execution_count": 2,
     "metadata": {},
     "output_type": "execute_result"
    }
   ],
   "source": [
    "# read data \n",
    "data_df = pd.read_csv('full_data.csv') \n",
    "data_df.shape"
   ]
  },
  {
   "cell_type": "code",
   "execution_count": 3,
   "id": "6bca40fbefee53f5",
   "metadata": {
    "collapsed": false,
    "ExecuteTime": {
     "end_time": "2024-01-30T22:56:51.138986Z",
     "start_time": "2024-01-30T22:56:51.086764Z"
    }
   },
   "outputs": [
    {
     "data": {
      "text/plain": "        ID file_name                                           original  \\\n0  N10001N  B771-780  Today is my 25th birthday and I am in hospital...   \n1  N10002P     J1-10  The dog pounded up at me when i reached for he...   \n2  N10003Q     J1-10  I would get married and be a swimming instruct...   \n3  N10004R  A821-830  When I am 25 years old. I hop that I will be m...   \n4  N10005S       NaN                                                NaN   \n\n                                           corrected  misspellings readable?  \\\n0  Today is my 25th birthday and I am in hospital...          10.0       yes   \n1  The dog pounded up at me when i reached for he...           9.0       yes   \n2  I would get married and be a swimming instruct...           4.0       yes   \n3  When I am 25 years old. I hope that I will be ...          23.0       yes   \n4                                                NaN           NaN       NaN   \n\n  RA_name completed?  word_count  father  mother  financial  pay_per_week  \n0   Anika        yes       306.0     2.0    -1.0        2.0        237.25  \n1  Andrea        yes       200.0    -1.0    -1.0       -1.0           NaN  \n2  Andrea        yes       268.0     3.0     6.0        1.0           NaN  \n3  Manson        yes       169.0     2.0     8.0        2.0        221.25  \n4     NaN        NaN         NaN     2.0     6.0        2.0           NaN  ",
      "text/html": "<div>\n<style scoped>\n    .dataframe tbody tr th:only-of-type {\n        vertical-align: middle;\n    }\n\n    .dataframe tbody tr th {\n        vertical-align: top;\n    }\n\n    .dataframe thead th {\n        text-align: right;\n    }\n</style>\n<table border=\"1\" class=\"dataframe\">\n  <thead>\n    <tr style=\"text-align: right;\">\n      <th></th>\n      <th>ID</th>\n      <th>file_name</th>\n      <th>original</th>\n      <th>corrected</th>\n      <th>misspellings</th>\n      <th>readable?</th>\n      <th>RA_name</th>\n      <th>completed?</th>\n      <th>word_count</th>\n      <th>father</th>\n      <th>mother</th>\n      <th>financial</th>\n      <th>pay_per_week</th>\n    </tr>\n  </thead>\n  <tbody>\n    <tr>\n      <th>0</th>\n      <td>N10001N</td>\n      <td>B771-780</td>\n      <td>Today is my 25th birthday and I am in hospital...</td>\n      <td>Today is my 25th birthday and I am in hospital...</td>\n      <td>10.0</td>\n      <td>yes</td>\n      <td>Anika</td>\n      <td>yes</td>\n      <td>306.0</td>\n      <td>2.0</td>\n      <td>-1.0</td>\n      <td>2.0</td>\n      <td>237.25</td>\n    </tr>\n    <tr>\n      <th>1</th>\n      <td>N10002P</td>\n      <td>J1-10</td>\n      <td>The dog pounded up at me when i reached for he...</td>\n      <td>The dog pounded up at me when i reached for he...</td>\n      <td>9.0</td>\n      <td>yes</td>\n      <td>Andrea</td>\n      <td>yes</td>\n      <td>200.0</td>\n      <td>-1.0</td>\n      <td>-1.0</td>\n      <td>-1.0</td>\n      <td>NaN</td>\n    </tr>\n    <tr>\n      <th>2</th>\n      <td>N10003Q</td>\n      <td>J1-10</td>\n      <td>I would get married and be a swimming instruct...</td>\n      <td>I would get married and be a swimming instruct...</td>\n      <td>4.0</td>\n      <td>yes</td>\n      <td>Andrea</td>\n      <td>yes</td>\n      <td>268.0</td>\n      <td>3.0</td>\n      <td>6.0</td>\n      <td>1.0</td>\n      <td>NaN</td>\n    </tr>\n    <tr>\n      <th>3</th>\n      <td>N10004R</td>\n      <td>A821-830</td>\n      <td>When I am 25 years old. I hop that I will be m...</td>\n      <td>When I am 25 years old. I hope that I will be ...</td>\n      <td>23.0</td>\n      <td>yes</td>\n      <td>Manson</td>\n      <td>yes</td>\n      <td>169.0</td>\n      <td>2.0</td>\n      <td>8.0</td>\n      <td>2.0</td>\n      <td>221.25</td>\n    </tr>\n    <tr>\n      <th>4</th>\n      <td>N10005S</td>\n      <td>NaN</td>\n      <td>NaN</td>\n      <td>NaN</td>\n      <td>NaN</td>\n      <td>NaN</td>\n      <td>NaN</td>\n      <td>NaN</td>\n      <td>NaN</td>\n      <td>2.0</td>\n      <td>6.0</td>\n      <td>2.0</td>\n      <td>NaN</td>\n    </tr>\n  </tbody>\n</table>\n</div>"
     },
     "execution_count": 3,
     "metadata": {},
     "output_type": "execute_result"
    }
   ],
   "source": [
    "# get an overview of the top-n rows/samples\n",
    "data_df.head()"
   ]
  },
  {
   "cell_type": "markdown",
   "id": "b8c0b3201090d9d6",
   "metadata": {
    "collapsed": false
   },
   "source": [
    "## Data Cleaning\n",
    "\n",
    "Since column file_name, original, misspellings, RA_name, completed?, word_count, and mother are not revalent to our analysis, I will drop those columns. "
   ]
  },
  {
   "cell_type": "code",
   "execution_count": 4,
   "id": "6bae0d3e2424af06",
   "metadata": {
    "collapsed": false,
    "ExecuteTime": {
     "end_time": "2024-01-30T22:56:51.139638Z",
     "start_time": "2024-01-30T22:56:51.094117Z"
    }
   },
   "outputs": [
    {
     "data": {
      "text/plain": "        ID                                          corrected readable?  \\\n0  N10001N  Today is my 25th birthday and I am in hospital...       yes   \n1  N10002P  The dog pounded up at me when i reached for he...       yes   \n2  N10003Q  I would get married and be a swimming instruct...       yes   \n\n   father  financial  pay_per_week  \n0     2.0        2.0        237.25  \n1    -1.0       -1.0           NaN  \n2     3.0        1.0           NaN  ",
      "text/html": "<div>\n<style scoped>\n    .dataframe tbody tr th:only-of-type {\n        vertical-align: middle;\n    }\n\n    .dataframe tbody tr th {\n        vertical-align: top;\n    }\n\n    .dataframe thead th {\n        text-align: right;\n    }\n</style>\n<table border=\"1\" class=\"dataframe\">\n  <thead>\n    <tr style=\"text-align: right;\">\n      <th></th>\n      <th>ID</th>\n      <th>corrected</th>\n      <th>readable?</th>\n      <th>father</th>\n      <th>financial</th>\n      <th>pay_per_week</th>\n    </tr>\n  </thead>\n  <tbody>\n    <tr>\n      <th>0</th>\n      <td>N10001N</td>\n      <td>Today is my 25th birthday and I am in hospital...</td>\n      <td>yes</td>\n      <td>2.0</td>\n      <td>2.0</td>\n      <td>237.25</td>\n    </tr>\n    <tr>\n      <th>1</th>\n      <td>N10002P</td>\n      <td>The dog pounded up at me when i reached for he...</td>\n      <td>yes</td>\n      <td>-1.0</td>\n      <td>-1.0</td>\n      <td>NaN</td>\n    </tr>\n    <tr>\n      <th>2</th>\n      <td>N10003Q</td>\n      <td>I would get married and be a swimming instruct...</td>\n      <td>yes</td>\n      <td>3.0</td>\n      <td>1.0</td>\n      <td>NaN</td>\n    </tr>\n  </tbody>\n</table>\n</div>"
     },
     "execution_count": 4,
     "metadata": {},
     "output_type": "execute_result"
    }
   ],
   "source": [
    "# drop irrelevant columns\n",
    "data_df = data_df.drop(['file_name', 'original', 'misspellings', 'word_count','RA_name', 'completed?', 'mother'], axis=1)\n",
    "data_df.head(3)"
   ]
  },
  {
   "cell_type": "code",
   "execution_count": 5,
   "id": "33d93aca97ac0da0",
   "metadata": {
    "collapsed": false,
    "ExecuteTime": {
     "end_time": "2024-01-30T22:56:51.140123Z",
     "start_time": "2024-01-30T22:56:51.099834Z"
    }
   },
   "outputs": [
    {
     "data": {
      "text/plain": "(4843, 6)"
     },
     "execution_count": 5,
     "metadata": {},
     "output_type": "execute_result"
    }
   ],
   "source": [
    "# drop rows with missing values\n",
    "data_df = data_df.dropna()\n",
    "\n",
    "data_df.shape"
   ]
  },
  {
   "cell_type": "markdown",
   "id": "3b77dde7b9c8b8e8",
   "metadata": {
    "collapsed": false
   },
   "source": [
    "Clean the 'readable?' column"
   ]
  },
  {
   "cell_type": "code",
   "execution_count": 6,
   "id": "3df500bc3781ffbd",
   "metadata": {
    "collapsed": false,
    "ExecuteTime": {
     "end_time": "2024-01-30T22:56:51.140598Z",
     "start_time": "2024-01-30T22:56:51.106498Z"
    }
   },
   "outputs": [
    {
     "name": "stdout",
     "output_type": "stream",
     "text": [
      "['yes' 'no' 'yexs' 'yea']\n",
      "['yes' 'no']\n"
     ]
    },
    {
     "data": {
      "text/plain": "(4720, 6)"
     },
     "execution_count": 6,
     "metadata": {},
     "output_type": "execute_result"
    }
   ],
   "source": [
    "# turn 'readable?' to lowercase\n",
    "data_df['readable?'] = data_df['readable?'].str.lower()\n",
    "\n",
    "# check the unique values\n",
    "print(data_df['readable?'].unique())\n",
    "\n",
    "# replace 'yexs' and 'yea' with 'yes'\n",
    "data_df['readable?'] = data_df['readable?'].replace(['yexs', 'yea'], 'yes')\n",
    "\n",
    "# check the unique values again\n",
    "print(data_df['readable?'].unique())\n",
    "\n",
    "# drop rows with 'no'\n",
    "data_df = data_df[data_df['readable?'] == 'yes']\n",
    "\n",
    "data_df.shape"
   ]
  },
  {
   "cell_type": "code",
   "execution_count": 7,
   "id": "62760472d8461b0b",
   "metadata": {
    "collapsed": false,
    "ExecuteTime": {
     "end_time": "2024-01-30T22:56:51.141293Z",
     "start_time": "2024-01-30T22:56:51.112617Z"
    }
   },
   "outputs": [
    {
     "data": {
      "text/plain": "         ID                                          corrected readable?  \\\n0   N10001N  Today is my 25th birthday and I am in hospital...       yes   \n3   N10004R  When I am 25 years old. I hope that I will be ...       yes   \n12  N10013S  Now that I am 25 and I have left college I thi...       yes   \n\n    father  financial  pay_per_week  \n0      2.0        2.0        237.25  \n3      2.0        2.0        221.25  \n12     2.0        2.0        729.00  ",
      "text/html": "<div>\n<style scoped>\n    .dataframe tbody tr th:only-of-type {\n        vertical-align: middle;\n    }\n\n    .dataframe tbody tr th {\n        vertical-align: top;\n    }\n\n    .dataframe thead th {\n        text-align: right;\n    }\n</style>\n<table border=\"1\" class=\"dataframe\">\n  <thead>\n    <tr style=\"text-align: right;\">\n      <th></th>\n      <th>ID</th>\n      <th>corrected</th>\n      <th>readable?</th>\n      <th>father</th>\n      <th>financial</th>\n      <th>pay_per_week</th>\n    </tr>\n  </thead>\n  <tbody>\n    <tr>\n      <th>0</th>\n      <td>N10001N</td>\n      <td>Today is my 25th birthday and I am in hospital...</td>\n      <td>yes</td>\n      <td>2.0</td>\n      <td>2.0</td>\n      <td>237.25</td>\n    </tr>\n    <tr>\n      <th>3</th>\n      <td>N10004R</td>\n      <td>When I am 25 years old. I hope that I will be ...</td>\n      <td>yes</td>\n      <td>2.0</td>\n      <td>2.0</td>\n      <td>221.25</td>\n    </tr>\n    <tr>\n      <th>12</th>\n      <td>N10013S</td>\n      <td>Now that I am 25 and I have left college I thi...</td>\n      <td>yes</td>\n      <td>2.0</td>\n      <td>2.0</td>\n      <td>729.00</td>\n    </tr>\n  </tbody>\n</table>\n</div>"
     },
     "execution_count": 7,
     "metadata": {},
     "output_type": "execute_result"
    }
   ],
   "source": [
    "# preview the data\n",
    "data_df.head(3) "
   ]
  },
  {
   "cell_type": "markdown",
   "id": "cfa0582b21d6b5a2",
   "metadata": {
    "collapsed": false
   },
   "source": [
    "## Data Preprocessing\n",
    "\n",
    "In this data set, we label high SES as 1 and low SES as 2: * father’s occupation is coded as: 1 - non-manual; 2 - manual; * financial hardship is coded as: 1 - No; 2 - Yes;\n",
    "\n",
    "Combination of father’s occupation and financial hardship: * 1 - father had a non-manual job & no financial hardship. * 2 - father had a manual job & no financial hardship. * 3 - father had a non-manual job & financial hardship. * 4 - father had a manual job & financial hardship."
   ]
  },
  {
   "cell_type": "code",
   "execution_count": 8,
   "id": "6f4112090ea39327",
   "metadata": {
    "collapsed": false,
    "ExecuteTime": {
     "end_time": "2024-01-30T22:56:51.143558Z",
     "start_time": "2024-01-30T22:56:51.116021Z"
    }
   },
   "outputs": [],
   "source": [
    "# Define a function to apply the conditions\n",
    "def combine_columns(row):\n",
    "    if row['father'] == 1 and row['financial'] == 1:\n",
    "        return 1\n",
    "    elif row['father'] == 2 and row['financial'] == 1:\n",
    "        return 2\n",
    "    elif row['father'] == 1 and row['financial'] == 2:\n",
    "        return 3\n",
    "    elif row['father'] == 2 and row['financial'] == 2:\n",
    "        return 4\n",
    "    else:\n",
    "        return None "
   ]
  },
  {
   "cell_type": "code",
   "outputs": [
    {
     "data": {
      "text/plain": "(4720, 6)"
     },
     "execution_count": 9,
     "metadata": {},
     "output_type": "execute_result"
    }
   ],
   "source": [
    "# new NA values are created since not all rows values in father and financial follow the conditions\n",
    "data_df = data_df.dropna()\n",
    "data_df.shape"
   ],
   "metadata": {
    "collapsed": false,
    "ExecuteTime": {
     "end_time": "2024-01-30T22:56:51.149711Z",
     "start_time": "2024-01-30T22:56:51.118621Z"
    }
   },
   "id": "c329f2ba26324e29",
   "execution_count": 9
  },
  {
   "cell_type": "code",
   "execution_count": 10,
   "id": "75bf5d8ddf3595ac",
   "metadata": {
    "collapsed": false,
    "ExecuteTime": {
     "end_time": "2024-01-30T22:56:51.333577Z",
     "start_time": "2024-01-30T22:56:51.122556Z"
    }
   },
   "outputs": [
    {
     "data": {
      "text/plain": "         ID                                          corrected readable?  \\\n0   N10001N  Today is my 25th birthday and I am in hospital...       yes   \n3   N10004R  When I am 25 years old. I hope that I will be ...       yes   \n12  N10013S  Now that I am 25 and I have left college I thi...       yes   \n\n   father financial  pay_per_week family_ses  \n0     2.0       2.0        237.25        4.0  \n3     2.0       2.0        221.25        4.0  \n12    2.0       2.0        729.00        4.0  ",
      "text/html": "<div>\n<style scoped>\n    .dataframe tbody tr th:only-of-type {\n        vertical-align: middle;\n    }\n\n    .dataframe tbody tr th {\n        vertical-align: top;\n    }\n\n    .dataframe thead th {\n        text-align: right;\n    }\n</style>\n<table border=\"1\" class=\"dataframe\">\n  <thead>\n    <tr style=\"text-align: right;\">\n      <th></th>\n      <th>ID</th>\n      <th>corrected</th>\n      <th>readable?</th>\n      <th>father</th>\n      <th>financial</th>\n      <th>pay_per_week</th>\n      <th>family_ses</th>\n    </tr>\n  </thead>\n  <tbody>\n    <tr>\n      <th>0</th>\n      <td>N10001N</td>\n      <td>Today is my 25th birthday and I am in hospital...</td>\n      <td>yes</td>\n      <td>2.0</td>\n      <td>2.0</td>\n      <td>237.25</td>\n      <td>4.0</td>\n    </tr>\n    <tr>\n      <th>3</th>\n      <td>N10004R</td>\n      <td>When I am 25 years old. I hope that I will be ...</td>\n      <td>yes</td>\n      <td>2.0</td>\n      <td>2.0</td>\n      <td>221.25</td>\n      <td>4.0</td>\n    </tr>\n    <tr>\n      <th>12</th>\n      <td>N10013S</td>\n      <td>Now that I am 25 and I have left college I thi...</td>\n      <td>yes</td>\n      <td>2.0</td>\n      <td>2.0</td>\n      <td>729.00</td>\n      <td>4.0</td>\n    </tr>\n  </tbody>\n</table>\n</div>"
     },
     "execution_count": 10,
     "metadata": {},
     "output_type": "execute_result"
    }
   ],
   "source": [
    "# Apply the function to each row\n",
    "data_df['family_ses'] = data_df.apply(combine_columns, axis=1)\n",
    "\n",
    "# Convert columns to categorical data type\n",
    "data_df['father'] = data_df['father'].astype('category')\n",
    "data_df['financial'] = data_df['financial'].astype('category')\n",
    "data_df['family_ses'] = data_df['family_ses'].astype('category')\n",
    "\n",
    "#preview the data\n",
    "data_df.head(3)"
   ]
  },
  {
   "cell_type": "code",
   "execution_count": 11,
   "id": "27a4ea21ff0124d7",
   "metadata": {
    "collapsed": false,
    "ExecuteTime": {
     "end_time": "2024-01-30T22:56:51.334609Z",
     "start_time": "2024-01-30T22:56:51.159651Z"
    }
   },
   "outputs": [
    {
     "data": {
      "text/plain": "ID                object\ncorrected         object\nreadable?         object\nfather          category\nfinancial       category\npay_per_week     float64\nfamily_ses      category\ndtype: object"
     },
     "execution_count": 11,
     "metadata": {},
     "output_type": "execute_result"
    }
   ],
   "source": [
    "# check the datatype of each column\n",
    "data_df.dtypes"
   ]
  },
  {
   "cell_type": "markdown",
   "source": [
    "Let us check the distribution of the target variable `family_ses` and `income`."
   ],
   "metadata": {
    "collapsed": false
   },
   "id": "229ef7a5d6dc2ecf"
  },
  {
   "cell_type": "code",
   "outputs": [
    {
     "data": {
      "text/plain": "family_ses\n4.0    2204\n3.0    1470\n2.0     275\n1.0      59\nName: count, dtype: int64"
     },
     "execution_count": 12,
     "metadata": {},
     "output_type": "execute_result"
    }
   ],
   "source": [
    "# check the distribution of the target variable\n",
    "data_df['family_ses'].value_counts()"
   ],
   "metadata": {
    "collapsed": false,
    "ExecuteTime": {
     "end_time": "2024-01-30T22:56:51.335296Z",
     "start_time": "2024-01-30T22:56:51.163848Z"
    }
   },
   "id": "53ea274ad6f2b476",
   "execution_count": 12
  },
  {
   "cell_type": "code",
   "outputs": [
    {
     "data": {
      "text/plain": "count     4720.000000\nmean       519.020913\nstd       1597.513746\nmin          0.250000\n25%        197.250000\n50%        350.000000\n75%        538.461538\nmax      61458.500000\nName: pay_per_week, dtype: float64"
     },
     "execution_count": 13,
     "metadata": {},
     "output_type": "execute_result"
    }
   ],
   "source": [
    "# check the distribution of pay_per_week\n",
    "data_df['pay_per_week'].describe()"
   ],
   "metadata": {
    "collapsed": false,
    "ExecuteTime": {
     "end_time": "2024-01-30T22:56:51.336214Z",
     "start_time": "2024-01-30T22:56:51.166869Z"
    }
   },
   "id": "d777b0d57f2c964a",
   "execution_count": 13
  },
  {
   "cell_type": "markdown",
   "source": [
    "We notice that the income has a wide range (outliers on the right tail). We will discard the outliers that are 3 standard deviations away from the mean."
   ],
   "metadata": {
    "collapsed": false
   },
   "id": "81220491a8033297"
  },
  {
   "cell_type": "code",
   "outputs": [
    {
     "name": "stdout",
     "output_type": "stream",
     "text": [
      "(4696, 7)\n"
     ]
    }
   ],
   "source": [
    "# remove outliers\n",
    "data_df = data_df[data_df['pay_per_week'] < data_df['pay_per_week'].mean() + 3*data_df['pay_per_week'].std()]\n",
    "\n",
    "print(data_df.shape)"
   ],
   "metadata": {
    "collapsed": false,
    "ExecuteTime": {
     "end_time": "2024-01-30T22:56:51.351612Z",
     "start_time": "2024-01-30T22:56:51.171233Z"
    }
   },
   "id": "8eecfebd873808e3",
   "execution_count": 14
  },
  {
   "cell_type": "code",
   "outputs": [
    {
     "data": {
      "text/plain": "count    4696.000000\nmean      439.817983\nstd       479.341075\nmin         0.250000\n25%       195.750000\n50%       349.125000\n75%       530.000000\nmax      5308.000000\nName: pay_per_week, dtype: float64"
     },
     "execution_count": 15,
     "metadata": {},
     "output_type": "execute_result"
    }
   ],
   "source": [
    "# check the distribution of pay_per_week again\n",
    "data_df['pay_per_week'].describe()"
   ],
   "metadata": {
    "collapsed": false,
    "ExecuteTime": {
     "end_time": "2024-01-30T22:56:51.352416Z",
     "start_time": "2024-01-30T22:56:51.174707Z"
    }
   },
   "id": "1e9e0c3520c9982c",
   "execution_count": 15
  },
  {
   "cell_type": "code",
   "outputs": [
    {
     "data": {
      "text/plain": "<Axes: >"
     },
     "execution_count": 16,
     "metadata": {},
     "output_type": "execute_result"
    },
    {
     "data": {
      "text/plain": "<Figure size 640x480 with 1 Axes>",
      "image/png": "[encoded data removed]"
     },
     "metadata": {},
     "output_type": "display_data"
    }
   ],
   "source": [
    "# let take a look at the distribution of pay_per_week\n",
    "data_df['pay_per_week'].hist(bins=50)"
   ],
   "metadata": {
    "collapsed": false,
    "ExecuteTime": {
     "end_time": "2024-01-30T22:56:51.559437Z",
     "start_time": "2024-01-30T22:56:51.178523Z"
    }
   },
   "id": "5a1daa4e797f27f7",
   "execution_count": 16
  },
  {
   "cell_type": "markdown",
   "source": [
    "Till this point, we have:\n",
    "\n",
    "1. categorical variable `family_ses`, which will be the target variable for **supervised learning - classification**\n",
    "2. numerical variable `income`, which will be the target variable for **supervised learning - regression**\n",
    "3. text variable `essay`, which will used for **unsupervised learning - topic modeling**. Also, it will serve as the input for the supervised learning models.\n",
    "\n",
    "Let us take another look at the data."
   ],
   "metadata": {
    "collapsed": false
   },
   "id": "cd49bd83ca6488b9"
  },
  {
   "cell_type": "code",
   "outputs": [
    {
     "name": "stdout",
     "output_type": "stream",
     "text": [
      "(4696, 7)\n"
     ]
    },
    {
     "data": {
      "text/plain": "         ID                                          corrected readable?  \\\n0   N10001N  Today is my 25th birthday and I am in hospital...       yes   \n3   N10004R  When I am 25 years old. I hope that I will be ...       yes   \n12  N10013S  Now that I am 25 and I have left college I thi...       yes   \n\n   father financial  pay_per_week family_ses  \n0     2.0       2.0        237.25        4.0  \n3     2.0       2.0        221.25        4.0  \n12    2.0       2.0        729.00        4.0  ",
      "text/html": "<div>\n<style scoped>\n    .dataframe tbody tr th:only-of-type {\n        vertical-align: middle;\n    }\n\n    .dataframe tbody tr th {\n        vertical-align: top;\n    }\n\n    .dataframe thead th {\n        text-align: right;\n    }\n</style>\n<table border=\"1\" class=\"dataframe\">\n  <thead>\n    <tr style=\"text-align: right;\">\n      <th></th>\n      <th>ID</th>\n      <th>corrected</th>\n      <th>readable?</th>\n      <th>father</th>\n      <th>financial</th>\n      <th>pay_per_week</th>\n      <th>family_ses</th>\n    </tr>\n  </thead>\n  <tbody>\n    <tr>\n      <th>0</th>\n      <td>N10001N</td>\n      <td>Today is my 25th birthday and I am in hospital...</td>\n      <td>yes</td>\n      <td>2.0</td>\n      <td>2.0</td>\n      <td>237.25</td>\n      <td>4.0</td>\n    </tr>\n    <tr>\n      <th>3</th>\n      <td>N10004R</td>\n      <td>When I am 25 years old. I hope that I will be ...</td>\n      <td>yes</td>\n      <td>2.0</td>\n      <td>2.0</td>\n      <td>221.25</td>\n      <td>4.0</td>\n    </tr>\n    <tr>\n      <th>12</th>\n      <td>N10013S</td>\n      <td>Now that I am 25 and I have left college I thi...</td>\n      <td>yes</td>\n      <td>2.0</td>\n      <td>2.0</td>\n      <td>729.00</td>\n      <td>4.0</td>\n    </tr>\n  </tbody>\n</table>\n</div>"
     },
     "execution_count": 17,
     "metadata": {},
     "output_type": "execute_result"
    }
   ],
   "source": [
    "# check shape\n",
    "print(data_df.shape)\n",
    "# preview the data\n",
    "data_df.head(3)"
   ],
   "metadata": {
    "collapsed": false,
    "ExecuteTime": {
     "end_time": "2024-01-30T22:56:51.560462Z",
     "start_time": "2024-01-30T22:56:51.368630Z"
    }
   },
   "id": "d24f665c87abf5fb",
   "execution_count": 17
  },
  {
   "cell_type": "code",
   "outputs": [
    {
     "data": {
      "text/plain": "                                            corrected family_ses  pay_per_week\n0   Today is my 25th birthday and I am in hospital...        4.0        237.25\n3   When I am 25 years old. I hope that I will be ...        4.0        221.25\n12  Now that I am 25 and I have left college I thi...        4.0        729.00",
      "text/html": "<div>\n<style scoped>\n    .dataframe tbody tr th:only-of-type {\n        vertical-align: middle;\n    }\n\n    .dataframe tbody tr th {\n        vertical-align: top;\n    }\n\n    .dataframe thead th {\n        text-align: right;\n    }\n</style>\n<table border=\"1\" class=\"dataframe\">\n  <thead>\n    <tr style=\"text-align: right;\">\n      <th></th>\n      <th>corrected</th>\n      <th>family_ses</th>\n      <th>pay_per_week</th>\n    </tr>\n  </thead>\n  <tbody>\n    <tr>\n      <th>0</th>\n      <td>Today is my 25th birthday and I am in hospital...</td>\n      <td>4.0</td>\n      <td>237.25</td>\n    </tr>\n    <tr>\n      <th>3</th>\n      <td>When I am 25 years old. I hope that I will be ...</td>\n      <td>4.0</td>\n      <td>221.25</td>\n    </tr>\n    <tr>\n      <th>12</th>\n      <td>Now that I am 25 and I have left college I thi...</td>\n      <td>4.0</td>\n      <td>729.00</td>\n    </tr>\n  </tbody>\n</table>\n</div>"
     },
     "execution_count": 18,
     "metadata": {},
     "output_type": "execute_result"
    }
   ],
   "source": [
    "# create a new dataframe with column corrected, family_ses and pay_per_week from data_df\n",
    "df = data_df[['corrected', 'family_ses', 'pay_per_week']]\n",
    "\n",
    "# preview the data\n",
    "df.head(3)"
   ],
   "metadata": {
    "collapsed": false,
    "ExecuteTime": {
     "end_time": "2024-01-30T22:56:51.561017Z",
     "start_time": "2024-01-30T22:56:51.375163Z"
    }
   },
   "id": "ceac2de63950cbe8",
   "execution_count": 18
  },
  {
   "cell_type": "code",
   "outputs": [],
   "source": [
    "# save the dataframe to a new csv file\n",
    "df.to_csv('cleaned_data.csv', index=False)"
   ],
   "metadata": {
    "collapsed": false,
    "ExecuteTime": {
     "end_time": "2024-01-30T22:56:51.625311Z",
     "start_time": "2024-01-30T22:56:51.384790Z"
    }
   },
   "id": "6f26e84500dff4c5",
   "execution_count": 19
  },
  {
   "cell_type": "markdown",
   "source": [
    "Next, we need to preprocess the text data."
   ],
   "metadata": {
    "collapsed": false
   },
   "id": "c1ca972f18825fe2"
  },
  {
   "cell_type": "markdown",
   "id": "6e7caf4fe68986e9",
   "metadata": {
    "collapsed": false
   },
   "source": [
    "## Text Preprocessing\n",
    "\n",
    "For future classification and regression tasks, I will take an **embedding** approach using word2vec. I will use the `gensim` library to train the word2vec model."
   ]
  },
  {
   "cell_type": "markdown",
   "source": [
    "\n",
    "Reference: \n",
    "- https://spotintelligence.com/2023/02/15/word2vec-for-text-classification/#Word2Vec_for_text_classification"
   ],
   "metadata": {
    "collapsed": false
   },
   "id": "f3942a4d6b8b7d65"
  },
  {
   "cell_type": "code",
   "outputs": [
    {
     "name": "stderr",
     "output_type": "stream",
     "text": [
      "/var/folders/zh/79y5ykz51rxcnjchzb73nfxw0000gn/T/ipykernel_72874/889133808.py:14: SettingWithCopyWarning: \n",
      "A value is trying to be set on a copy of a slice from a DataFrame.\n",
      "Try using .loc[row_indexer,col_indexer] = value instead\n",
      "\n",
      "See the caveats in the documentation: https://pandas.pydata.org/pandas-docs/stable/user_guide/indexing.html#returning-a-view-versus-a-copy\n",
      "  df['essay'] = df['corrected'].apply(preprocess)\n"
     ]
    }
   ],
   "source": [
    "from nltk.corpus import stopwords\n",
    "from nltk.tokenize import word_tokenize\n",
    "import string\n",
    "\n",
    "stop_words = set(stopwords.words('english'))\n",
    "def preprocess(text):\n",
    "    text = text.lower()\n",
    "    text = ''.join([word for word in text if word not in string.punctuation])\n",
    "    tokens = word_tokenize(text)\n",
    "    tokens = [word for word in tokens if word not in stop_words]\n",
    "    return ' '.join(tokens)\n",
    "\n",
    "# apply the function to the 'corrected' column\n",
    "df['essay'] = df['corrected'].apply(preprocess)"
   ],
   "metadata": {
    "collapsed": false,
    "ExecuteTime": {
     "end_time": "2024-01-30T22:56:53.308194Z",
     "start_time": "2024-01-30T22:56:51.451369Z"
    }
   },
   "id": "30a084e51d854cc0",
   "execution_count": 20
  },
  {
   "cell_type": "code",
   "outputs": [],
   "source": [
    "from gensim.models import Word2Vec\n",
    "\n",
    "sentences = [sentence.split() for sentence in df['essay']]\n",
    "w2v_model = Word2Vec(sentences, window=5, min_count=5, workers=4)"
   ],
   "metadata": {
    "collapsed": false,
    "ExecuteTime": {
     "end_time": "2024-01-30T22:56:54.179083Z",
     "start_time": "2024-01-30T22:56:53.286815Z"
    }
   },
   "id": "abdda44fd0e9ee2e",
   "execution_count": 21
  },
  {
   "cell_type": "code",
   "outputs": [],
   "source": [
    "import numpy as np\n",
    "\n",
    "def vectorize(sentence):\n",
    "    words = sentence.split()\n",
    "    words_vecs = [w2v_model.wv[word] for word in words if word in w2v_model.wv]\n",
    "    if len(words_vecs) == 0:\n",
    "        return np.zeros(100)\n",
    "    words_vecs = np.array(words_vecs)\n",
    "    return words_vecs.mean(axis=0)"
   ],
   "metadata": {
    "collapsed": false,
    "ExecuteTime": {
     "end_time": "2024-01-30T22:56:54.185190Z",
     "start_time": "2024-01-30T22:56:54.181535Z"
    }
   },
   "id": "7c28644928f6e237",
   "execution_count": 22
  },
  {
   "cell_type": "code",
   "outputs": [],
   "source": [
    "essays = np.array([vectorize(sentence) for sentence in df['essay']])"
   ],
   "metadata": {
    "collapsed": false,
    "ExecuteTime": {
     "end_time": "2024-01-30T22:56:54.604523Z",
     "start_time": "2024-01-30T22:56:54.184401Z"
    }
   },
   "id": "783537c0cae68b5a",
   "execution_count": 23
  },
  {
   "cell_type": "code",
   "outputs": [
    {
     "data": {
      "text/plain": "array([[-2.25361764e-01,  2.62811154e-01,  1.13309413e-01,\n        -1.53241992e-01, -4.49879244e-02, -7.71004111e-02,\n         3.07783127e-01,  6.02508008e-01, -1.67315662e-01,\n        -1.92314684e-01,  1.20013632e-01, -3.01180691e-01,\n         1.43110961e-01, -6.64033964e-02,  3.38556394e-02,\n        -3.42258126e-01,  4.06566352e-01, -4.82220888e-01,\n        -2.79698163e-01, -7.21583426e-01, -1.04887903e-01,\n         2.43179306e-01, -3.56257588e-01, -2.70024031e-01,\n        -1.62293583e-01, -1.22696303e-01,  1.30371764e-01,\n        -2.47618198e-01, -3.70857716e-01, -1.55908568e-02,\n         3.20075005e-01, -2.92620450e-01,  5.05863950e-02,\n        -2.30930999e-01, -2.85560787e-01,  2.41886437e-01,\n         2.56357849e-01, -5.16456246e-01, -1.37954757e-01,\n        -3.54355872e-01, -4.52492237e-02, -8.58089030e-02,\n         1.77981481e-01, -9.11854580e-02,  1.22150727e-01,\n        -9.77069065e-02, -9.47081596e-02,  2.28215858e-01,\n        -1.66618317e-01,  4.83938754e-01,  2.77357623e-02,\n        -1.24192081e-01,  1.05150737e-01, -2.07073271e-01,\n         3.82831506e-02, -1.41462192e-01,  5.34579694e-01,\n        -2.69378781e-01, -3.28710705e-01, -2.43110001e-01,\n         2.62198359e-01, -7.32944831e-02,  3.96802187e-01,\n        -5.91439307e-01, -5.08370280e-01,  7.24896073e-01,\n         3.50446522e-01,  3.53760540e-01, -5.91784000e-01,\n         3.48881274e-01, -3.52033645e-01,  3.60768557e-01,\n         4.20423716e-01, -1.25998646e-01,  4.49655831e-01,\n         3.75865847e-01,  1.91905543e-01,  1.71672162e-02,\n        -3.74788970e-01, -3.92609574e-02, -1.67550385e-01,\n         1.34958759e-01, -7.57303357e-01,  5.98594069e-01,\n        -1.62877783e-01, -1.05610333e-01,  5.02492711e-02,\n        -2.77633548e-01,  2.99403846e-01,  4.82371986e-01,\n         2.07644746e-01,  2.59361356e-01,  2.89666913e-02,\n         1.67440251e-01,  5.09400666e-01,  3.29715103e-01,\n        -8.48397166e-02, -2.38054432e-02,  1.36109814e-01,\n        -3.93599927e-01],\n       [-8.75572935e-02,  1.98155090e-01,  2.49267712e-01,\n         2.26038858e-01, -1.01097301e-01, -5.66641212e-01,\n         3.55877042e-01,  6.22254848e-01, -2.29991645e-01,\n        -2.73461521e-01,  1.70725301e-01, -3.26588333e-01,\n         8.22797716e-02,  3.18667412e-01,  1.03685983e-01,\n        -1.07788198e-01,  8.19866806e-02, -2.73252040e-01,\n        -3.74125689e-01, -5.96436083e-01,  1.29604414e-01,\n         1.03208743e-01,  2.59216130e-01,  2.68190857e-02,\n        -1.89269394e-01, -3.21430601e-02, -2.41205946e-01,\n        -8.21800902e-02, -8.18929374e-02, -1.70064531e-03,\n         2.45471954e-01, -2.57055432e-01,  4.61752206e-01,\n        -3.67248297e-01,  5.33828251e-02,  5.21027267e-01,\n         1.18807659e-01,  7.24740997e-02, -2.84072310e-01,\n         9.80107635e-02,  2.86071002e-02, -6.67305067e-02,\n        -2.98364639e-01, -2.05617025e-01, -2.06714291e-02,\n        -1.82391971e-01, -1.39265850e-01, -1.12383878e-02,\n         2.90475637e-01,  4.08374667e-01,  1.45912096e-01,\n        -5.30438907e-02,  1.66487888e-01,  6.60202876e-02,\n         6.18196204e-02,  3.53665531e-01,  4.41134840e-01,\n         1.00394450e-01, -2.17754021e-01,  1.69542879e-01,\n         1.15301281e-01, -9.48730409e-02,  2.62414783e-01,\n        -1.83333442e-01, -7.30418921e-01,  6.63867116e-01,\n         1.73779912e-02,  3.80980015e-01, -6.29222453e-01,\n         5.34372032e-01, -2.44280159e-01,  3.03803273e-02,\n         6.39005721e-01, -8.68958160e-02,  5.43605208e-01,\n         5.31758927e-02, -1.23431899e-01,  6.36000186e-04,\n        -3.50785881e-01, -1.29588380e-01, -5.20210803e-01,\n         2.78575927e-01, -3.79373014e-01,  3.68503392e-01,\n        -2.92759299e-01, -1.85126111e-01,  4.31199223e-01,\n         1.50353029e-01,  3.41311753e-01, -7.72647485e-02,\n         1.90476090e-01,  1.49164110e-01, -4.58818721e-03,\n         2.39201218e-01,  6.84819698e-01,  5.41515112e-01,\n        -3.14491391e-02, -4.93354350e-01, -4.06550080e-01,\n        -5.05122868e-03],\n       [ 5.29567227e-02,  3.91432881e-01,  1.78675920e-01,\n         5.73184155e-02,  1.05893493e-01, -5.73254168e-01,\n         1.10510230e-01,  6.25219584e-01, -3.50463539e-01,\n        -1.43620774e-01, -1.17741764e-01, -3.78163993e-01,\n        -1.83276802e-01,  1.50661200e-01,  3.40576649e-01,\n        -4.35531996e-02, -4.19870540e-02, -2.14890301e-01,\n        -2.12622896e-01, -6.59854472e-01,  2.25185737e-01,\n        -1.69919729e-02,  4.33440834e-01, -1.47145048e-01,\n        -1.42360881e-01,  8.11881945e-03, -2.23957151e-01,\n        -5.97799085e-02, -1.04164876e-01,  1.00624703e-01,\n         1.39954880e-01, -4.52134572e-02,  3.24768126e-01,\n        -2.93452770e-01,  2.62043383e-02,  5.03350675e-01,\n         2.51928605e-02,  1.95245352e-02, -6.71925768e-02,\n        -1.76767424e-01, -2.67619286e-02, -1.89774558e-01,\n        -2.18641356e-01,  8.60500932e-02,  2.07393512e-01,\n         2.54854020e-02, -2.41996199e-01, -4.08737287e-02,\n         3.26123267e-01,  1.18180953e-01,  3.07950944e-01,\n        -2.75458157e-01, -4.85073514e-02, -4.28412370e-02,\n        -3.11411675e-02,  3.76488686e-01,  2.10910544e-01,\n         7.58134434e-03, -1.62126124e-01,  6.58046678e-02,\n         5.39742286e-05, -1.75726816e-01,  7.61252195e-02,\n         1.03559732e-01, -4.86538947e-01,  4.22483802e-01,\n         2.35012472e-01,  4.18382108e-01, -4.80561376e-01,\n         3.38591993e-01, -2.30258673e-01, -1.41726539e-01,\n         2.80924767e-01, -3.25286388e-02,  1.38521850e-01,\n         5.90762403e-03, -1.22128546e-01,  6.17612107e-03,\n        -3.85240853e-01,  5.84857464e-02, -3.21201354e-01,\n         1.65151823e-02, -3.18013549e-01,  2.13944942e-01,\n        -2.05626488e-02, -7.60331098e-03,  3.37022901e-01,\n         7.75861740e-02,  4.84534651e-01, -1.33140147e-01,\n         2.30727822e-01,  8.51030797e-02,  1.74859520e-02,\n         7.37414658e-02,  5.31356633e-01,  2.69280463e-01,\n         7.75477216e-02, -4.45735008e-01, -9.65393186e-02,\n        -1.42123569e-02]], dtype=float32)"
     },
     "execution_count": 24,
     "metadata": {},
     "output_type": "execute_result"
    }
   ],
   "source": [
    "# preview essays\n",
    "essays[:3]"
   ],
   "metadata": {
    "collapsed": false,
    "ExecuteTime": {
     "end_time": "2024-01-30T22:56:54.615017Z",
     "start_time": "2024-01-30T22:56:54.607894Z"
    }
   },
   "id": "406acade4f5f16e9",
   "execution_count": 24
  },
  {
   "cell_type": "code",
   "outputs": [
    {
     "name": "stderr",
     "output_type": "stream",
     "text": [
      "/var/folders/zh/79y5ykz51rxcnjchzb73nfxw0000gn/T/ipykernel_72874/208592734.py:2: SettingWithCopyWarning: \n",
      "A value is trying to be set on a copy of a slice from a DataFrame.\n",
      "Try using .loc[row_indexer,col_indexer] = value instead\n",
      "\n",
      "See the caveats in the documentation: https://pandas.pydata.org/pandas-docs/stable/user_guide/indexing.html#returning-a-view-versus-a-copy\n",
      "  df['essay_vec'] = list(essays)\n"
     ]
    },
    {
     "data": {
      "text/plain": "                                            corrected family_ses  \\\n0   Today is my 25th birthday and I am in hospital...        4.0   \n3   When I am 25 years old. I hope that I will be ...        4.0   \n12  Now that I am 25 and I have left college I thi...        4.0   \n\n    pay_per_week                                              essay  \\\n0         237.25  today 25th birthday hospital first baby child ...   \n3         221.25  25 years old hope married raising family would...   \n12        729.00  25 left college think go ask interview fire st...   \n\n                                            essay_vec  \n0   [-0.22536176, 0.26281115, 0.11330941, -0.15324...  \n3   [-0.08755729, 0.19815509, 0.24926771, 0.226038...  \n12  [0.052956723, 0.39143288, 0.17867592, 0.057318...  ",
      "text/html": "<div>\n<style scoped>\n    .dataframe tbody tr th:only-of-type {\n        vertical-align: middle;\n    }\n\n    .dataframe tbody tr th {\n        vertical-align: top;\n    }\n\n    .dataframe thead th {\n        text-align: right;\n    }\n</style>\n<table border=\"1\" class=\"dataframe\">\n  <thead>\n    <tr style=\"text-align: right;\">\n      <th></th>\n      <th>corrected</th>\n      <th>family_ses</th>\n      <th>pay_per_week</th>\n      <th>essay</th>\n      <th>essay_vec</th>\n    </tr>\n  </thead>\n  <tbody>\n    <tr>\n      <th>0</th>\n      <td>Today is my 25th birthday and I am in hospital...</td>\n      <td>4.0</td>\n      <td>237.25</td>\n      <td>today 25th birthday hospital first baby child ...</td>\n      <td>[-0.22536176, 0.26281115, 0.11330941, -0.15324...</td>\n    </tr>\n    <tr>\n      <th>3</th>\n      <td>When I am 25 years old. I hope that I will be ...</td>\n      <td>4.0</td>\n      <td>221.25</td>\n      <td>25 years old hope married raising family would...</td>\n      <td>[-0.08755729, 0.19815509, 0.24926771, 0.226038...</td>\n    </tr>\n    <tr>\n      <th>12</th>\n      <td>Now that I am 25 and I have left college I thi...</td>\n      <td>4.0</td>\n      <td>729.00</td>\n      <td>25 left college think go ask interview fire st...</td>\n      <td>[0.052956723, 0.39143288, 0.17867592, 0.057318...</td>\n    </tr>\n  </tbody>\n</table>\n</div>"
     },
     "execution_count": 25,
     "metadata": {},
     "output_type": "execute_result"
    }
   ],
   "source": [
    "# put essays back to df\n",
    "df['essay_vec'] = list(essays)\n",
    "\n",
    "# preview the data\n",
    "df.head(3)"
   ],
   "metadata": {
    "collapsed": false,
    "ExecuteTime": {
     "end_time": "2024-01-30T22:56:54.617832Z",
     "start_time": "2024-01-30T22:56:54.614061Z"
    }
   },
   "id": "6007cb4594a29c89",
   "execution_count": 25
  },
  {
   "cell_type": "markdown",
   "source": [
    "# Modelling \n",
    "\n",
    "In the following sections, I will build a classification model to predict the family_ses and a regression model to predict the income."
   ],
   "metadata": {
    "collapsed": false
   },
   "id": "97160e971459f59a"
  },
  {
   "cell_type": "markdown",
   "source": [
    "## Classification Model"
   ],
   "metadata": {
    "collapsed": false
   },
   "id": "ebc758c5916d867d"
  },
  {
   "cell_type": "code",
   "outputs": [
    {
     "data": {
      "text/plain": "family_ses\n4.0    2195\n3.0    1459\n2.0     275\n1.0      58\nName: count, dtype: int64"
     },
     "execution_count": 26,
     "metadata": {},
     "output_type": "execute_result"
    }
   ],
   "source": [
    "# check the distribution of the target variable\n",
    "df['family_ses'].value_counts()"
   ],
   "metadata": {
    "collapsed": false,
    "ExecuteTime": {
     "end_time": "2024-01-30T22:56:54.631588Z",
     "start_time": "2024-01-30T22:56:54.617264Z"
    }
   },
   "id": "c92fde1641321e1f",
   "execution_count": 26
  },
  {
   "cell_type": "code",
   "outputs": [
    {
     "ename": "NameError",
     "evalue": "name 'y' is not defined",
     "output_type": "error",
     "traceback": [
      "\u001B[0;31m---------------------------------------------------------------------------\u001B[0m",
      "\u001B[0;31mNameError\u001B[0m                                 Traceback (most recent call last)",
      "Cell \u001B[0;32mIn[27], line 1\u001B[0m\n\u001B[0;32m----> 1\u001B[0m \u001B[43my\u001B[49m\n",
      "\u001B[0;31mNameError\u001B[0m: name 'y' is not defined"
     ]
    }
   ],
   "source": [
    "y"
   ],
   "metadata": {
    "collapsed": false,
    "ExecuteTime": {
     "end_time": "2024-01-30T22:56:54.968480Z",
     "start_time": "2024-01-30T22:56:54.620647Z"
    }
   },
   "id": "1719b2555eb5222b",
   "execution_count": 27
  },
  {
   "cell_type": "code",
   "outputs": [],
   "source": [
    "from sklearn.model_selection import train_test_split\n",
    "from sklearn.ensemble import RandomForestClassifier\n",
    "from sklearn.metrics import accuracy_score, classification_report, confusion_matrix\n",
    "\n",
    "# split the data\n",
    "X = np.array(list(df['essay_vec']))\n",
    "y = np.array(df['family_ses'])\n",
    "\n",
    "X_train, X_test, y_train, y_test = train_test_split(X, y, test_size=0.2, random_state=42)\n",
    "\n",
    "# build the model\n",
    "clf = RandomForestClassifier(n_estimators=100, random_state=42)\n",
    "clf.fit(X_train, y_train)\n",
    "\n",
    "# make predictions\n",
    "y_pred = clf.predict(X_test)\n",
    "\n",
    "# evaluate the model\n",
    "print('Accuracy:', accuracy_score(y_test, y_pred))\n",
    "print('Classification Report:', classification_report(y_test, y_pred))\n",
    "print('Confusion Matrix:', confusion_matrix(y_test, y_pred))\n"
   ],
   "metadata": {
    "collapsed": false,
    "ExecuteTime": {
     "end_time": "2024-01-30T22:56:54.969997Z",
     "start_time": "2024-01-30T22:56:54.969740Z"
    }
   },
   "id": "d21338680e969ae1",
   "execution_count": null
  },
  {
   "cell_type": "code",
   "outputs": [],
   "source": [],
   "metadata": {
    "collapsed": false,
    "ExecuteTime": {
     "end_time": "2024-01-30T22:56:54.970833Z",
     "start_time": "2024-01-30T22:56:54.970805Z"
    }
   },
   "id": "9d227e79f8d6f9ac"
  }
 ],
 "metadata": {
  "kernelspec": {
   "display_name": "Python 3",
   "language": "python",
   "name": "python3"
  },
  "language_info": {
   "codemirror_mode": {
    "name": "ipython",
    "version": 2
   },
   "file_extension": ".py",
   "mimetype": "text/x-python",
   "name": "python",
   "nbconvert_exporter": "python",
   "pygments_lexer": "ipython2",
   "version": "2.7.6"
  }
 },
 "nbformat": 4,
 "nbformat_minor": 5
}

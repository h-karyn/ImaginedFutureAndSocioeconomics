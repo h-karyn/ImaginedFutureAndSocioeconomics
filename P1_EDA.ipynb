{
 "cells": [
  {
   "cell_type": "markdown",
   "source": [
    "# Exploratory Data Analysis \n",
    "##         -- Children's Imagined Future and its association with socioeconomic status"
   ],
   "metadata": {
    "collapsed": false
   },
   "id": "e3706256f60dd5e4"
  },
  {
   "cell_type": "markdown",
   "source": [
    "## Background \n",
    "\n",
    "“Imagine you are now 25 years old. Write about the life you are leading, your interests, your home life and your work at the age of 25”. As a part of a longitudinal study on individuals born in 1958, over 10,000 11-year-old children in the UK were asked to write an essay given the instruction above (Center for Longitudinal Studies (CLS) | 1958 National Child Development Study). Their families’ demographic information, including socioeconomic status (SES) related items (e.g., father’s occupation), was recorded. At the age of 42, they participated in another sweep of the study, which collected information including their income range. \n",
    "\n",
    "One study examined this corpus and themes of children’s imagined future. With selected sample and a qualitative approach, it identified a wide range of themes, including marriage, family members, occupation, money, domestic life, vacations, leisure activities and animals. Although the children rarely described their future in terms of status, researchers discovered that high SES children are more likely to write about imaginations characterizing high-prestige lifestyles (e.g. large house, fancy vehicle and overseas vacation) (Elliott, 2010).\n",
    "\n",
    "So far, no existing literature using this corpus has investigated this relationship of SES and children’s writing with a machine learning/NLP approach. Thus, I am here to fill the gap and discover new knowledge:). "
   ],
   "metadata": {
    "collapsed": false
   },
   "id": "7c1012406e4e8504"
  },
  {
   "cell_type": "markdown",
   "source": [
    "## Data \n",
    "\n",
    "We (my collaborator Dr. Holly Engstrom) obtained the longitudinal data at CLS' data access application portal. We first selected the age-11 and age-42 waves as our data, which contain information on:\n",
    "1. children's essays\n",
    "2. children's father's occupation\n",
    "3. whether the family experienced financial hardship\n",
    "4. weekly income at the age of 42.  \n",
    "\n",
    "We had put enormous effort to clean and preprocess the data, including manually correcting all the misspellings in the essays. The data after processing is saved in full_data.csv under the **current repository**. "
   ],
   "metadata": {
    "collapsed": false
   },
   "id": "3eb840b5a5cad4eb"
  },
  {
   "cell_type": "markdown",
   "source": [
    "## Data Overview    "
   ],
   "metadata": {
    "collapsed": false
   },
   "id": "30cf737325dc425a"
  },
  {
   "cell_type": "code",
   "outputs": [],
   "source": [
    "import numpy as np\n",
    "import pandas as pd\n",
    "import matplotlib.pyplot as plt\n",
    "import seaborn as sns"
   ],
   "metadata": {
    "collapsed": false,
    "ExecuteTime": {
     "end_time": "2024-01-24T01:31:36.943345Z",
     "start_time": "2024-01-24T01:31:36.937405Z"
    }
   },
   "id": "f4be43f0703cf0ce",
   "execution_count": 1
  },
  {
   "cell_type": "code",
   "outputs": [
    {
     "data": {
      "text/plain": "(18567, 13)"
     },
     "execution_count": 2,
     "metadata": {},
     "output_type": "execute_result"
    }
   ],
   "source": [
    "# read data \n",
    "data_df = pd.read_csv('full_data.csv') \n",
    "data_df.shape"
   ],
   "metadata": {
    "collapsed": false,
    "ExecuteTime": {
     "end_time": "2024-01-24T01:31:37.139751Z",
     "start_time": "2024-01-24T01:31:36.939532Z"
    }
   },
   "id": "a940333ddf9bcb6a",
   "execution_count": 2
  },
  {
   "cell_type": "code",
   "outputs": [
    {
     "data": {
      "text/plain": "        ID file_name                                           original  \\\n0  N10001N  B771-780  Today is my 25th birthday and I am in hospital...   \n1  N10002P     J1-10  The dog pounded up at me when i reached for he...   \n2  N10003Q     J1-10  I would get married and be a swimming instruct...   \n3  N10004R  A821-830  When I am 25 years old. I hop that I will be m...   \n4  N10005S       NaN                                                NaN   \n\n                                           corrected  misspellings readable?  \\\n0  Today is my 25th birthday and I am in hospital...          10.0       yes   \n1  The dog pounded up at me when i reached for he...           9.0       yes   \n2  I would get married and be a swimming instruct...           4.0       yes   \n3  When I am 25 years old. I hope that I will be ...          23.0       yes   \n4                                                NaN           NaN       NaN   \n\n  RA_name completed?  word_count  father  mother  financial  pay_per_week  \n0   Anika        yes       306.0     2.0    -1.0        2.0        237.25  \n1  Andrea        yes       200.0    -1.0    -1.0       -1.0           NaN  \n2  Andrea        yes       268.0     3.0     6.0        1.0           NaN  \n3  Manson        yes       169.0     2.0     8.0        2.0        221.25  \n4     NaN        NaN         NaN     2.0     6.0        2.0           NaN  ",
      "text/html": "<div>\n<style scoped>\n    .dataframe tbody tr th:only-of-type {\n        vertical-align: middle;\n    }\n\n    .dataframe tbody tr th {\n        vertical-align: top;\n    }\n\n    .dataframe thead th {\n        text-align: right;\n    }\n</style>\n<table border=\"1\" class=\"dataframe\">\n  <thead>\n    <tr style=\"text-align: right;\">\n      <th></th>\n      <th>ID</th>\n      <th>file_name</th>\n      <th>original</th>\n      <th>corrected</th>\n      <th>misspellings</th>\n      <th>readable?</th>\n      <th>RA_name</th>\n      <th>completed?</th>\n      <th>word_count</th>\n      <th>father</th>\n      <th>mother</th>\n      <th>financial</th>\n      <th>pay_per_week</th>\n    </tr>\n  </thead>\n  <tbody>\n    <tr>\n      <th>0</th>\n      <td>N10001N</td>\n      <td>B771-780</td>\n      <td>Today is my 25th birthday and I am in hospital...</td>\n      <td>Today is my 25th birthday and I am in hospital...</td>\n      <td>10.0</td>\n      <td>yes</td>\n      <td>Anika</td>\n      <td>yes</td>\n      <td>306.0</td>\n      <td>2.0</td>\n      <td>-1.0</td>\n      <td>2.0</td>\n      <td>237.25</td>\n    </tr>\n    <tr>\n      <th>1</th>\n      <td>N10002P</td>\n      <td>J1-10</td>\n      <td>The dog pounded up at me when i reached for he...</td>\n      <td>The dog pounded up at me when i reached for he...</td>\n      <td>9.0</td>\n      <td>yes</td>\n      <td>Andrea</td>\n      <td>yes</td>\n      <td>200.0</td>\n      <td>-1.0</td>\n      <td>-1.0</td>\n      <td>-1.0</td>\n      <td>NaN</td>\n    </tr>\n    <tr>\n      <th>2</th>\n      <td>N10003Q</td>\n      <td>J1-10</td>\n      <td>I would get married and be a swimming instruct...</td>\n      <td>I would get married and be a swimming instruct...</td>\n      <td>4.0</td>\n      <td>yes</td>\n      <td>Andrea</td>\n      <td>yes</td>\n      <td>268.0</td>\n      <td>3.0</td>\n      <td>6.0</td>\n      <td>1.0</td>\n      <td>NaN</td>\n    </tr>\n    <tr>\n      <th>3</th>\n      <td>N10004R</td>\n      <td>A821-830</td>\n      <td>When I am 25 years old. I hop that I will be m...</td>\n      <td>When I am 25 years old. I hope that I will be ...</td>\n      <td>23.0</td>\n      <td>yes</td>\n      <td>Manson</td>\n      <td>yes</td>\n      <td>169.0</td>\n      <td>2.0</td>\n      <td>8.0</td>\n      <td>2.0</td>\n      <td>221.25</td>\n    </tr>\n    <tr>\n      <th>4</th>\n      <td>N10005S</td>\n      <td>NaN</td>\n      <td>NaN</td>\n      <td>NaN</td>\n      <td>NaN</td>\n      <td>NaN</td>\n      <td>NaN</td>\n      <td>NaN</td>\n      <td>NaN</td>\n      <td>2.0</td>\n      <td>6.0</td>\n      <td>2.0</td>\n      <td>NaN</td>\n    </tr>\n  </tbody>\n</table>\n</div>"
     },
     "execution_count": 3,
     "metadata": {},
     "output_type": "execute_result"
    }
   ],
   "source": [
    "# get an overview of the top-n rows/samples\n",
    "data_df.head()"
   ],
   "metadata": {
    "collapsed": false,
    "ExecuteTime": {
     "end_time": "2024-01-24T01:31:37.147809Z",
     "start_time": "2024-01-24T01:31:37.139493Z"
    }
   },
   "id": "6bca40fbefee53f5",
   "execution_count": 3
  },
  {
   "cell_type": "markdown",
   "source": [
    "## Data Cleaning\n",
    "\n",
    "Since column file_name, original, misspellings, RA_name, completed?, word_count, and mother are not revalent to our analysis, I will drop those columns. "
   ],
   "metadata": {
    "collapsed": false
   },
   "id": "b8c0b3201090d9d6"
  },
  {
   "cell_type": "code",
   "outputs": [
    {
     "data": {
      "text/plain": "        ID                                          corrected readable?  \\\n0  N10001N  Today is my 25th birthday and I am in hospital...       yes   \n1  N10002P  The dog pounded up at me when i reached for he...       yes   \n2  N10003Q  I would get married and be a swimming instruct...       yes   \n\n   father  financial  pay_per_week  \n0     2.0        2.0        237.25  \n1    -1.0       -1.0           NaN  \n2     3.0        1.0           NaN  ",
      "text/html": "<div>\n<style scoped>\n    .dataframe tbody tr th:only-of-type {\n        vertical-align: middle;\n    }\n\n    .dataframe tbody tr th {\n        vertical-align: top;\n    }\n\n    .dataframe thead th {\n        text-align: right;\n    }\n</style>\n<table border=\"1\" class=\"dataframe\">\n  <thead>\n    <tr style=\"text-align: right;\">\n      <th></th>\n      <th>ID</th>\n      <th>corrected</th>\n      <th>readable?</th>\n      <th>father</th>\n      <th>financial</th>\n      <th>pay_per_week</th>\n    </tr>\n  </thead>\n  <tbody>\n    <tr>\n      <th>0</th>\n      <td>N10001N</td>\n      <td>Today is my 25th birthday and I am in hospital...</td>\n      <td>yes</td>\n      <td>2.0</td>\n      <td>2.0</td>\n      <td>237.25</td>\n    </tr>\n    <tr>\n      <th>1</th>\n      <td>N10002P</td>\n      <td>The dog pounded up at me when i reached for he...</td>\n      <td>yes</td>\n      <td>-1.0</td>\n      <td>-1.0</td>\n      <td>NaN</td>\n    </tr>\n    <tr>\n      <th>2</th>\n      <td>N10003Q</td>\n      <td>I would get married and be a swimming instruct...</td>\n      <td>yes</td>\n      <td>3.0</td>\n      <td>1.0</td>\n      <td>NaN</td>\n    </tr>\n  </tbody>\n</table>\n</div>"
     },
     "execution_count": 4,
     "metadata": {},
     "output_type": "execute_result"
    }
   ],
   "source": [
    "# drop irrelevant columns\n",
    "data_df = data_df.drop(['file_name', 'original', 'misspellings', 'word_count','RA_name', 'completed?', 'mother'], axis=1)\n",
    "data_df.head(3)"
   ],
   "metadata": {
    "collapsed": false,
    "ExecuteTime": {
     "end_time": "2024-01-24T01:31:37.154090Z",
     "start_time": "2024-01-24T01:31:37.151916Z"
    }
   },
   "id": "6bae0d3e2424af06",
   "execution_count": 4
  },
  {
   "cell_type": "code",
   "outputs": [
    {
     "data": {
      "text/plain": "(4843, 6)"
     },
     "execution_count": 5,
     "metadata": {},
     "output_type": "execute_result"
    }
   ],
   "source": [
    "# drop rows with missing values\n",
    "data_df = data_df.dropna()\n",
    "\n",
    "data_df.shape"
   ],
   "metadata": {
    "collapsed": false,
    "ExecuteTime": {
     "end_time": "2024-01-24T01:31:37.169442Z",
     "start_time": "2024-01-24T01:31:37.156391Z"
    }
   },
   "id": "33d93aca97ac0da0",
   "execution_count": 5
  },
  {
   "cell_type": "markdown",
   "source": [
    "Clean the 'readable?' column"
   ],
   "metadata": {
    "collapsed": false
   },
   "id": "3b77dde7b9c8b8e8"
  },
  {
   "cell_type": "code",
   "outputs": [
    {
     "name": "stdout",
     "output_type": "stream",
     "text": [
      "['yes' 'no' 'yexs' 'yea']\n",
      "['yes' 'no']\n"
     ]
    },
    {
     "data": {
      "text/plain": "(4720, 6)"
     },
     "execution_count": 6,
     "metadata": {},
     "output_type": "execute_result"
    }
   ],
   "source": [
    "# turn 'readable?' to lowercase\n",
    "data_df['readable?'] = data_df['readable?'].str.lower()\n",
    "\n",
    "# check the unique values\n",
    "print(data_df['readable?'].unique())\n",
    "\n",
    "# replace 'yexs' and 'yea' with 'yes'\n",
    "data_df['readable?'] = data_df['readable?'].replace(['yexs', 'yea'], 'yes')\n",
    "\n",
    "# check the unique values again\n",
    "print(data_df['readable?'].unique())\n",
    "\n",
    "# drop rows with 'no'\n",
    "data_df = data_df[data_df['readable?'] == 'yes']\n",
    "\n",
    "data_df.shape"
   ],
   "metadata": {
    "collapsed": false,
    "ExecuteTime": {
     "end_time": "2024-01-24T01:31:37.170066Z",
     "start_time": "2024-01-24T01:31:37.161591Z"
    }
   },
   "id": "3df500bc3781ffbd",
   "execution_count": 6
  },
  {
   "cell_type": "code",
   "outputs": [
    {
     "data": {
      "text/plain": "         ID                                          corrected readable?  \\\n0   N10001N  Today is my 25th birthday and I am in hospital...       yes   \n3   N10004R  When I am 25 years old. I hope that I will be ...       yes   \n12  N10013S  Now that I am 25 and I have left college I thi...       yes   \n\n    father  financial  pay_per_week  \n0      2.0        2.0        237.25  \n3      2.0        2.0        221.25  \n12     2.0        2.0        729.00  ",
      "text/html": "<div>\n<style scoped>\n    .dataframe tbody tr th:only-of-type {\n        vertical-align: middle;\n    }\n\n    .dataframe tbody tr th {\n        vertical-align: top;\n    }\n\n    .dataframe thead th {\n        text-align: right;\n    }\n</style>\n<table border=\"1\" class=\"dataframe\">\n  <thead>\n    <tr style=\"text-align: right;\">\n      <th></th>\n      <th>ID</th>\n      <th>corrected</th>\n      <th>readable?</th>\n      <th>father</th>\n      <th>financial</th>\n      <th>pay_per_week</th>\n    </tr>\n  </thead>\n  <tbody>\n    <tr>\n      <th>0</th>\n      <td>N10001N</td>\n      <td>Today is my 25th birthday and I am in hospital...</td>\n      <td>yes</td>\n      <td>2.0</td>\n      <td>2.0</td>\n      <td>237.25</td>\n    </tr>\n    <tr>\n      <th>3</th>\n      <td>N10004R</td>\n      <td>When I am 25 years old. I hope that I will be ...</td>\n      <td>yes</td>\n      <td>2.0</td>\n      <td>2.0</td>\n      <td>221.25</td>\n    </tr>\n    <tr>\n      <th>12</th>\n      <td>N10013S</td>\n      <td>Now that I am 25 and I have left college I thi...</td>\n      <td>yes</td>\n      <td>2.0</td>\n      <td>2.0</td>\n      <td>729.00</td>\n    </tr>\n  </tbody>\n</table>\n</div>"
     },
     "execution_count": 7,
     "metadata": {},
     "output_type": "execute_result"
    }
   ],
   "source": [
    "# preview the data\n",
    "data_df.head(3) "
   ],
   "metadata": {
    "collapsed": false,
    "ExecuteTime": {
     "end_time": "2024-01-24T01:31:37.197200Z",
     "start_time": "2024-01-24T01:31:37.169407Z"
    }
   },
   "id": "62760472d8461b0b",
   "execution_count": 7
  },
  {
   "cell_type": "markdown",
   "source": [
    "## Data Preprocessing\n",
    "\n",
    "In this data set, we label high SES as 1 and low SES as 2: * father’s occupation is coded as: 1 - non-manual; 2 - manual; * financial hardship is coded as: 1 - No; 2 - Yes;\n",
    "\n",
    "Combination of father’s occupation and financial hardship: * 1 - father had a non-manual job & no financial hardship. * 2 - father had a manual job & no financial hardship. * 3 - father had a non-manual job & financial hardship. * 4 - father had a manual job & financial hardship."
   ],
   "metadata": {
    "collapsed": false
   },
   "id": "cfa0582b21d6b5a2"
  },
  {
   "cell_type": "code",
   "outputs": [],
   "source": [
    "# Define a function to apply the conditions\n",
    "def combine_columns(row):\n",
    "    if row['father'] == 1 and row['financial'] == 1:\n",
    "        return 1\n",
    "    elif row['father'] == 2 and row['financial'] == 1:\n",
    "        return 2\n",
    "    elif row['father'] == 1 and row['financial'] == 2:\n",
    "        return 3\n",
    "    elif row['father'] == 2 and row['financial'] == 2:\n",
    "        return 4\n",
    "    else:\n",
    "        return None "
   ],
   "metadata": {
    "collapsed": false,
    "ExecuteTime": {
     "end_time": "2024-01-24T01:49:06.820317Z",
     "start_time": "2024-01-24T01:49:06.819904Z"
    }
   },
   "id": "6f4112090ea39327",
   "execution_count": 8
  },
  {
   "cell_type": "code",
   "outputs": [
    {
     "data": {
      "text/plain": "         ID                                          corrected readable?  \\\n0   N10001N  Today is my 25th birthday and I am in hospital...       yes   \n3   N10004R  When I am 25 years old. I hope that I will be ...       yes   \n12  N10013S  Now that I am 25 and I have left college I thi...       yes   \n\n   father financial  pay_per_week family_ses  \n0     2.0       2.0        237.25        4.0  \n3     2.0       2.0        221.25        4.0  \n12    2.0       2.0        729.00        4.0  ",
      "text/html": "<div>\n<style scoped>\n    .dataframe tbody tr th:only-of-type {\n        vertical-align: middle;\n    }\n\n    .dataframe tbody tr th {\n        vertical-align: top;\n    }\n\n    .dataframe thead th {\n        text-align: right;\n    }\n</style>\n<table border=\"1\" class=\"dataframe\">\n  <thead>\n    <tr style=\"text-align: right;\">\n      <th></th>\n      <th>ID</th>\n      <th>corrected</th>\n      <th>readable?</th>\n      <th>father</th>\n      <th>financial</th>\n      <th>pay_per_week</th>\n      <th>family_ses</th>\n    </tr>\n  </thead>\n  <tbody>\n    <tr>\n      <th>0</th>\n      <td>N10001N</td>\n      <td>Today is my 25th birthday and I am in hospital...</td>\n      <td>yes</td>\n      <td>2.0</td>\n      <td>2.0</td>\n      <td>237.25</td>\n      <td>4.0</td>\n    </tr>\n    <tr>\n      <th>3</th>\n      <td>N10004R</td>\n      <td>When I am 25 years old. I hope that I will be ...</td>\n      <td>yes</td>\n      <td>2.0</td>\n      <td>2.0</td>\n      <td>221.25</td>\n      <td>4.0</td>\n    </tr>\n    <tr>\n      <th>12</th>\n      <td>N10013S</td>\n      <td>Now that I am 25 and I have left college I thi...</td>\n      <td>yes</td>\n      <td>2.0</td>\n      <td>2.0</td>\n      <td>729.00</td>\n      <td>4.0</td>\n    </tr>\n  </tbody>\n</table>\n</div>"
     },
     "execution_count": 11,
     "metadata": {},
     "output_type": "execute_result"
    }
   ],
   "source": [
    "# Apply the function to each row\n",
    "data_df['family_ses'] = data_df.apply(combine_columns, axis=1)\n",
    "\n",
    "# Convert columns to categorical data type\n",
    "data_df['father'] = data_df['father'].astype('category')\n",
    "data_df['financial'] = data_df['financial'].astype('category')\n",
    "data_df['family_ses'] = data_df['family_ses'].astype('category')\n",
    "\n",
    "#preview the data\n",
    "data_df.head(3)"
   ],
   "metadata": {
    "collapsed": false,
    "ExecuteTime": {
     "end_time": "2024-01-24T01:50:51.539965Z",
     "start_time": "2024-01-24T01:50:51.496614Z"
    }
   },
   "id": "75bf5d8ddf3595ac",
   "execution_count": 11
  },
  {
   "cell_type": "code",
   "outputs": [
    {
     "data": {
      "text/plain": "ID                object\ncorrected         object\nreadable?         object\nfather          category\nfinancial       category\npay_per_week     float64\nfamily_ses      category\ndtype: object"
     },
     "execution_count": 12,
     "metadata": {},
     "output_type": "execute_result"
    }
   ],
   "source": [
    "# check the datatype of each column\n",
    "data_df.dtypes"
   ],
   "metadata": {
    "collapsed": false,
    "ExecuteTime": {
     "end_time": "2024-01-24T02:02:58.514453Z",
     "start_time": "2024-01-24T02:02:58.512738Z"
    }
   },
   "id": "27a4ea21ff0124d7",
   "execution_count": 12
  },
  {
   "cell_type": "markdown",
   "source": [
    "Till this point, we have:\n",
    " 1. categorical variable `family_ses`, which will be the target variable for **supervised learning - classification**\n",
    "2. numerical variable `income`, which will be the target variable for **supervised learning - regression**\n",
    "3. text variable `essay`, which will used for **unsupervised learning - topic modeling**. Also, it will serve as the input for the supervised learning models.\n",
    "\n",
    "Next, we need to preprocess the text data."
   ],
   "metadata": {
    "collapsed": false
   },
   "id": "cd49bd83ca6488b9"
  },
  {
   "cell_type": "code",
   "outputs": [],
   "source": [],
   "metadata": {
    "collapsed": false
   },
   "id": "e85d414cb2477de3"
  }
 ],
 "metadata": {
  "kernelspec": {
   "display_name": "Python 3",
   "language": "python",
   "name": "python3"
  },
  "language_info": {
   "codemirror_mode": {
    "name": "ipython",
    "version": 2
   },
   "file_extension": ".py",
   "mimetype": "text/x-python",
   "name": "python",
   "nbconvert_exporter": "python",
   "pygments_lexer": "ipython2",
   "version": "2.7.6"
  }
 },
 "nbformat": 4,
 "nbformat_minor": 5
}

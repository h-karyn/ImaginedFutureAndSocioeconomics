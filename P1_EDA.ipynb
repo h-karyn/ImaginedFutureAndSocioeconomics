{
 "cells": [
  {
   "cell_type": "markdown",
   "id": "e3706256f60dd5e4",
   "metadata": {
    "collapsed": false
   },
   "source": [
    "# Exploratory Data Analysis \n",
    "##         -- Children's Imagined Future and its association with socioeconomic status"
   ]
  },
  {
   "cell_type": "markdown",
   "id": "7c1012406e4e8504",
   "metadata": {
    "collapsed": false
   },
   "source": [
    "## Background \n",
    "\n",
    "“Imagine you are now 25 years old. Write about the life you are leading, your interests, your home life and your work at the age of 25”. As a part of a longitudinal study on individuals born in 1958, over 10,000 11-year-old children in the UK were asked to write an essay given the instruction above (Center for Longitudinal Studies (CLS) | 1958 National Child Development Study). Their families’ demographic information, including socioeconomic status (SES) related items (e.g., father’s occupation), was recorded. At the age of 42, they participated in another sweep of the study, which collected information including their income range. \n",
    "\n",
    "One study examined this corpus and themes of children’s imagined future. With selected sample and a qualitative approach, it identified a wide range of themes, including marriage, family members, occupation, money, domestic life, vacations, leisure activities and animals. Although the children rarely described their future in terms of status, researchers discovered that high SES children are more likely to write about imaginations characterizing high-prestige lifestyles (e.g. large house, fancy vehicle and overseas vacation) (Elliott, 2010).\n",
    "\n",
    "So far, no existing literature using this corpus has investigated this relationship of SES and children’s writing with a machine learning/NLP approach. Thus, I am here to fill the gap and discover new knowledge:). "
   ]
  },
  {
   "cell_type": "markdown",
   "id": "3eb840b5a5cad4eb",
   "metadata": {
    "collapsed": false
   },
   "source": [
    "## Data \n",
    "\n",
    "We (my collaborator Dr. Holly Engstrom and I) obtained the longitudinal data at CLS' data access application portal. We first selected the age-11 and age-42 waves as our data, which contain information on:\n",
    "1. children's essays\n",
    "2. children's father's occupation\n",
    "3. whether the family experienced financial hardship\n",
    "4. weekly income at the age of 42.  \n",
    "\n",
    "We had put enormous effort to clean and preprocess the data, including manually correcting all the misspellings in the essays. The data after processing is saved in full_data.csv under the **[current repository](https://github.com/h-karyn/ImaginedFutureAndSocioeconomics)**. "
   ]
  },
  {
   "cell_type": "markdown",
   "id": "30cf737325dc425a",
   "metadata": {
    "collapsed": false
   },
   "source": [
    "## Data Overview    "
   ]
  },
  {
   "cell_type": "code",
   "execution_count": 1,
   "id": "f4be43f0703cf0ce",
   "metadata": {
    "collapsed": false,
    "ExecuteTime": {
     "end_time": "2024-01-24T04:27:08.274127Z",
     "start_time": "2024-01-24T04:27:08.268256Z"
    }
   },
   "outputs": [],
   "source": [
    "import numpy as np\n",
    "import pandas as pd\n",
    "import matplotlib.pyplot as plt\n",
    "import seaborn as sns"
   ]
  },
  {
   "cell_type": "code",
   "execution_count": 2,
   "id": "a940333ddf9bcb6a",
   "metadata": {
    "collapsed": false,
    "ExecuteTime": {
     "end_time": "2024-01-24T04:27:08.490226Z",
     "start_time": "2024-01-24T04:27:08.271017Z"
    }
   },
   "outputs": [
    {
     "data": {
      "text/plain": "(18567, 13)"
     },
     "execution_count": 2,
     "metadata": {},
     "output_type": "execute_result"
    }
   ],
   "source": [
    "# read data \n",
    "data_df = pd.read_csv('full_data.csv') \n",
    "data_df.shape"
   ]
  },
  {
   "cell_type": "code",
   "execution_count": 3,
   "id": "6bca40fbefee53f5",
   "metadata": {
    "collapsed": false,
    "ExecuteTime": {
     "end_time": "2024-01-24T04:27:08.496528Z",
     "start_time": "2024-01-24T04:27:08.485883Z"
    }
   },
   "outputs": [
    {
     "data": {
      "text/plain": "        ID file_name                                           original  \\\n0  N10001N  B771-780  Today is my 25th birthday and I am in hospital...   \n1  N10002P     J1-10  The dog pounded up at me when i reached for he...   \n2  N10003Q     J1-10  I would get married and be a swimming instruct...   \n3  N10004R  A821-830  When I am 25 years old. I hop that I will be m...   \n4  N10005S       NaN                                                NaN   \n\n                                           corrected  misspellings readable?  \\\n0  Today is my 25th birthday and I am in hospital...          10.0       yes   \n1  The dog pounded up at me when i reached for he...           9.0       yes   \n2  I would get married and be a swimming instruct...           4.0       yes   \n3  When I am 25 years old. I hope that I will be ...          23.0       yes   \n4                                                NaN           NaN       NaN   \n\n  RA_name completed?  word_count  father  mother  financial  pay_per_week  \n0   Anika        yes       306.0     2.0    -1.0        2.0        237.25  \n1  Andrea        yes       200.0    -1.0    -1.0       -1.0           NaN  \n2  Andrea        yes       268.0     3.0     6.0        1.0           NaN  \n3  Manson        yes       169.0     2.0     8.0        2.0        221.25  \n4     NaN        NaN         NaN     2.0     6.0        2.0           NaN  ",
      "text/html": "<div>\n<style scoped>\n    .dataframe tbody tr th:only-of-type {\n        vertical-align: middle;\n    }\n\n    .dataframe tbody tr th {\n        vertical-align: top;\n    }\n\n    .dataframe thead th {\n        text-align: right;\n    }\n</style>\n<table border=\"1\" class=\"dataframe\">\n  <thead>\n    <tr style=\"text-align: right;\">\n      <th></th>\n      <th>ID</th>\n      <th>file_name</th>\n      <th>original</th>\n      <th>corrected</th>\n      <th>misspellings</th>\n      <th>readable?</th>\n      <th>RA_name</th>\n      <th>completed?</th>\n      <th>word_count</th>\n      <th>father</th>\n      <th>mother</th>\n      <th>financial</th>\n      <th>pay_per_week</th>\n    </tr>\n  </thead>\n  <tbody>\n    <tr>\n      <th>0</th>\n      <td>N10001N</td>\n      <td>B771-780</td>\n      <td>Today is my 25th birthday and I am in hospital...</td>\n      <td>Today is my 25th birthday and I am in hospital...</td>\n      <td>10.0</td>\n      <td>yes</td>\n      <td>Anika</td>\n      <td>yes</td>\n      <td>306.0</td>\n      <td>2.0</td>\n      <td>-1.0</td>\n      <td>2.0</td>\n      <td>237.25</td>\n    </tr>\n    <tr>\n      <th>1</th>\n      <td>N10002P</td>\n      <td>J1-10</td>\n      <td>The dog pounded up at me when i reached for he...</td>\n      <td>The dog pounded up at me when i reached for he...</td>\n      <td>9.0</td>\n      <td>yes</td>\n      <td>Andrea</td>\n      <td>yes</td>\n      <td>200.0</td>\n      <td>-1.0</td>\n      <td>-1.0</td>\n      <td>-1.0</td>\n      <td>NaN</td>\n    </tr>\n    <tr>\n      <th>2</th>\n      <td>N10003Q</td>\n      <td>J1-10</td>\n      <td>I would get married and be a swimming instruct...</td>\n      <td>I would get married and be a swimming instruct...</td>\n      <td>4.0</td>\n      <td>yes</td>\n      <td>Andrea</td>\n      <td>yes</td>\n      <td>268.0</td>\n      <td>3.0</td>\n      <td>6.0</td>\n      <td>1.0</td>\n      <td>NaN</td>\n    </tr>\n    <tr>\n      <th>3</th>\n      <td>N10004R</td>\n      <td>A821-830</td>\n      <td>When I am 25 years old. I hop that I will be m...</td>\n      <td>When I am 25 years old. I hope that I will be ...</td>\n      <td>23.0</td>\n      <td>yes</td>\n      <td>Manson</td>\n      <td>yes</td>\n      <td>169.0</td>\n      <td>2.0</td>\n      <td>8.0</td>\n      <td>2.0</td>\n      <td>221.25</td>\n    </tr>\n    <tr>\n      <th>4</th>\n      <td>N10005S</td>\n      <td>NaN</td>\n      <td>NaN</td>\n      <td>NaN</td>\n      <td>NaN</td>\n      <td>NaN</td>\n      <td>NaN</td>\n      <td>NaN</td>\n      <td>NaN</td>\n      <td>2.0</td>\n      <td>6.0</td>\n      <td>2.0</td>\n      <td>NaN</td>\n    </tr>\n  </tbody>\n</table>\n</div>"
     },
     "execution_count": 3,
     "metadata": {},
     "output_type": "execute_result"
    }
   ],
   "source": [
    "# get an overview of the top-n rows/samples\n",
    "data_df.head()"
   ]
  },
  {
   "cell_type": "markdown",
   "id": "b8c0b3201090d9d6",
   "metadata": {
    "collapsed": false
   },
   "source": [
    "## Data Cleaning\n",
    "\n",
    "Since column file_name, original, misspellings, RA_name, completed?, word_count, and mother are not revalent to our analysis, I will drop those columns. "
   ]
  },
  {
   "cell_type": "code",
   "execution_count": 4,
   "id": "6bae0d3e2424af06",
   "metadata": {
    "collapsed": false,
    "ExecuteTime": {
     "end_time": "2024-01-24T04:27:08.505308Z",
     "start_time": "2024-01-24T04:27:08.501158Z"
    }
   },
   "outputs": [
    {
     "data": {
      "text/plain": "        ID                                          corrected readable?  \\\n0  N10001N  Today is my 25th birthday and I am in hospital...       yes   \n1  N10002P  The dog pounded up at me when i reached for he...       yes   \n2  N10003Q  I would get married and be a swimming instruct...       yes   \n\n   father  financial  pay_per_week  \n0     2.0        2.0        237.25  \n1    -1.0       -1.0           NaN  \n2     3.0        1.0           NaN  ",
      "text/html": "<div>\n<style scoped>\n    .dataframe tbody tr th:only-of-type {\n        vertical-align: middle;\n    }\n\n    .dataframe tbody tr th {\n        vertical-align: top;\n    }\n\n    .dataframe thead th {\n        text-align: right;\n    }\n</style>\n<table border=\"1\" class=\"dataframe\">\n  <thead>\n    <tr style=\"text-align: right;\">\n      <th></th>\n      <th>ID</th>\n      <th>corrected</th>\n      <th>readable?</th>\n      <th>father</th>\n      <th>financial</th>\n      <th>pay_per_week</th>\n    </tr>\n  </thead>\n  <tbody>\n    <tr>\n      <th>0</th>\n      <td>N10001N</td>\n      <td>Today is my 25th birthday and I am in hospital...</td>\n      <td>yes</td>\n      <td>2.0</td>\n      <td>2.0</td>\n      <td>237.25</td>\n    </tr>\n    <tr>\n      <th>1</th>\n      <td>N10002P</td>\n      <td>The dog pounded up at me when i reached for he...</td>\n      <td>yes</td>\n      <td>-1.0</td>\n      <td>-1.0</td>\n      <td>NaN</td>\n    </tr>\n    <tr>\n      <th>2</th>\n      <td>N10003Q</td>\n      <td>I would get married and be a swimming instruct...</td>\n      <td>yes</td>\n      <td>3.0</td>\n      <td>1.0</td>\n      <td>NaN</td>\n    </tr>\n  </tbody>\n</table>\n</div>"
     },
     "execution_count": 4,
     "metadata": {},
     "output_type": "execute_result"
    }
   ],
   "source": [
    "# drop irrelevant columns\n",
    "data_df = data_df.drop(['file_name', 'original', 'misspellings', 'word_count','RA_name', 'completed?', 'mother'], axis=1)\n",
    "data_df.head(3)"
   ]
  },
  {
   "cell_type": "code",
   "execution_count": 5,
   "id": "33d93aca97ac0da0",
   "metadata": {
    "collapsed": false,
    "ExecuteTime": {
     "end_time": "2024-01-24T04:27:08.532791Z",
     "start_time": "2024-01-24T04:27:08.506408Z"
    }
   },
   "outputs": [
    {
     "data": {
      "text/plain": "(4843, 6)"
     },
     "execution_count": 5,
     "metadata": {},
     "output_type": "execute_result"
    }
   ],
   "source": [
    "# drop rows with missing values\n",
    "data_df = data_df.dropna()\n",
    "\n",
    "data_df.shape"
   ]
  },
  {
   "cell_type": "markdown",
   "id": "3b77dde7b9c8b8e8",
   "metadata": {
    "collapsed": false
   },
   "source": [
    "Clean the 'readable?' column"
   ]
  },
  {
   "cell_type": "code",
   "execution_count": 6,
   "id": "3df500bc3781ffbd",
   "metadata": {
    "collapsed": false,
    "ExecuteTime": {
     "end_time": "2024-01-24T04:27:08.534159Z",
     "start_time": "2024-01-24T04:27:08.512024Z"
    }
   },
   "outputs": [
    {
     "name": "stdout",
     "output_type": "stream",
     "text": [
      "['yes' 'no' 'yexs' 'yea']\n",
      "['yes' 'no']\n"
     ]
    },
    {
     "data": {
      "text/plain": "(4720, 6)"
     },
     "execution_count": 6,
     "metadata": {},
     "output_type": "execute_result"
    }
   ],
   "source": [
    "# turn 'readable?' to lowercase\n",
    "data_df['readable?'] = data_df['readable?'].str.lower()\n",
    "\n",
    "# check the unique values\n",
    "print(data_df['readable?'].unique())\n",
    "\n",
    "# replace 'yexs' and 'yea' with 'yes'\n",
    "data_df['readable?'] = data_df['readable?'].replace(['yexs', 'yea'], 'yes')\n",
    "\n",
    "# check the unique values again\n",
    "print(data_df['readable?'].unique())\n",
    "\n",
    "# drop rows with 'no'\n",
    "data_df = data_df[data_df['readable?'] == 'yes']\n",
    "\n",
    "data_df.shape"
   ]
  },
  {
   "cell_type": "code",
   "execution_count": 7,
   "id": "62760472d8461b0b",
   "metadata": {
    "collapsed": false,
    "ExecuteTime": {
     "end_time": "2024-01-24T04:27:08.535247Z",
     "start_time": "2024-01-24T04:27:08.520820Z"
    }
   },
   "outputs": [
    {
     "data": {
      "text/plain": "         ID                                          corrected readable?  \\\n0   N10001N  Today is my 25th birthday and I am in hospital...       yes   \n3   N10004R  When I am 25 years old. I hope that I will be ...       yes   \n12  N10013S  Now that I am 25 and I have left college I thi...       yes   \n\n    father  financial  pay_per_week  \n0      2.0        2.0        237.25  \n3      2.0        2.0        221.25  \n12     2.0        2.0        729.00  ",
      "text/html": "<div>\n<style scoped>\n    .dataframe tbody tr th:only-of-type {\n        vertical-align: middle;\n    }\n\n    .dataframe tbody tr th {\n        vertical-align: top;\n    }\n\n    .dataframe thead th {\n        text-align: right;\n    }\n</style>\n<table border=\"1\" class=\"dataframe\">\n  <thead>\n    <tr style=\"text-align: right;\">\n      <th></th>\n      <th>ID</th>\n      <th>corrected</th>\n      <th>readable?</th>\n      <th>father</th>\n      <th>financial</th>\n      <th>pay_per_week</th>\n    </tr>\n  </thead>\n  <tbody>\n    <tr>\n      <th>0</th>\n      <td>N10001N</td>\n      <td>Today is my 25th birthday and I am in hospital...</td>\n      <td>yes</td>\n      <td>2.0</td>\n      <td>2.0</td>\n      <td>237.25</td>\n    </tr>\n    <tr>\n      <th>3</th>\n      <td>N10004R</td>\n      <td>When I am 25 years old. I hope that I will be ...</td>\n      <td>yes</td>\n      <td>2.0</td>\n      <td>2.0</td>\n      <td>221.25</td>\n    </tr>\n    <tr>\n      <th>12</th>\n      <td>N10013S</td>\n      <td>Now that I am 25 and I have left college I thi...</td>\n      <td>yes</td>\n      <td>2.0</td>\n      <td>2.0</td>\n      <td>729.00</td>\n    </tr>\n  </tbody>\n</table>\n</div>"
     },
     "execution_count": 7,
     "metadata": {},
     "output_type": "execute_result"
    }
   ],
   "source": [
    "# preview the data\n",
    "data_df.head(3) "
   ]
  },
  {
   "cell_type": "markdown",
   "id": "cfa0582b21d6b5a2",
   "metadata": {
    "collapsed": false
   },
   "source": [
    "## Data Preprocessing\n",
    "\n",
    "In this data set, we label high SES as 1 and low SES as 2: * father’s occupation is coded as: 1 - non-manual; 2 - manual; * financial hardship is coded as: 1 - No; 2 - Yes;\n",
    "\n",
    "Combination of father’s occupation and financial hardship: * 1 - father had a non-manual job & no financial hardship. * 2 - father had a manual job & no financial hardship. * 3 - father had a non-manual job & financial hardship. * 4 - father had a manual job & financial hardship."
   ]
  },
  {
   "cell_type": "code",
   "execution_count": 8,
   "id": "6f4112090ea39327",
   "metadata": {
    "collapsed": false,
    "ExecuteTime": {
     "end_time": "2024-01-24T04:27:08.572351Z",
     "start_time": "2024-01-24T04:27:08.524187Z"
    }
   },
   "outputs": [],
   "source": [
    "# Define a function to apply the conditions\n",
    "def combine_columns(row):\n",
    "    if row['father'] == 1 and row['financial'] == 1:\n",
    "        return 1\n",
    "    elif row['father'] == 2 and row['financial'] == 1:\n",
    "        return 2\n",
    "    elif row['father'] == 1 and row['financial'] == 2:\n",
    "        return 3\n",
    "    elif row['father'] == 2 and row['financial'] == 2:\n",
    "        return 4\n",
    "    else:\n",
    "        return None "
   ]
  },
  {
   "cell_type": "code",
   "execution_count": 9,
   "id": "75bf5d8ddf3595ac",
   "metadata": {
    "collapsed": false,
    "ExecuteTime": {
     "end_time": "2024-01-24T04:27:08.650682Z",
     "start_time": "2024-01-24T04:27:08.563413Z"
    }
   },
   "outputs": [
    {
     "data": {
      "text/plain": "         ID                                          corrected readable?  \\\n0   N10001N  Today is my 25th birthday and I am in hospital...       yes   \n3   N10004R  When I am 25 years old. I hope that I will be ...       yes   \n12  N10013S  Now that I am 25 and I have left college I thi...       yes   \n\n   father financial  pay_per_week family_ses  \n0     2.0       2.0        237.25        4.0  \n3     2.0       2.0        221.25        4.0  \n12    2.0       2.0        729.00        4.0  ",
      "text/html": "<div>\n<style scoped>\n    .dataframe tbody tr th:only-of-type {\n        vertical-align: middle;\n    }\n\n    .dataframe tbody tr th {\n        vertical-align: top;\n    }\n\n    .dataframe thead th {\n        text-align: right;\n    }\n</style>\n<table border=\"1\" class=\"dataframe\">\n  <thead>\n    <tr style=\"text-align: right;\">\n      <th></th>\n      <th>ID</th>\n      <th>corrected</th>\n      <th>readable?</th>\n      <th>father</th>\n      <th>financial</th>\n      <th>pay_per_week</th>\n      <th>family_ses</th>\n    </tr>\n  </thead>\n  <tbody>\n    <tr>\n      <th>0</th>\n      <td>N10001N</td>\n      <td>Today is my 25th birthday and I am in hospital...</td>\n      <td>yes</td>\n      <td>2.0</td>\n      <td>2.0</td>\n      <td>237.25</td>\n      <td>4.0</td>\n    </tr>\n    <tr>\n      <th>3</th>\n      <td>N10004R</td>\n      <td>When I am 25 years old. I hope that I will be ...</td>\n      <td>yes</td>\n      <td>2.0</td>\n      <td>2.0</td>\n      <td>221.25</td>\n      <td>4.0</td>\n    </tr>\n    <tr>\n      <th>12</th>\n      <td>N10013S</td>\n      <td>Now that I am 25 and I have left college I thi...</td>\n      <td>yes</td>\n      <td>2.0</td>\n      <td>2.0</td>\n      <td>729.00</td>\n      <td>4.0</td>\n    </tr>\n  </tbody>\n</table>\n</div>"
     },
     "execution_count": 9,
     "metadata": {},
     "output_type": "execute_result"
    }
   ],
   "source": [
    "# Apply the function to each row\n",
    "data_df['family_ses'] = data_df.apply(combine_columns, axis=1)\n",
    "\n",
    "# Convert columns to categorical data type\n",
    "data_df['father'] = data_df['father'].astype('category')\n",
    "data_df['financial'] = data_df['financial'].astype('category')\n",
    "data_df['family_ses'] = data_df['family_ses'].astype('category')\n",
    "\n",
    "#preview the data\n",
    "data_df.head(3)"
   ]
  },
  {
   "cell_type": "code",
   "execution_count": 10,
   "id": "27a4ea21ff0124d7",
   "metadata": {
    "collapsed": false,
    "ExecuteTime": {
     "end_time": "2024-01-24T04:27:08.651606Z",
     "start_time": "2024-01-24T04:27:08.571892Z"
    }
   },
   "outputs": [
    {
     "data": {
      "text/plain": "ID                object\ncorrected         object\nreadable?         object\nfather          category\nfinancial       category\npay_per_week     float64\nfamily_ses      category\ndtype: object"
     },
     "execution_count": 10,
     "metadata": {},
     "output_type": "execute_result"
    }
   ],
   "source": [
    "# check the datatype of each column\n",
    "data_df.dtypes"
   ]
  },
  {
   "cell_type": "markdown",
   "source": [
    "Let us check the distribution of the target variable `family_ses` and `income`."
   ],
   "metadata": {
    "collapsed": false
   },
   "id": "229ef7a5d6dc2ecf"
  },
  {
   "cell_type": "code",
   "outputs": [
    {
     "data": {
      "text/plain": "family_ses\n4.0    2204\n3.0    1470\n2.0     275\n1.0      59\nName: count, dtype: int64"
     },
     "execution_count": 11,
     "metadata": {},
     "output_type": "execute_result"
    }
   ],
   "source": [
    "# check the distribution of the target variable\n",
    "data_df['family_ses'].value_counts()"
   ],
   "metadata": {
    "collapsed": false,
    "ExecuteTime": {
     "end_time": "2024-01-24T04:27:08.652083Z",
     "start_time": "2024-01-24T04:27:08.576276Z"
    }
   },
   "id": "53ea274ad6f2b476",
   "execution_count": 11
  },
  {
   "cell_type": "code",
   "outputs": [
    {
     "data": {
      "text/plain": "count     4720.000000\nmean       519.020913\nstd       1597.513746\nmin          0.250000\n25%        197.250000\n50%        350.000000\n75%        538.461538\nmax      61458.500000\nName: pay_per_week, dtype: float64"
     },
     "execution_count": 21,
     "metadata": {},
     "output_type": "execute_result"
    }
   ],
   "source": [
    "# check the distribution of pay_per_week\n",
    "data_df['pay_per_week'].describe()"
   ],
   "metadata": {
    "collapsed": false,
    "ExecuteTime": {
     "end_time": "2024-01-24T04:28:25.506227Z",
     "start_time": "2024-01-24T04:28:25.487155Z"
    }
   },
   "id": "d777b0d57f2c964a",
   "execution_count": 21
  },
  {
   "cell_type": "markdown",
   "source": [
    "We notice that the income has a wide range (outliers on the right tail). We will discard the outliers that are 3 standard deviations away from the mean."
   ],
   "metadata": {
    "collapsed": false
   },
   "id": "81220491a8033297"
  },
  {
   "cell_type": "code",
   "outputs": [
    {
     "name": "stdout",
     "output_type": "stream",
     "text": [
      "(4696, 7)\n"
     ]
    }
   ],
   "source": [
    "# remove outliers\n",
    "data_df = data_df[data_df['pay_per_week'] < data_df['pay_per_week'].mean() + 3*data_df['pay_per_week'].std()]\n",
    "\n",
    "print(data_df.shape)"
   ],
   "metadata": {
    "collapsed": false,
    "ExecuteTime": {
     "end_time": "2024-01-24T04:30:34.188264Z",
     "start_time": "2024-01-24T04:30:34.178309Z"
    }
   },
   "id": "8eecfebd873808e3",
   "execution_count": 22
  },
  {
   "cell_type": "code",
   "outputs": [
    {
     "data": {
      "text/plain": "count    4696.000000\nmean      439.817983\nstd       479.341075\nmin         0.250000\n25%       195.750000\n50%       349.125000\n75%       530.000000\nmax      5308.000000\nName: pay_per_week, dtype: float64"
     },
     "execution_count": 23,
     "metadata": {},
     "output_type": "execute_result"
    }
   ],
   "source": [
    "# check the distribution of pay_per_week again\n",
    "data_df['pay_per_week'].describe()"
   ],
   "metadata": {
    "collapsed": false,
    "ExecuteTime": {
     "end_time": "2024-01-24T04:30:51.581557Z",
     "start_time": "2024-01-24T04:30:51.576960Z"
    }
   },
   "id": "1e9e0c3520c9982c",
   "execution_count": 23
  },
  {
   "cell_type": "code",
   "outputs": [
    {
     "data": {
      "text/plain": "<Axes: >"
     },
     "execution_count": 26,
     "metadata": {},
     "output_type": "execute_result"
    },
    {
     "data": {
      "text/plain": "<Figure size 640x480 with 1 Axes>",
      "image/png": "[encoded data removed]"
     },
     "metadata": {},
     "output_type": "display_data"
    }
   ],
   "source": [
    "# let take a look at the distribution of pay_per_week\n",
    "data_df['pay_per_week'].hist(bins=50)"
   ],
   "metadata": {
    "collapsed": false,
    "ExecuteTime": {
     "end_time": "2024-01-24T04:32:03.811707Z",
     "start_time": "2024-01-24T04:32:03.697904Z"
    }
   },
   "id": "5a1daa4e797f27f7",
   "execution_count": 26
  },
  {
   "cell_type": "markdown",
   "source": [
    "Till this point, we have:\n",
    "\n",
    "1. categorical variable `family_ses`, which will be the target variable for **supervised learning - classification**\n",
    "2. numerical variable `income`, which will be the target variable for **supervised learning - regression**\n",
    "3. text variable `essay`, which will used for **unsupervised learning - topic modeling**. Also, it will serve as the input for the supervised learning models.\n",
    "\n",
    "Next, we need to preprocess the text data."
   ],
   "metadata": {
    "collapsed": false
   },
   "id": "cd49bd83ca6488b9"
  },
  {
   "cell_type": "markdown",
   "id": "6e7caf4fe68986e9",
   "metadata": {
    "collapsed": false
   },
   "source": [
    "## Text Preprocessing"
   ]
  },
  {
   "cell_type": "code",
   "execution_count": 12,
   "id": "e85d414cb2477de3",
   "metadata": {
    "collapsed": false,
    "ExecuteTime": {
     "end_time": "2024-01-24T04:27:09.195239Z",
     "start_time": "2024-01-24T04:27:08.580046Z"
    }
   },
   "outputs": [
    {
     "name": "stderr",
     "output_type": "stream",
     "text": [
      "[nltk_data] Downloading package punkt to /Users/mhhuang/nltk_data...\n",
      "[nltk_data]   Package punkt is already up-to-date!\n",
      "[nltk_data] Downloading package wordnet to /Users/mhhuang/nltk_data...\n",
      "[nltk_data]   Package wordnet is already up-to-date!\n",
      "[nltk_data] Downloading package omw-1.4 to /Users/mhhuang/nltk_data...\n",
      "[nltk_data]   Package omw-1.4 is already up-to-date!\n",
      "[nltk_data] Downloading package wordnet to /Users/mhhuang/nltk_data...\n",
      "[nltk_data]   Package wordnet is already up-to-date!\n"
     ]
    },
    {
     "data": {
      "text/plain": "True"
     },
     "execution_count": 12,
     "metadata": {},
     "output_type": "execute_result"
    }
   ],
   "source": [
    "# tokenize and lemmatize the text\n",
    "import nltk\n",
    "from nltk import sent_tokenize\n",
    "from nltk import word_tokenize\n",
    "nltk.download('punkt')\n",
    "nltk.download('wordnet')\n",
    "nltk.download('omw-1.4')\n",
    "\n",
    "from nltk.stem import WordNetLemmatizer\n",
    "from sklearn.feature_extraction.text import CountVectorizer\n",
    "\n",
    "# download the wordnet dictionary\n",
    "nltk.download('wordnet')"
   ]
  },
  {
   "cell_type": "code",
   "execution_count": 13,
   "id": "4c4210e1116f7ff4",
   "metadata": {
    "collapsed": false,
    "ExecuteTime": {
     "end_time": "2024-01-24T04:27:14.912509Z",
     "start_time": "2024-01-24T04:27:09.197779Z"
    }
   },
   "outputs": [],
   "source": [
    "corpus = data_df['corrected'].tolist()\n",
    "corpus_lem = []\n",
    "lemmatizer = WordNetLemmatizer()\n",
    "for text in corpus:\n",
    "    word_list = nltk.word_tokenize(text)\n",
    "    word_lem = [lemmatizer.lemmatize(tok) for tok in word_list]\n",
    "    corpus_lem.append(' '.join(word_lem))"
   ]
  },
  {
   "cell_type": "code",
   "execution_count": 14,
   "id": "59cf6e321e725e18",
   "metadata": {
    "collapsed": false,
    "ExecuteTime": {
     "end_time": "2024-01-24T04:27:15.053652Z",
     "start_time": "2024-01-24T04:27:14.912207Z"
    }
   },
   "outputs": [],
   "source": [
    "# remove all the numbers and punctuations\n",
    "import re\n",
    "corpus_lem = [re.sub(r'[^a-zA-Z]', ' ', text) for text in corpus_lem]"
   ]
  },
  {
   "cell_type": "code",
   "execution_count": 15,
   "id": "d410d430a85beb8b",
   "metadata": {
    "collapsed": false,
    "ExecuteTime": {
     "end_time": "2024-01-24T04:27:15.391823Z",
     "start_time": "2024-01-24T04:27:15.097473Z"
    }
   },
   "outputs": [],
   "source": [
    "vectorizer = CountVectorizer(min_df=5, max_df=0.8,ngram_range=(1,1),binary=False,stop_words='english')\n",
    "X = vectorizer.fit_transform(corpus_lem)"
   ]
  },
  {
   "cell_type": "code",
   "execution_count": 16,
   "id": "a53dd4a30a9caa46",
   "metadata": {
    "collapsed": false,
    "ExecuteTime": {
     "end_time": "2024-01-24T04:27:15.397499Z",
     "start_time": "2024-01-24T04:27:15.393890Z"
    }
   },
   "outputs": [],
   "source": [
    "feature_names = vectorizer.get_feature_names_out()"
   ]
  },
  {
   "cell_type": "markdown",
   "id": "a71fd62825a041b",
   "metadata": {
    "collapsed": false
   },
   "source": [
    "Find out the top-10 most frequent features"
   ]
  },
  {
   "cell_type": "code",
   "execution_count": 17,
   "id": "78a61f937045462e",
   "metadata": {
    "collapsed": false,
    "ExecuteTime": {
     "end_time": "2024-01-24T04:27:15.402273Z",
     "start_time": "2024-01-24T04:27:15.397614Z"
    }
   },
   "outputs": [],
   "source": [
    "def get_topn_features(X, feature_names, topn=10):\n",
    "    \"\"\"\n",
    "    Inputs:\n",
    "        X: feature matrix\n",
    "        feature_names: extracted features during vectorization\n",
    "        topn: the number of most frequent features to return\n",
    "    Outputs:\n",
    "        topn most frequent features and their frequency\n",
    "    \"\"\"\n",
    "    feature_ct = np.asarray(np.sum(X, axis=0)).reshape(-1)\n",
    "\n",
    "    feature_freq = []\n",
    "    \n",
    "    for i in np.argsort(feature_ct)[::-1][:topn]:\n",
    "        feature_freq.append({'feature':feature_names[i], 'frequency':feature_ct[i]})\n",
    "    \n",
    "    return pd.DataFrame(feature_freq)"
   ]
  },
  {
   "cell_type": "code",
   "execution_count": 18,
   "id": "928baadc16057297",
   "metadata": {
    "collapsed": false,
    "ExecuteTime": {
     "end_time": "2024-01-24T04:27:15.407723Z",
     "start_time": "2024-01-24T04:27:15.400151Z"
    }
   },
   "outputs": [
    {
     "data": {
      "text/plain": "    feature  frequency\n0      like       7322\n1      work       6905\n2        wa       5742\n3     child       4838\n4      home       4309\n5      year       4087\n6     house       3585\n7      time       3535\n8       job       3262\n9       got       2932\n10      day       2881\n11     live       2848\n12  married       2758\n13      old       2685\n14   school       2636\n15      car       2464\n16    going       2448\n17     week       2307\n18  husband       2183\n19     come       2175\n20      lot       2124\n21     went       1992\n22     life       1954\n23     good       1887\n24    thing       1810\n25     play       1796\n26       ha       1751\n27    clock       1690\n28    night       1685\n29   friend       1662",
      "text/html": "<div>\n<style scoped>\n    .dataframe tbody tr th:only-of-type {\n        vertical-align: middle;\n    }\n\n    .dataframe tbody tr th {\n        vertical-align: top;\n    }\n\n    .dataframe thead th {\n        text-align: right;\n    }\n</style>\n<table border=\"1\" class=\"dataframe\">\n  <thead>\n    <tr style=\"text-align: right;\">\n      <th></th>\n      <th>feature</th>\n      <th>frequency</th>\n    </tr>\n  </thead>\n  <tbody>\n    <tr>\n      <th>0</th>\n      <td>like</td>\n      <td>7322</td>\n    </tr>\n    <tr>\n      <th>1</th>\n      <td>work</td>\n      <td>6905</td>\n    </tr>\n    <tr>\n      <th>2</th>\n      <td>wa</td>\n      <td>5742</td>\n    </tr>\n    <tr>\n      <th>3</th>\n      <td>child</td>\n      <td>4838</td>\n    </tr>\n    <tr>\n      <th>4</th>\n      <td>home</td>\n      <td>4309</td>\n    </tr>\n    <tr>\n      <th>5</th>\n      <td>year</td>\n      <td>4087</td>\n    </tr>\n    <tr>\n      <th>6</th>\n      <td>house</td>\n      <td>3585</td>\n    </tr>\n    <tr>\n      <th>7</th>\n      <td>time</td>\n      <td>3535</td>\n    </tr>\n    <tr>\n      <th>8</th>\n      <td>job</td>\n      <td>3262</td>\n    </tr>\n    <tr>\n      <th>9</th>\n      <td>got</td>\n      <td>2932</td>\n    </tr>\n    <tr>\n      <th>10</th>\n      <td>day</td>\n      <td>2881</td>\n    </tr>\n    <tr>\n      <th>11</th>\n      <td>live</td>\n      <td>2848</td>\n    </tr>\n    <tr>\n      <th>12</th>\n      <td>married</td>\n      <td>2758</td>\n    </tr>\n    <tr>\n      <th>13</th>\n      <td>old</td>\n      <td>2685</td>\n    </tr>\n    <tr>\n      <th>14</th>\n      <td>school</td>\n      <td>2636</td>\n    </tr>\n    <tr>\n      <th>15</th>\n      <td>car</td>\n      <td>2464</td>\n    </tr>\n    <tr>\n      <th>16</th>\n      <td>going</td>\n      <td>2448</td>\n    </tr>\n    <tr>\n      <th>17</th>\n      <td>week</td>\n      <td>2307</td>\n    </tr>\n    <tr>\n      <th>18</th>\n      <td>husband</td>\n      <td>2183</td>\n    </tr>\n    <tr>\n      <th>19</th>\n      <td>come</td>\n      <td>2175</td>\n    </tr>\n    <tr>\n      <th>20</th>\n      <td>lot</td>\n      <td>2124</td>\n    </tr>\n    <tr>\n      <th>21</th>\n      <td>went</td>\n      <td>1992</td>\n    </tr>\n    <tr>\n      <th>22</th>\n      <td>life</td>\n      <td>1954</td>\n    </tr>\n    <tr>\n      <th>23</th>\n      <td>good</td>\n      <td>1887</td>\n    </tr>\n    <tr>\n      <th>24</th>\n      <td>thing</td>\n      <td>1810</td>\n    </tr>\n    <tr>\n      <th>25</th>\n      <td>play</td>\n      <td>1796</td>\n    </tr>\n    <tr>\n      <th>26</th>\n      <td>ha</td>\n      <td>1751</td>\n    </tr>\n    <tr>\n      <th>27</th>\n      <td>clock</td>\n      <td>1690</td>\n    </tr>\n    <tr>\n      <th>28</th>\n      <td>night</td>\n      <td>1685</td>\n    </tr>\n    <tr>\n      <th>29</th>\n      <td>friend</td>\n      <td>1662</td>\n    </tr>\n  </tbody>\n</table>\n</div>"
     },
     "execution_count": 18,
     "metadata": {},
     "output_type": "execute_result"
    }
   ],
   "source": [
    "get_topn_features(X, feature_names, topn=30)"
   ]
  },
  {
   "cell_type": "markdown",
   "source": [
    "Based on the very preliminary analysis, the most frequent features include aspects such as family, money, work, school and leisure."
   ],
   "metadata": {
    "collapsed": false
   },
   "id": "eb02260a81998121"
  }
 ],
 "metadata": {
  "kernelspec": {
   "display_name": "Python 3",
   "language": "python",
   "name": "python3"
  },
  "language_info": {
   "codemirror_mode": {
    "name": "ipython",
    "version": 2
   },
   "file_extension": ".py",
   "mimetype": "text/x-python",
   "name": "python",
   "nbconvert_exporter": "python",
   "pygments_lexer": "ipython2",
   "version": "2.7.6"
  }
 },
 "nbformat": 4,
 "nbformat_minor": 5
}

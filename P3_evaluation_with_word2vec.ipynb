{
 "cells": [
  {
   "cell_type": "markdown",
   "id": "e3706256f60dd5e4",
   "metadata": {
    "collapsed": false
   },
   "source": [
    "# Exploratory Data Analysis \n",
    "##         -- Children's Imagined Future and its association with socioeconomic status"
   ]
  },
  {
   "cell_type": "markdown",
   "id": "7c1012406e4e8504",
   "metadata": {
    "collapsed": false
   },
   "source": [
    "## Background \n",
    "\n",
    "“Imagine you are now 25 years old. Write about the life you are leading, your interests, your home life and your work at the age of 25”. As a part of a longitudinal study on individuals born in 1958, over 10,000 11-year-old children in the UK were asked to write an essay given the instruction above (Center for Longitudinal Studies (CLS) | 1958 National Child Development Study). Their families’ demographic information, including socioeconomic status (SES) related items (e.g., father’s occupation), was recorded. At the age of 42, they participated in another sweep of the study, which collected information including their income range. \n",
    "\n",
    "One study examined this corpus and themes of children’s imagined future. With selected sample and a qualitative approach, it identified a wide range of themes, including marriage, family members, occupation, money, domestic life, vacations, leisure activities and animals. Although the children rarely described their future in terms of status, researchers discovered that high SES children are more likely to write about imaginations characterizing high-prestige lifestyles (e.g. large house, fancy vehicle and overseas vacation) (Elliott, 2010).\n",
    "\n",
    "So far, no existing literature using this corpus has investigated this relationship of SES and children’s writing with a machine learning/NLP approach. Thus, I am here to fill the gap and discover new knowledge:). "
   ]
  },
  {
   "cell_type": "markdown",
   "id": "3eb840b5a5cad4eb",
   "metadata": {
    "collapsed": false
   },
   "source": [
    "## Data \n",
    "\n",
    "We (my collaborator Dr. Holly Engstrom and I) obtained the longitudinal data at CLS' data access application portal. We first selected the age-11 and age-42 waves as our data, which contain information on:\n",
    "1. children's essays\n",
    "2. children's father's occupation\n",
    "3. whether the family experienced financial hardship\n",
    "4. weekly income at the age of 42.  \n",
    "\n",
    "We had put enormous effort to clean and preprocess the data, including manually correcting all the misspellings in the essays. The data after processing is saved in full_data.csv under the **[current repository](https://github.com/h-karyn/ImaginedFutureAndSocioeconomics)**. "
   ]
  },
  {
   "cell_type": "markdown",
   "id": "30cf737325dc425a",
   "metadata": {
    "collapsed": false
   },
   "source": [
    "## Data Overview    "
   ]
  },
  {
   "cell_type": "code",
   "execution_count": 1,
   "id": "f4be43f0703cf0ce",
   "metadata": {
    "collapsed": false,
    "ExecuteTime": {
     "end_time": "2024-02-18T01:17:02.875338Z",
     "start_time": "2024-02-18T01:17:02.824845Z"
    }
   },
   "outputs": [],
   "source": [
    "import numpy as np\n",
    "import pandas as pd\n",
    "import matplotlib.pyplot as plt\n",
    "import seaborn as sns"
   ]
  },
  {
   "cell_type": "code",
   "execution_count": 2,
   "id": "a940333ddf9bcb6a",
   "metadata": {
    "collapsed": false,
    "ExecuteTime": {
     "end_time": "2024-02-18T01:17:03.040527Z",
     "start_time": "2024-02-18T01:17:02.827299Z"
    }
   },
   "outputs": [
    {
     "data": {
      "text/plain": "(18567, 13)"
     },
     "execution_count": 2,
     "metadata": {},
     "output_type": "execute_result"
    }
   ],
   "source": [
    "# read data \n",
    "data_df = pd.read_csv('full_data.csv') \n",
    "data_df.shape"
   ]
  },
  {
   "cell_type": "code",
   "execution_count": 3,
   "id": "6bca40fbefee53f5",
   "metadata": {
    "collapsed": false,
    "ExecuteTime": {
     "end_time": "2024-02-18T01:17:03.129452Z",
     "start_time": "2024-02-18T01:17:03.038741Z"
    }
   },
   "outputs": [
    {
     "data": {
      "text/plain": "        ID file_name                                           original  \\\n0  N10001N  B771-780  Today is my 25th birthday and I am in hospital...   \n1  N10002P     J1-10  The dog pounded up at me when i reached for he...   \n2  N10003Q     J1-10  I would get married and be a swimming instruct...   \n3  N10004R  A821-830  When I am 25 years old. I hop that I will be m...   \n4  N10005S       NaN                                                NaN   \n\n                                           corrected  misspellings readable?  \\\n0  Today is my 25th birthday and I am in hospital...          10.0       yes   \n1  The dog pounded up at me when i reached for he...           9.0       yes   \n2  I would get married and be a swimming instruct...           4.0       yes   \n3  When I am 25 years old. I hope that I will be ...          23.0       yes   \n4                                                NaN           NaN       NaN   \n\n  RA_name completed?  word_count  father  mother  financial  pay_per_week  \n0   Anika        yes       306.0     2.0    -1.0        2.0        237.25  \n1  Andrea        yes       200.0    -1.0    -1.0       -1.0           NaN  \n2  Andrea        yes       268.0     3.0     6.0        1.0           NaN  \n3  Manson        yes       169.0     2.0     8.0        2.0        221.25  \n4     NaN        NaN         NaN     2.0     6.0        2.0           NaN  ",
      "text/html": "<div>\n<style scoped>\n    .dataframe tbody tr th:only-of-type {\n        vertical-align: middle;\n    }\n\n    .dataframe tbody tr th {\n        vertical-align: top;\n    }\n\n    .dataframe thead th {\n        text-align: right;\n    }\n</style>\n<table border=\"1\" class=\"dataframe\">\n  <thead>\n    <tr style=\"text-align: right;\">\n      <th></th>\n      <th>ID</th>\n      <th>file_name</th>\n      <th>original</th>\n      <th>corrected</th>\n      <th>misspellings</th>\n      <th>readable?</th>\n      <th>RA_name</th>\n      <th>completed?</th>\n      <th>word_count</th>\n      <th>father</th>\n      <th>mother</th>\n      <th>financial</th>\n      <th>pay_per_week</th>\n    </tr>\n  </thead>\n  <tbody>\n    <tr>\n      <th>0</th>\n      <td>N10001N</td>\n      <td>B771-780</td>\n      <td>Today is my 25th birthday and I am in hospital...</td>\n      <td>Today is my 25th birthday and I am in hospital...</td>\n      <td>10.0</td>\n      <td>yes</td>\n      <td>Anika</td>\n      <td>yes</td>\n      <td>306.0</td>\n      <td>2.0</td>\n      <td>-1.0</td>\n      <td>2.0</td>\n      <td>237.25</td>\n    </tr>\n    <tr>\n      <th>1</th>\n      <td>N10002P</td>\n      <td>J1-10</td>\n      <td>The dog pounded up at me when i reached for he...</td>\n      <td>The dog pounded up at me when i reached for he...</td>\n      <td>9.0</td>\n      <td>yes</td>\n      <td>Andrea</td>\n      <td>yes</td>\n      <td>200.0</td>\n      <td>-1.0</td>\n      <td>-1.0</td>\n      <td>-1.0</td>\n      <td>NaN</td>\n    </tr>\n    <tr>\n      <th>2</th>\n      <td>N10003Q</td>\n      <td>J1-10</td>\n      <td>I would get married and be a swimming instruct...</td>\n      <td>I would get married and be a swimming instruct...</td>\n      <td>4.0</td>\n      <td>yes</td>\n      <td>Andrea</td>\n      <td>yes</td>\n      <td>268.0</td>\n      <td>3.0</td>\n      <td>6.0</td>\n      <td>1.0</td>\n      <td>NaN</td>\n    </tr>\n    <tr>\n      <th>3</th>\n      <td>N10004R</td>\n      <td>A821-830</td>\n      <td>When I am 25 years old. I hop that I will be m...</td>\n      <td>When I am 25 years old. I hope that I will be ...</td>\n      <td>23.0</td>\n      <td>yes</td>\n      <td>Manson</td>\n      <td>yes</td>\n      <td>169.0</td>\n      <td>2.0</td>\n      <td>8.0</td>\n      <td>2.0</td>\n      <td>221.25</td>\n    </tr>\n    <tr>\n      <th>4</th>\n      <td>N10005S</td>\n      <td>NaN</td>\n      <td>NaN</td>\n      <td>NaN</td>\n      <td>NaN</td>\n      <td>NaN</td>\n      <td>NaN</td>\n      <td>NaN</td>\n      <td>NaN</td>\n      <td>2.0</td>\n      <td>6.0</td>\n      <td>2.0</td>\n      <td>NaN</td>\n    </tr>\n  </tbody>\n</table>\n</div>"
     },
     "execution_count": 3,
     "metadata": {},
     "output_type": "execute_result"
    }
   ],
   "source": [
    "# get an overview of the top-n rows/samples\n",
    "data_df.head()"
   ]
  },
  {
   "cell_type": "markdown",
   "id": "b8c0b3201090d9d6",
   "metadata": {
    "collapsed": false
   },
   "source": [
    "## Data Cleaning\n",
    "\n",
    "Since column file_name, original, misspellings, RA_name, completed?, word_count, and mother are not revalent to our analysis, I will drop those columns. "
   ]
  },
  {
   "cell_type": "code",
   "execution_count": 4,
   "id": "6bae0d3e2424af06",
   "metadata": {
    "collapsed": false,
    "ExecuteTime": {
     "end_time": "2024-02-18T01:17:03.135022Z",
     "start_time": "2024-02-18T01:17:03.049270Z"
    }
   },
   "outputs": [
    {
     "data": {
      "text/plain": "        ID                                          corrected readable?  \\\n0  N10001N  Today is my 25th birthday and I am in hospital...       yes   \n1  N10002P  The dog pounded up at me when i reached for he...       yes   \n2  N10003Q  I would get married and be a swimming instruct...       yes   \n\n   father  financial  pay_per_week  \n0     2.0        2.0        237.25  \n1    -1.0       -1.0           NaN  \n2     3.0        1.0           NaN  ",
      "text/html": "<div>\n<style scoped>\n    .dataframe tbody tr th:only-of-type {\n        vertical-align: middle;\n    }\n\n    .dataframe tbody tr th {\n        vertical-align: top;\n    }\n\n    .dataframe thead th {\n        text-align: right;\n    }\n</style>\n<table border=\"1\" class=\"dataframe\">\n  <thead>\n    <tr style=\"text-align: right;\">\n      <th></th>\n      <th>ID</th>\n      <th>corrected</th>\n      <th>readable?</th>\n      <th>father</th>\n      <th>financial</th>\n      <th>pay_per_week</th>\n    </tr>\n  </thead>\n  <tbody>\n    <tr>\n      <th>0</th>\n      <td>N10001N</td>\n      <td>Today is my 25th birthday and I am in hospital...</td>\n      <td>yes</td>\n      <td>2.0</td>\n      <td>2.0</td>\n      <td>237.25</td>\n    </tr>\n    <tr>\n      <th>1</th>\n      <td>N10002P</td>\n      <td>The dog pounded up at me when i reached for he...</td>\n      <td>yes</td>\n      <td>-1.0</td>\n      <td>-1.0</td>\n      <td>NaN</td>\n    </tr>\n    <tr>\n      <th>2</th>\n      <td>N10003Q</td>\n      <td>I would get married and be a swimming instruct...</td>\n      <td>yes</td>\n      <td>3.0</td>\n      <td>1.0</td>\n      <td>NaN</td>\n    </tr>\n  </tbody>\n</table>\n</div>"
     },
     "execution_count": 4,
     "metadata": {},
     "output_type": "execute_result"
    }
   ],
   "source": [
    "# drop irrelevant columns\n",
    "data_df = data_df.drop(['file_name', 'original', 'misspellings', 'word_count','RA_name', 'completed?', 'mother'], axis=1)\n",
    "data_df.head(3)"
   ]
  },
  {
   "cell_type": "code",
   "execution_count": 5,
   "id": "33d93aca97ac0da0",
   "metadata": {
    "collapsed": false,
    "ExecuteTime": {
     "end_time": "2024-02-18T01:17:03.416120Z",
     "start_time": "2024-02-18T01:17:03.056490Z"
    }
   },
   "outputs": [
    {
     "data": {
      "text/plain": "(4843, 6)"
     },
     "execution_count": 5,
     "metadata": {},
     "output_type": "execute_result"
    }
   ],
   "source": [
    "# drop rows with missing values\n",
    "data_df = data_df.dropna()\n",
    "\n",
    "data_df.shape"
   ]
  },
  {
   "cell_type": "markdown",
   "id": "3b77dde7b9c8b8e8",
   "metadata": {
    "collapsed": false
   },
   "source": [
    "Clean the 'readable?' column"
   ]
  },
  {
   "cell_type": "code",
   "execution_count": 6,
   "id": "3df500bc3781ffbd",
   "metadata": {
    "collapsed": false,
    "ExecuteTime": {
     "end_time": "2024-02-18T01:17:03.418968Z",
     "start_time": "2024-02-18T01:17:03.061975Z"
    }
   },
   "outputs": [
    {
     "name": "stdout",
     "output_type": "stream",
     "text": [
      "['yes' 'no' 'yexs' 'yea']\n",
      "['yes' 'no']\n"
     ]
    },
    {
     "data": {
      "text/plain": "(4720, 6)"
     },
     "execution_count": 6,
     "metadata": {},
     "output_type": "execute_result"
    }
   ],
   "source": [
    "# turn 'readable?' to lowercase\n",
    "data_df['readable?'] = data_df['readable?'].str.lower()\n",
    "\n",
    "# check the unique values\n",
    "print(data_df['readable?'].unique())\n",
    "\n",
    "# replace 'yexs' and 'yea' with 'yes'\n",
    "data_df['readable?'] = data_df['readable?'].replace(['yexs', 'yea'], 'yes')\n",
    "\n",
    "# check the unique values again\n",
    "print(data_df['readable?'].unique())\n",
    "\n",
    "# drop rows with 'no'\n",
    "data_df = data_df[data_df['readable?'] == 'yes']\n",
    "\n",
    "data_df.shape"
   ]
  },
  {
   "cell_type": "code",
   "execution_count": 7,
   "id": "62760472d8461b0b",
   "metadata": {
    "collapsed": false,
    "ExecuteTime": {
     "end_time": "2024-02-18T01:17:03.451345Z",
     "start_time": "2024-02-18T01:17:03.070689Z"
    }
   },
   "outputs": [
    {
     "data": {
      "text/plain": "         ID                                          corrected readable?  \\\n0   N10001N  Today is my 25th birthday and I am in hospital...       yes   \n3   N10004R  When I am 25 years old. I hope that I will be ...       yes   \n12  N10013S  Now that I am 25 and I have left college I thi...       yes   \n\n    father  financial  pay_per_week  \n0      2.0        2.0        237.25  \n3      2.0        2.0        221.25  \n12     2.0        2.0        729.00  ",
      "text/html": "<div>\n<style scoped>\n    .dataframe tbody tr th:only-of-type {\n        vertical-align: middle;\n    }\n\n    .dataframe tbody tr th {\n        vertical-align: top;\n    }\n\n    .dataframe thead th {\n        text-align: right;\n    }\n</style>\n<table border=\"1\" class=\"dataframe\">\n  <thead>\n    <tr style=\"text-align: right;\">\n      <th></th>\n      <th>ID</th>\n      <th>corrected</th>\n      <th>readable?</th>\n      <th>father</th>\n      <th>financial</th>\n      <th>pay_per_week</th>\n    </tr>\n  </thead>\n  <tbody>\n    <tr>\n      <th>0</th>\n      <td>N10001N</td>\n      <td>Today is my 25th birthday and I am in hospital...</td>\n      <td>yes</td>\n      <td>2.0</td>\n      <td>2.0</td>\n      <td>237.25</td>\n    </tr>\n    <tr>\n      <th>3</th>\n      <td>N10004R</td>\n      <td>When I am 25 years old. I hope that I will be ...</td>\n      <td>yes</td>\n      <td>2.0</td>\n      <td>2.0</td>\n      <td>221.25</td>\n    </tr>\n    <tr>\n      <th>12</th>\n      <td>N10013S</td>\n      <td>Now that I am 25 and I have left college I thi...</td>\n      <td>yes</td>\n      <td>2.0</td>\n      <td>2.0</td>\n      <td>729.00</td>\n    </tr>\n  </tbody>\n</table>\n</div>"
     },
     "execution_count": 7,
     "metadata": {},
     "output_type": "execute_result"
    }
   ],
   "source": [
    "# preview the data\n",
    "data_df.head(3) "
   ]
  },
  {
   "cell_type": "markdown",
   "id": "cfa0582b21d6b5a2",
   "metadata": {
    "collapsed": false
   },
   "source": [
    "## Data Preprocessing\n",
    "\n",
    "In this data set, we label high SES as 1 and low SES as 2: * father’s occupation is coded as: 1 - non-manual; 2 - manual; * financial hardship is coded as: 1 - No; 2 - Yes;\n",
    "\n",
    "Combination of father’s occupation and financial hardship: * 1 - father had a non-manual job & no financial hardship. * 2 - father had a manual job & no financial hardship. * 3 - father had a non-manual job & financial hardship. * 4 - father had a manual job & financial hardship."
   ]
  },
  {
   "cell_type": "code",
   "execution_count": 8,
   "id": "6f4112090ea39327",
   "metadata": {
    "collapsed": false,
    "ExecuteTime": {
     "end_time": "2024-02-18T01:17:03.467323Z",
     "start_time": "2024-02-18T01:17:03.076393Z"
    }
   },
   "outputs": [],
   "source": [
    "# Define a function to apply the conditions\n",
    "def combine_columns(row):\n",
    "    if row['father'] == 1 and row['financial'] == 1:\n",
    "        return 1\n",
    "    elif row['father'] == 2 and row['financial'] == 1:\n",
    "        return 2\n",
    "    elif row['father'] == 1 and row['financial'] == 2:\n",
    "        return 3\n",
    "    elif row['father'] == 2 and row['financial'] == 2:\n",
    "        return 4\n",
    "    else:\n",
    "        return None "
   ]
  },
  {
   "cell_type": "code",
   "execution_count": 9,
   "id": "75bf5d8ddf3595ac",
   "metadata": {
    "collapsed": false,
    "ExecuteTime": {
     "end_time": "2024-02-18T01:17:03.478915Z",
     "start_time": "2024-02-18T01:17:03.078677Z"
    }
   },
   "outputs": [
    {
     "data": {
      "text/plain": "         ID                                          corrected readable?  \\\n0   N10001N  Today is my 25th birthday and I am in hospital...       yes   \n3   N10004R  When I am 25 years old. I hope that I will be ...       yes   \n12  N10013S  Now that I am 25 and I have left college I thi...       yes   \n\n   father financial  pay_per_week family_ses  \n0     2.0       2.0        237.25        4.0  \n3     2.0       2.0        221.25        4.0  \n12    2.0       2.0        729.00        4.0  ",
      "text/html": "<div>\n<style scoped>\n    .dataframe tbody tr th:only-of-type {\n        vertical-align: middle;\n    }\n\n    .dataframe tbody tr th {\n        vertical-align: top;\n    }\n\n    .dataframe thead th {\n        text-align: right;\n    }\n</style>\n<table border=\"1\" class=\"dataframe\">\n  <thead>\n    <tr style=\"text-align: right;\">\n      <th></th>\n      <th>ID</th>\n      <th>corrected</th>\n      <th>readable?</th>\n      <th>father</th>\n      <th>financial</th>\n      <th>pay_per_week</th>\n      <th>family_ses</th>\n    </tr>\n  </thead>\n  <tbody>\n    <tr>\n      <th>0</th>\n      <td>N10001N</td>\n      <td>Today is my 25th birthday and I am in hospital...</td>\n      <td>yes</td>\n      <td>2.0</td>\n      <td>2.0</td>\n      <td>237.25</td>\n      <td>4.0</td>\n    </tr>\n    <tr>\n      <th>3</th>\n      <td>N10004R</td>\n      <td>When I am 25 years old. I hope that I will be ...</td>\n      <td>yes</td>\n      <td>2.0</td>\n      <td>2.0</td>\n      <td>221.25</td>\n      <td>4.0</td>\n    </tr>\n    <tr>\n      <th>12</th>\n      <td>N10013S</td>\n      <td>Now that I am 25 and I have left college I thi...</td>\n      <td>yes</td>\n      <td>2.0</td>\n      <td>2.0</td>\n      <td>729.00</td>\n      <td>4.0</td>\n    </tr>\n  </tbody>\n</table>\n</div>"
     },
     "execution_count": 9,
     "metadata": {},
     "output_type": "execute_result"
    }
   ],
   "source": [
    "# Apply the function to each row\n",
    "data_df['family_ses'] = data_df.apply(combine_columns, axis=1)\n",
    "\n",
    "# Convert columns to categorical data type\n",
    "data_df['father'] = data_df['father'].astype('category')\n",
    "data_df['financial'] = data_df['financial'].astype('category')\n",
    "data_df['family_ses'] = data_df['family_ses'].astype('category')\n",
    "\n",
    "#preview the data\n",
    "data_df.head(3)"
   ]
  },
  {
   "cell_type": "code",
   "outputs": [
    {
     "data": {
      "text/plain": "(4720, 7)"
     },
     "execution_count": 10,
     "metadata": {},
     "output_type": "execute_result"
    }
   ],
   "source": [
    "data_df.shape"
   ],
   "metadata": {
    "collapsed": false,
    "ExecuteTime": {
     "end_time": "2024-02-18T01:17:03.480983Z",
     "start_time": "2024-02-18T01:17:03.121186Z"
    }
   },
   "id": "ff8b0b5581c758b7",
   "execution_count": 10
  },
  {
   "cell_type": "code",
   "outputs": [],
   "source": [
    "#drop the row with empty family_ses\n",
    "data_df = data_df.dropna(subset=['family_ses'])"
   ],
   "metadata": {
    "collapsed": false,
    "ExecuteTime": {
     "end_time": "2024-02-18T01:17:03.482788Z",
     "start_time": "2024-02-18T01:17:03.125087Z"
    }
   },
   "id": "739e665f061c89bc",
   "execution_count": 11
  },
  {
   "cell_type": "code",
   "outputs": [
    {
     "data": {
      "text/plain": "(4008, 7)"
     },
     "execution_count": 12,
     "metadata": {},
     "output_type": "execute_result"
    }
   ],
   "source": [
    "data_df.shape"
   ],
   "metadata": {
    "collapsed": false,
    "ExecuteTime": {
     "end_time": "2024-02-18T01:17:03.486511Z",
     "start_time": "2024-02-18T01:17:03.127701Z"
    }
   },
   "id": "e63fe7b3ca1aa997",
   "execution_count": 12
  },
  {
   "cell_type": "code",
   "execution_count": 13,
   "id": "27a4ea21ff0124d7",
   "metadata": {
    "collapsed": false,
    "ExecuteTime": {
     "end_time": "2024-02-18T01:17:03.494419Z",
     "start_time": "2024-02-18T01:17:03.132265Z"
    }
   },
   "outputs": [
    {
     "data": {
      "text/plain": "ID                object\ncorrected         object\nreadable?         object\nfather          category\nfinancial       category\npay_per_week     float64\nfamily_ses      category\ndtype: object"
     },
     "execution_count": 13,
     "metadata": {},
     "output_type": "execute_result"
    }
   ],
   "source": [
    "# check the datatype of each column\n",
    "data_df.dtypes"
   ]
  },
  {
   "cell_type": "markdown",
   "source": [
    "Let us check the distribution of the target variable `family_ses` and `income`."
   ],
   "metadata": {
    "collapsed": false
   },
   "id": "229ef7a5d6dc2ecf"
  },
  {
   "cell_type": "code",
   "outputs": [
    {
     "data": {
      "text/plain": "family_ses\n4.0    2204\n3.0    1470\n2.0     275\n1.0      59\nName: count, dtype: int64"
     },
     "execution_count": 14,
     "metadata": {},
     "output_type": "execute_result"
    }
   ],
   "source": [
    "# check the distribution of the target variable\n",
    "data_df['family_ses'].value_counts()"
   ],
   "metadata": {
    "collapsed": false,
    "ExecuteTime": {
     "end_time": "2024-02-18T01:17:03.510335Z",
     "start_time": "2024-02-18T01:17:03.135059Z"
    }
   },
   "id": "53ea274ad6f2b476",
   "execution_count": 14
  },
  {
   "cell_type": "code",
   "outputs": [
    {
     "data": {
      "text/plain": "count     4008.000000\nmean       513.788562\nstd       1273.260537\nmin          0.250000\n25%        200.000000\n50%        350.000000\n75%        543.562500\nmax      46011.000000\nName: pay_per_week, dtype: float64"
     },
     "execution_count": 15,
     "metadata": {},
     "output_type": "execute_result"
    }
   ],
   "source": [
    "# check the distribution of pay_per_week\n",
    "data_df['pay_per_week'].describe()"
   ],
   "metadata": {
    "collapsed": false,
    "ExecuteTime": {
     "end_time": "2024-02-18T01:17:03.512572Z",
     "start_time": "2024-02-18T01:17:03.140585Z"
    }
   },
   "id": "d777b0d57f2c964a",
   "execution_count": 15
  },
  {
   "cell_type": "markdown",
   "source": [
    "We notice that the income has a wide range (outliers on the right tail). We will discard the outliers that are 3 standard deviations away from the mean."
   ],
   "metadata": {
    "collapsed": false
   },
   "id": "81220491a8033297"
  },
  {
   "cell_type": "code",
   "outputs": [
    {
     "name": "stdout",
     "output_type": "stream",
     "text": [
      "(3972, 7)\n"
     ]
    }
   ],
   "source": [
    "# remove outliers\n",
    "data_df = data_df[data_df['pay_per_week'] < data_df['pay_per_week'].mean() + 3*data_df['pay_per_week'].std()]\n",
    "\n",
    "print(data_df.shape)"
   ],
   "metadata": {
    "collapsed": false,
    "ExecuteTime": {
     "end_time": "2024-02-18T01:17:03.514483Z",
     "start_time": "2024-02-18T01:17:03.145303Z"
    }
   },
   "id": "8eecfebd873808e3",
   "execution_count": 16
  },
  {
   "cell_type": "code",
   "outputs": [
    {
     "data": {
      "text/plain": "count    3972.000000\nmean      431.394419\nstd       417.004873\nmin         0.250000\n25%       198.000000\n50%       350.000000\n75%       531.418269\nmax      4250.000000\nName: pay_per_week, dtype: float64"
     },
     "execution_count": 17,
     "metadata": {},
     "output_type": "execute_result"
    }
   ],
   "source": [
    "# check the distribution of pay_per_week again\n",
    "data_df['pay_per_week'].describe()"
   ],
   "metadata": {
    "collapsed": false,
    "ExecuteTime": {
     "end_time": "2024-02-18T01:17:03.516505Z",
     "start_time": "2024-02-18T01:17:03.148366Z"
    }
   },
   "id": "1e9e0c3520c9982c",
   "execution_count": 17
  },
  {
   "cell_type": "code",
   "outputs": [
    {
     "data": {
      "text/plain": "<Axes: >"
     },
     "execution_count": 18,
     "metadata": {},
     "output_type": "execute_result"
    },
    {
     "data": {
      "text/plain": "<Figure size 640x480 with 1 Axes>",
      "image/png": "[encoded data removed]"
     },
     "metadata": {},
     "output_type": "display_data"
    }
   ],
   "source": [
    "# let take a look at the distribution of pay_per_week\n",
    "data_df['pay_per_week'].hist(bins=50)"
   ],
   "metadata": {
    "collapsed": false,
    "ExecuteTime": {
     "end_time": "2024-02-18T01:17:03.795731Z",
     "start_time": "2024-02-18T01:17:03.152352Z"
    }
   },
   "id": "5a1daa4e797f27f7",
   "execution_count": 18
  },
  {
   "cell_type": "markdown",
   "source": [
    "Till this point, we have:\n",
    "\n",
    "1. categorical variable `family_ses`, which will be the target variable for **supervised learning - classification**\n",
    "2. numerical variable `income`, which will be the target variable for **supervised learning - regression**\n",
    "3. text variable `essay`, which will used for **unsupervised learning - topic modeling**. Also, it will serve as the input for the supervised learning models.\n",
    "\n",
    "Let us take another look at the data."
   ],
   "metadata": {
    "collapsed": false
   },
   "id": "cd49bd83ca6488b9"
  },
  {
   "cell_type": "code",
   "outputs": [
    {
     "name": "stdout",
     "output_type": "stream",
     "text": [
      "(3972, 7)\n"
     ]
    },
    {
     "data": {
      "text/plain": "         ID                                          corrected readable?  \\\n0   N10001N  Today is my 25th birthday and I am in hospital...       yes   \n3   N10004R  When I am 25 years old. I hope that I will be ...       yes   \n12  N10013S  Now that I am 25 and I have left college I thi...       yes   \n\n   father financial  pay_per_week family_ses  \n0     2.0       2.0        237.25        4.0  \n3     2.0       2.0        221.25        4.0  \n12    2.0       2.0        729.00        4.0  ",
      "text/html": "<div>\n<style scoped>\n    .dataframe tbody tr th:only-of-type {\n        vertical-align: middle;\n    }\n\n    .dataframe tbody tr th {\n        vertical-align: top;\n    }\n\n    .dataframe thead th {\n        text-align: right;\n    }\n</style>\n<table border=\"1\" class=\"dataframe\">\n  <thead>\n    <tr style=\"text-align: right;\">\n      <th></th>\n      <th>ID</th>\n      <th>corrected</th>\n      <th>readable?</th>\n      <th>father</th>\n      <th>financial</th>\n      <th>pay_per_week</th>\n      <th>family_ses</th>\n    </tr>\n  </thead>\n  <tbody>\n    <tr>\n      <th>0</th>\n      <td>N10001N</td>\n      <td>Today is my 25th birthday and I am in hospital...</td>\n      <td>yes</td>\n      <td>2.0</td>\n      <td>2.0</td>\n      <td>237.25</td>\n      <td>4.0</td>\n    </tr>\n    <tr>\n      <th>3</th>\n      <td>N10004R</td>\n      <td>When I am 25 years old. I hope that I will be ...</td>\n      <td>yes</td>\n      <td>2.0</td>\n      <td>2.0</td>\n      <td>221.25</td>\n      <td>4.0</td>\n    </tr>\n    <tr>\n      <th>12</th>\n      <td>N10013S</td>\n      <td>Now that I am 25 and I have left college I thi...</td>\n      <td>yes</td>\n      <td>2.0</td>\n      <td>2.0</td>\n      <td>729.00</td>\n      <td>4.0</td>\n    </tr>\n  </tbody>\n</table>\n</div>"
     },
     "execution_count": 19,
     "metadata": {},
     "output_type": "execute_result"
    }
   ],
   "source": [
    "# check shape\n",
    "print(data_df.shape)\n",
    "# preview the data\n",
    "data_df.head(3)"
   ],
   "metadata": {
    "collapsed": false,
    "ExecuteTime": {
     "end_time": "2024-02-18T01:17:03.820885Z",
     "start_time": "2024-02-18T01:17:03.462362Z"
    }
   },
   "id": "d24f665c87abf5fb",
   "execution_count": 19
  },
  {
   "cell_type": "code",
   "outputs": [
    {
     "data": {
      "text/plain": "                                            corrected family_ses  pay_per_week\n0   Today is my 25th birthday and I am in hospital...        4.0        237.25\n3   When I am 25 years old. I hope that I will be ...        4.0        221.25\n12  Now that I am 25 and I have left college I thi...        4.0        729.00",
      "text/html": "<div>\n<style scoped>\n    .dataframe tbody tr th:only-of-type {\n        vertical-align: middle;\n    }\n\n    .dataframe tbody tr th {\n        vertical-align: top;\n    }\n\n    .dataframe thead th {\n        text-align: right;\n    }\n</style>\n<table border=\"1\" class=\"dataframe\">\n  <thead>\n    <tr style=\"text-align: right;\">\n      <th></th>\n      <th>corrected</th>\n      <th>family_ses</th>\n      <th>pay_per_week</th>\n    </tr>\n  </thead>\n  <tbody>\n    <tr>\n      <th>0</th>\n      <td>Today is my 25th birthday and I am in hospital...</td>\n      <td>4.0</td>\n      <td>237.25</td>\n    </tr>\n    <tr>\n      <th>3</th>\n      <td>When I am 25 years old. I hope that I will be ...</td>\n      <td>4.0</td>\n      <td>221.25</td>\n    </tr>\n    <tr>\n      <th>12</th>\n      <td>Now that I am 25 and I have left college I thi...</td>\n      <td>4.0</td>\n      <td>729.00</td>\n    </tr>\n  </tbody>\n</table>\n</div>"
     },
     "execution_count": 20,
     "metadata": {},
     "output_type": "execute_result"
    }
   ],
   "source": [
    "# create a new dataframe with column corrected, family_ses and pay_per_week from data_df\n",
    "df = data_df[['corrected', 'family_ses', 'pay_per_week']]\n",
    "\n",
    "# preview the data\n",
    "df.head(3)"
   ],
   "metadata": {
    "collapsed": false,
    "ExecuteTime": {
     "end_time": "2024-02-18T01:17:03.832567Z",
     "start_time": "2024-02-18T01:17:03.471243Z"
    }
   },
   "id": "ceac2de63950cbe8",
   "execution_count": 20
  },
  {
   "cell_type": "code",
   "outputs": [],
   "source": [
    "# save the dataframe to a new csv file\n",
    "df.to_csv('cleaned_data.csv', index=False)"
   ],
   "metadata": {
    "collapsed": false,
    "ExecuteTime": {
     "end_time": "2024-02-18T01:17:03.889774Z",
     "start_time": "2024-02-18T01:17:03.474379Z"
    }
   },
   "id": "6f26e84500dff4c5",
   "execution_count": 21
  },
  {
   "cell_type": "markdown",
   "source": [
    "Next, we need to preprocess the text data."
   ],
   "metadata": {
    "collapsed": false
   },
   "id": "c1ca972f18825fe2"
  },
  {
   "cell_type": "markdown",
   "id": "6e7caf4fe68986e9",
   "metadata": {
    "collapsed": false
   },
   "source": [
    "## Text Preprocessing\n",
    "\n",
    "For future classification and regression tasks, I will take an **embedding** approach using word2vec. I will use the `gensim` library to train the word2vec model."
   ]
  },
  {
   "cell_type": "markdown",
   "source": [
    "\n",
    "Reference: \n",
    "- https://spotintelligence.com/2023/02/15/word2vec-for-text-classification/#Word2Vec_for_text_classification"
   ],
   "metadata": {
    "collapsed": false
   },
   "id": "f3942a4d6b8b7d65"
  },
  {
   "cell_type": "code",
   "outputs": [
    {
     "name": "stderr",
     "output_type": "stream",
     "text": [
      "/var/folders/zh/79y5ykz51rxcnjchzb73nfxw0000gn/T/ipykernel_47950/889133808.py:14: SettingWithCopyWarning: \n",
      "A value is trying to be set on a copy of a slice from a DataFrame.\n",
      "Try using .loc[row_indexer,col_indexer] = value instead\n",
      "\n",
      "See the caveats in the documentation: https://pandas.pydata.org/pandas-docs/stable/user_guide/indexing.html#returning-a-view-versus-a-copy\n",
      "  df['essay'] = df['corrected'].apply(preprocess)\n"
     ]
    }
   ],
   "source": [
    "from nltk.corpus import stopwords\n",
    "from nltk.tokenize import word_tokenize\n",
    "import string\n",
    "\n",
    "stop_words = set(stopwords.words('english'))\n",
    "def preprocess(text):\n",
    "    text = text.lower()\n",
    "    text = ''.join([word for word in text if word not in string.punctuation])\n",
    "    tokens = word_tokenize(text)\n",
    "    tokens = [word for word in tokens if word not in stop_words]\n",
    "    return ' '.join(tokens)\n",
    "\n",
    "# apply the function to the 'corrected' column\n",
    "df['essay'] = df['corrected'].apply(preprocess)"
   ],
   "metadata": {
    "collapsed": false,
    "ExecuteTime": {
     "end_time": "2024-02-18T01:17:05.471677Z",
     "start_time": "2024-02-18T01:17:03.525064Z"
    }
   },
   "id": "30a084e51d854cc0",
   "execution_count": 22
  },
  {
   "cell_type": "code",
   "outputs": [],
   "source": [
    "from gensim.models import Word2Vec\n",
    "\n",
    "sentences = [sentence.split() for sentence in df['essay']]\n",
    "w2v_model = Word2Vec(sentences, window=5, min_count=5, workers=4)"
   ],
   "metadata": {
    "collapsed": false,
    "ExecuteTime": {
     "end_time": "2024-02-18T01:17:06.393868Z",
     "start_time": "2024-02-18T01:17:05.469865Z"
    }
   },
   "id": "abdda44fd0e9ee2e",
   "execution_count": 23
  },
  {
   "cell_type": "code",
   "outputs": [],
   "source": [
    "import numpy as np\n",
    "\n",
    "def vectorize(sentence):\n",
    "    words = sentence.split()\n",
    "    words_vecs = [w2v_model.wv[word] for word in words if word in w2v_model.wv]\n",
    "    if len(words_vecs) == 0:\n",
    "        return np.zeros(100)\n",
    "    words_vecs = np.array(words_vecs)\n",
    "    return words_vecs.mean(axis=0)"
   ],
   "metadata": {
    "collapsed": false,
    "ExecuteTime": {
     "end_time": "2024-02-18T01:17:06.399975Z",
     "start_time": "2024-02-18T01:17:06.396746Z"
    }
   },
   "id": "7c28644928f6e237",
   "execution_count": 24
  },
  {
   "cell_type": "code",
   "outputs": [],
   "source": [
    "essays = np.array([vectorize(sentence) for sentence in df['essay']])"
   ],
   "metadata": {
    "collapsed": false,
    "ExecuteTime": {
     "end_time": "2024-02-18T01:17:06.816433Z",
     "start_time": "2024-02-18T01:17:06.399362Z"
    }
   },
   "id": "783537c0cae68b5a",
   "execution_count": 25
  },
  {
   "cell_type": "code",
   "outputs": [
    {
     "data": {
      "text/plain": "array([[-0.11246365,  0.17454673,  0.05229707, -0.07233256,  0.05069599,\n        -0.57443124,  0.16972995,  0.46120012, -0.4732978 , -0.36397707,\n         0.07617242, -0.44332194,  0.40837142, -0.08286877,  0.23994495,\n        -0.42285258,  0.17107917, -0.24717905, -0.39495566, -0.70533085,\n        -0.11696926,  0.2159124 , -0.05065285, -0.20452781, -0.26111192,\n         0.30069923, -0.39004263, -0.2379179 , -0.1738525 ,  0.21246888,\n         0.0814508 , -0.10284306, -0.05714114, -0.27530706, -0.44895983,\n         0.19428343,  0.13500914, -0.11411589, -0.03180087, -0.6240883 ,\n        -0.0506794 , -0.22814904, -0.30290833,  0.03729494,  0.30279124,\n         0.00965479, -0.2774558 , -0.21368118,  0.49528036,  0.39825726,\n         0.09265195, -0.2785473 , -0.08314785, -0.31763694, -0.24493068,\n         0.06045438,  0.05758709, -0.33795574, -0.27210993, -0.12635876,\n         0.27698296,  0.08204318,  0.05134289, -0.21362908, -0.44280493,\n         0.4693658 , -0.00334883,  0.18466805, -0.4692434 ,  0.415697  ,\n        -0.5258394 ,  0.731819  ,  0.4375402 ,  0.16654724,  0.16441292,\n         0.10954805,  0.07935231,  0.07686616, -0.6904315 , -0.17895514,\n         0.21511306, -0.0531892 , -0.6391768 ,  0.6326818 , -0.34026632,\n        -0.08684251,  0.05076647, -0.12911896,  0.2890944 ,  0.42864394,\n         0.36370382,  0.17888705,  0.09279104,  0.1011794 ,  0.67912966,\n         0.40473413,  0.04675573,  0.07027026,  0.04692011, -0.60008967],\n       [-0.2385876 , -0.10725085,  0.21414433,  0.24513803,  0.10101392,\n        -0.69999075,  0.3485953 ,  0.5771926 , -0.31878477, -0.5486052 ,\n        -0.04304031, -0.46430925,  0.0132919 ,  0.3428822 ,  0.00533777,\n        -0.24323066,  0.02403948, -0.35722092, -0.40249774, -0.7826401 ,\n         0.3173042 ,  0.25201792,  0.05101039, -0.27586445, -0.14291279,\n         0.35903934, -0.55052334,  0.20104986, -0.60922664,  0.15502867,\n         0.21668482, -0.0793894 ,  0.32097363, -0.6050958 , -0.08634724,\n         0.44626063,  0.11974839,  0.00296914, -0.06909647, -0.32880294,\n         0.22748528, -0.591899  , -0.2848562 ,  0.1082058 ,  0.45311818,\n        -0.10971429, -0.26886192, -0.25624722,  0.4673026 ,  0.19349104,\n         0.10959616, -0.26637378,  0.05580144, -0.11429449,  0.02593788,\n         0.47485813, -0.03397316,  0.00151018, -0.19687216,  0.19256715,\n        -0.01192103, -0.16090357,  0.32453763, -0.1658402 , -0.261559  ,\n         0.32412985, -0.08111367,  0.54519296, -0.22747016,  0.30195442,\n        -0.15721905,  0.3504156 ,  0.41836718,  0.08299783,  0.50909406,\n        -0.02588829, -0.01138973, -0.24047045, -0.26229653, -0.1472278 ,\n        -0.45155647,  0.28920898, -0.07553631,  0.3576439 , -0.3142753 ,\n        -0.19323641,  0.47850242,  0.2612389 ,  0.28781968,  0.10995969,\n         0.45614353, -0.01207983,  0.0489949 ,  0.02781547,  0.42335722,\n         0.43945923, -0.20142408, -0.03521187,  0.00350716, -0.12717524],\n       [-0.1978585 ,  0.15061136,  0.0938369 ,  0.13498634,  0.13404088,\n        -0.5641931 ,  0.14079961,  0.7657502 , -0.29637405, -0.28504863,\n        -0.1751978 , -0.23325935,  0.07207497,  0.32476196,  0.11596886,\n        -0.1901069 , -0.02504981, -0.17890856, -0.07213694, -0.65531796,\n         0.3349626 ,  0.1269039 ,  0.20681074, -0.08526715, -0.12879905,\n         0.15547746, -0.39286098, -0.05178566, -0.39205825,  0.16012609,\n         0.23015906,  0.0825858 ,  0.27891058, -0.4041004 , -0.09101024,\n         0.59597224,  0.01589747, -0.11173251, -0.1402245 , -0.3023545 ,\n         0.19751287, -0.37279066, -0.20300172,  0.07945664,  0.21415155,\n         0.01808446, -0.22240329, -0.06306834,  0.2537169 , -0.09322274,\n         0.23657653, -0.34991217, -0.14113931, -0.172798  , -0.05434809,\n         0.2442759 , -0.07246198,  0.16578642, -0.2677102 ,  0.29761165,\n        -0.1545764 , -0.0377179 ,  0.09124432, -0.0013877 , -0.19582085,\n         0.2075273 ,  0.24002132,  0.43679127, -0.2599797 ,  0.29250783,\n         0.00124907,  0.1475759 ,  0.20810808, -0.00079415,  0.42498556,\n         0.20591487, -0.03404498, -0.03614805, -0.09079698,  0.10361941,\n        -0.28042188,  0.1688329 ,  0.00921257,  0.34108883, -0.3212831 ,\n        -0.01727051,  0.36159897,  0.22514957,  0.53301054,  0.02276792,\n         0.45775378, -0.00569698,  0.00942968,  0.02334974,  0.47946092,\n         0.24346204, -0.03835395, -0.2972664 ,  0.15612572,  0.09988248]],\n      dtype=float32)"
     },
     "execution_count": 26,
     "metadata": {},
     "output_type": "execute_result"
    }
   ],
   "source": [
    "# preview essays\n",
    "essays[:3]"
   ],
   "metadata": {
    "collapsed": false,
    "ExecuteTime": {
     "end_time": "2024-02-18T01:17:06.825135Z",
     "start_time": "2024-02-18T01:17:06.818539Z"
    }
   },
   "id": "406acade4f5f16e9",
   "execution_count": 26
  },
  {
   "cell_type": "code",
   "outputs": [
    {
     "name": "stderr",
     "output_type": "stream",
     "text": [
      "/var/folders/zh/79y5ykz51rxcnjchzb73nfxw0000gn/T/ipykernel_47950/208592734.py:2: SettingWithCopyWarning: \n",
      "A value is trying to be set on a copy of a slice from a DataFrame.\n",
      "Try using .loc[row_indexer,col_indexer] = value instead\n",
      "\n",
      "See the caveats in the documentation: https://pandas.pydata.org/pandas-docs/stable/user_guide/indexing.html#returning-a-view-versus-a-copy\n",
      "  df['essay_vec'] = list(essays)\n"
     ]
    },
    {
     "data": {
      "text/plain": "                                            corrected family_ses  \\\n0   Today is my 25th birthday and I am in hospital...        4.0   \n3   When I am 25 years old. I hope that I will be ...        4.0   \n12  Now that I am 25 and I have left college I thi...        4.0   \n\n    pay_per_week                                              essay  \\\n0         237.25  today 25th birthday hospital first baby child ...   \n3         221.25  25 years old hope married raising family would...   \n12        729.00  25 left college think go ask interview fire st...   \n\n                                            essay_vec  \n0   [-0.112463646, 0.17454673, 0.05229707, -0.0723...  \n3   [-0.2385876, -0.10725085, 0.21414433, 0.245138...  \n12  [-0.1978585, 0.15061136, 0.093836896, 0.134986...  ",
      "text/html": "<div>\n<style scoped>\n    .dataframe tbody tr th:only-of-type {\n        vertical-align: middle;\n    }\n\n    .dataframe tbody tr th {\n        vertical-align: top;\n    }\n\n    .dataframe thead th {\n        text-align: right;\n    }\n</style>\n<table border=\"1\" class=\"dataframe\">\n  <thead>\n    <tr style=\"text-align: right;\">\n      <th></th>\n      <th>corrected</th>\n      <th>family_ses</th>\n      <th>pay_per_week</th>\n      <th>essay</th>\n      <th>essay_vec</th>\n    </tr>\n  </thead>\n  <tbody>\n    <tr>\n      <th>0</th>\n      <td>Today is my 25th birthday and I am in hospital...</td>\n      <td>4.0</td>\n      <td>237.25</td>\n      <td>today 25th birthday hospital first baby child ...</td>\n      <td>[-0.112463646, 0.17454673, 0.05229707, -0.0723...</td>\n    </tr>\n    <tr>\n      <th>3</th>\n      <td>When I am 25 years old. I hope that I will be ...</td>\n      <td>4.0</td>\n      <td>221.25</td>\n      <td>25 years old hope married raising family would...</td>\n      <td>[-0.2385876, -0.10725085, 0.21414433, 0.245138...</td>\n    </tr>\n    <tr>\n      <th>12</th>\n      <td>Now that I am 25 and I have left college I thi...</td>\n      <td>4.0</td>\n      <td>729.00</td>\n      <td>25 left college think go ask interview fire st...</td>\n      <td>[-0.1978585, 0.15061136, 0.093836896, 0.134986...</td>\n    </tr>\n  </tbody>\n</table>\n</div>"
     },
     "execution_count": 27,
     "metadata": {},
     "output_type": "execute_result"
    }
   ],
   "source": [
    "# put essays back to df\n",
    "df['essay_vec'] = list(essays)\n",
    "\n",
    "# preview the data\n",
    "df.head(3)"
   ],
   "metadata": {
    "collapsed": false,
    "ExecuteTime": {
     "end_time": "2024-02-18T01:17:06.843354Z",
     "start_time": "2024-02-18T01:17:06.821744Z"
    }
   },
   "id": "6007cb4594a29c89",
   "execution_count": 27
  },
  {
   "cell_type": "markdown",
   "source": [
    "# Modelling \n",
    "\n",
    "In the following sections, I will perform linear regression and polynomial regression to predict income."
   ],
   "metadata": {
    "collapsed": false
   },
   "id": "97160e971459f59a"
  },
  {
   "cell_type": "code",
   "outputs": [],
   "source": [
    "# split the data into training and testing sets\n",
    "from sklearn.model_selection import train_test_split\n",
    "\n",
    "X = np.array(list(df['essay_vec']))\n",
    "y = df['pay_per_week']\n",
    "\n",
    "X_train, X_test, y_train, y_test = train_test_split(X, y, test_size=0.2, random_state=42)"
   ],
   "metadata": {
    "collapsed": false,
    "ExecuteTime": {
     "end_time": "2024-02-18T01:17:06.845760Z",
     "start_time": "2024-02-18T01:17:06.830405Z"
    }
   },
   "id": "658ef2cd5a3b4f53",
   "execution_count": 28
  },
  {
   "cell_type": "markdown",
   "source": [
    "## Linear Regression\n",
    "\n",
    "I will use the `income` as the target variable and `essay_vec` as the input."
   ],
   "metadata": {
    "collapsed": false
   },
   "id": "3a8fbb13dae0c03b"
  },
  {
   "cell_type": "code",
   "outputs": [
    {
     "data": {
      "text/plain": "0.05473100487503513"
     },
     "execution_count": 29,
     "metadata": {},
     "output_type": "execute_result"
    }
   ],
   "source": [
    "from sklearn.linear_model import LinearRegression\n",
    "from sklearn.metrics import mean_squared_error\n",
    "\n",
    "# fit the model\n",
    "lr = LinearRegression()\n",
    "lr.fit(X_train, y_train)\n",
    "\n",
    "# score the model\n",
    "lr.score(X_test, y_test)"
   ],
   "metadata": {
    "collapsed": false,
    "ExecuteTime": {
     "end_time": "2024-02-18T01:17:07.581366Z",
     "start_time": "2024-02-18T01:17:06.837377Z"
    }
   },
   "id": "a2af38133d86e1ab",
   "execution_count": 29
  },
  {
   "cell_type": "code",
   "outputs": [
    {
     "name": "stdout",
     "output_type": "stream",
     "text": [
      "The MSE is  177539.26451821125\n",
      "The MAE is  248.7930324663329\n"
     ]
    }
   ],
   "source": [
    "from sklearn.metrics import mean_absolute_error\n",
    "\n",
    "# get mean squared error\n",
    "y_pred = lr.predict(X_test)\n",
    "print(\"The MSE is \",mean_squared_error(y_test, y_pred))        \n",
    "print(\"The MAE is \",mean_absolute_error(y_test, y_pred))"
   ],
   "metadata": {
    "collapsed": false,
    "ExecuteTime": {
     "end_time": "2024-02-18T01:17:07.652820Z",
     "start_time": "2024-02-18T01:17:07.576303Z"
    }
   },
   "id": "a3f35649899fae66",
   "execution_count": 30
  },
  {
   "cell_type": "markdown",
   "source": [
    "Interpretation: The average squared difference between the actual income (observed values) and the predicted income produced by the model is 175951. The average absolute difference between the actual income (observed values) and the predicted income produced by the model is 244.\n",
    "\n",
    "Although the prediction is quite off, it is not unreasonable given that the x values are word vectors. There is not a strong linear relationship between the word vectors and income."
   ],
   "metadata": {
    "collapsed": false
   },
   "id": "289345bf755ec39d"
  },
  {
   "cell_type": "markdown",
   "source": [
    "### Regarding Feature Importance (Why Skipping this part?)\n",
    "\n",
    "I decided to use word2vec embedding, and use the means of all word vectors in the essay to represent an essay. \n",
    "\n",
    "With this text encoding approach, I cannot extract feature importance, because 1) each feature does not have inherent meaning since it is just a value in the embedding space, 2) as a result of the averaging process, the end vector cannot be mapped to actual words in the original corpus. \n",
    "\n",
    "I have stated the problem on [Ed Discussion](https://edstem.org/us/courses/50870/discussion/4286858). \n",
    "\n",
    "\n",
    "<span style=\"color: red;\">I have considered TA's suggestion to use TF-IDF and Bag of Words, I also performed the analysis using those two methods. However, the performance is A LOT worse than word2vec. </span>\n",
    "\n",
    "With the word2vec approach, the performance is not good, but it is the best among all the methods I have tried (with a score close to 0.7) in constrast to the best score of negative values using TF-IDF and Bag of Words."
   ],
   "metadata": {
    "collapsed": false
   },
   "id": "b6c81a0e48530f26"
  },
  {
   "cell_type": "markdown",
   "source": [
    "### Hyperparameter Tuning\n",
    "\n",
    "Since L1 and L2 regularization can help with overfitting, I will perform grid search to find the best hyperparameters using [ElasticNet](https://scikit-learn.org/stable/modules/generated/sklearn.linear_model.ElasticNet.html), which is a combination of L1 and L2 regularization."
   ],
   "metadata": {
    "collapsed": false
   },
   "id": "52959fac7cb9d81"
  },
  {
   "cell_type": "code",
   "outputs": [
    {
     "name": "stderr",
     "output_type": "stream",
     "text": [
      "/Users/mhhuang/anaconda3/envs/ContentAnalysis/lib/python3.9/site-packages/sklearn/linear_model/_coordinate_descent.py:628: ConvergenceWarning: Objective did not converge. You might want to increase the number of iterations, check the scale of the features or consider increasing regularisation. Duality gap: 1.737e+08, tolerance: 4.481e+04\n",
      "  model = cd_fast.enet_coordinate_descent(\n",
      "/Users/mhhuang/anaconda3/envs/ContentAnalysis/lib/python3.9/site-packages/sklearn/linear_model/_coordinate_descent.py:628: ConvergenceWarning: Objective did not converge. You might want to increase the number of iterations, check the scale of the features or consider increasing regularisation. Duality gap: 1.579e+08, tolerance: 4.102e+04\n",
      "  model = cd_fast.enet_coordinate_descent(\n",
      "/Users/mhhuang/anaconda3/envs/ContentAnalysis/lib/python3.9/site-packages/sklearn/linear_model/_coordinate_descent.py:628: ConvergenceWarning: Objective did not converge. You might want to increase the number of iterations, check the scale of the features or consider increasing regularisation. Duality gap: 1.552e+08, tolerance: 3.977e+04\n",
      "  model = cd_fast.enet_coordinate_descent(\n",
      "/Users/mhhuang/anaconda3/envs/ContentAnalysis/lib/python3.9/site-packages/sklearn/linear_model/_coordinate_descent.py:628: ConvergenceWarning: Objective did not converge. You might want to increase the number of iterations, check the scale of the features or consider increasing regularisation. Duality gap: 1.009e+08, tolerance: 4.561e+04\n",
      "  model = cd_fast.enet_coordinate_descent(\n",
      "/Users/mhhuang/anaconda3/envs/ContentAnalysis/lib/python3.9/site-packages/sklearn/linear_model/_coordinate_descent.py:628: ConvergenceWarning: Objective did not converge. You might want to increase the number of iterations, check the scale of the features or consider increasing regularisation. Duality gap: 1.813e+08, tolerance: 4.523e+04\n",
      "  model = cd_fast.enet_coordinate_descent(\n",
      "/Users/mhhuang/anaconda3/envs/ContentAnalysis/lib/python3.9/site-packages/sklearn/linear_model/_coordinate_descent.py:628: ConvergenceWarning: Objective did not converge. You might want to increase the number of iterations, check the scale of the features or consider increasing regularisation. Duality gap: 1.515e+08, tolerance: 4.481e+04\n",
      "  model = cd_fast.enet_coordinate_descent(\n",
      "/Users/mhhuang/anaconda3/envs/ContentAnalysis/lib/python3.9/site-packages/sklearn/linear_model/_coordinate_descent.py:628: ConvergenceWarning: Objective did not converge. You might want to increase the number of iterations, check the scale of the features or consider increasing regularisation. Duality gap: 1.193e+08, tolerance: 4.102e+04\n",
      "  model = cd_fast.enet_coordinate_descent(\n",
      "/Users/mhhuang/anaconda3/envs/ContentAnalysis/lib/python3.9/site-packages/sklearn/linear_model/_coordinate_descent.py:628: ConvergenceWarning: Objective did not converge. You might want to increase the number of iterations, check the scale of the features or consider increasing regularisation. Duality gap: 1.518e+08, tolerance: 3.977e+04\n",
      "  model = cd_fast.enet_coordinate_descent(\n",
      "/Users/mhhuang/anaconda3/envs/ContentAnalysis/lib/python3.9/site-packages/sklearn/linear_model/_coordinate_descent.py:628: ConvergenceWarning: Objective did not converge. You might want to increase the number of iterations, check the scale of the features or consider increasing regularisation. Duality gap: 1.437e+08, tolerance: 4.561e+04\n",
      "  model = cd_fast.enet_coordinate_descent(\n",
      "/Users/mhhuang/anaconda3/envs/ContentAnalysis/lib/python3.9/site-packages/sklearn/linear_model/_coordinate_descent.py:628: ConvergenceWarning: Objective did not converge. You might want to increase the number of iterations, check the scale of the features or consider increasing regularisation. Duality gap: 1.615e+08, tolerance: 4.523e+04\n",
      "  model = cd_fast.enet_coordinate_descent(\n",
      "/Users/mhhuang/anaconda3/envs/ContentAnalysis/lib/python3.9/site-packages/sklearn/linear_model/_coordinate_descent.py:628: ConvergenceWarning: Objective did not converge. You might want to increase the number of iterations, check the scale of the features or consider increasing regularisation. Duality gap: 1.400e+08, tolerance: 4.481e+04\n",
      "  model = cd_fast.enet_coordinate_descent(\n",
      "/Users/mhhuang/anaconda3/envs/ContentAnalysis/lib/python3.9/site-packages/sklearn/linear_model/_coordinate_descent.py:628: ConvergenceWarning: Objective did not converge. You might want to increase the number of iterations, check the scale of the features or consider increasing regularisation. Duality gap: 1.169e+08, tolerance: 4.102e+04\n",
      "  model = cd_fast.enet_coordinate_descent(\n",
      "/Users/mhhuang/anaconda3/envs/ContentAnalysis/lib/python3.9/site-packages/sklearn/linear_model/_coordinate_descent.py:628: ConvergenceWarning: Objective did not converge. You might want to increase the number of iterations, check the scale of the features or consider increasing regularisation. Duality gap: 1.585e+08, tolerance: 3.977e+04\n",
      "  model = cd_fast.enet_coordinate_descent(\n",
      "/Users/mhhuang/anaconda3/envs/ContentAnalysis/lib/python3.9/site-packages/sklearn/linear_model/_coordinate_descent.py:628: ConvergenceWarning: Objective did not converge. You might want to increase the number of iterations, check the scale of the features or consider increasing regularisation. Duality gap: 1.555e+08, tolerance: 4.561e+04\n",
      "  model = cd_fast.enet_coordinate_descent(\n",
      "/Users/mhhuang/anaconda3/envs/ContentAnalysis/lib/python3.9/site-packages/sklearn/linear_model/_coordinate_descent.py:628: ConvergenceWarning: Objective did not converge. You might want to increase the number of iterations, check the scale of the features or consider increasing regularisation. Duality gap: 1.497e+08, tolerance: 4.523e+04\n",
      "  model = cd_fast.enet_coordinate_descent(\n",
      "/Users/mhhuang/anaconda3/envs/ContentAnalysis/lib/python3.9/site-packages/sklearn/linear_model/_coordinate_descent.py:628: ConvergenceWarning: Objective did not converge. You might want to increase the number of iterations, check the scale of the features or consider increasing regularisation. Duality gap: 1.725e+08, tolerance: 4.481e+04\n",
      "  model = cd_fast.enet_coordinate_descent(\n",
      "/Users/mhhuang/anaconda3/envs/ContentAnalysis/lib/python3.9/site-packages/sklearn/linear_model/_coordinate_descent.py:628: ConvergenceWarning: Objective did not converge. You might want to increase the number of iterations, check the scale of the features or consider increasing regularisation. Duality gap: 1.497e+08, tolerance: 4.102e+04\n",
      "  model = cd_fast.enet_coordinate_descent(\n",
      "/Users/mhhuang/anaconda3/envs/ContentAnalysis/lib/python3.9/site-packages/sklearn/linear_model/_coordinate_descent.py:628: ConvergenceWarning: Objective did not converge. You might want to increase the number of iterations, check the scale of the features or consider increasing regularisation. Duality gap: 1.665e+08, tolerance: 3.977e+04\n",
      "  model = cd_fast.enet_coordinate_descent(\n",
      "/Users/mhhuang/anaconda3/envs/ContentAnalysis/lib/python3.9/site-packages/sklearn/linear_model/_coordinate_descent.py:628: ConvergenceWarning: Objective did not converge. You might want to increase the number of iterations, check the scale of the features or consider increasing regularisation. Duality gap: 1.826e+08, tolerance: 4.561e+04\n",
      "  model = cd_fast.enet_coordinate_descent(\n",
      "/Users/mhhuang/anaconda3/envs/ContentAnalysis/lib/python3.9/site-packages/sklearn/linear_model/_coordinate_descent.py:628: ConvergenceWarning: Objective did not converge. You might want to increase the number of iterations, check the scale of the features or consider increasing regularisation. Duality gap: 1.694e+08, tolerance: 4.523e+04\n",
      "  model = cd_fast.enet_coordinate_descent(\n",
      "/Users/mhhuang/anaconda3/envs/ContentAnalysis/lib/python3.9/site-packages/sklearn/linear_model/_coordinate_descent.py:628: ConvergenceWarning: Objective did not converge. You might want to increase the number of iterations, check the scale of the features or consider increasing regularisation. Duality gap: 1.868e+08, tolerance: 4.481e+04\n",
      "  model = cd_fast.enet_coordinate_descent(\n",
      "/Users/mhhuang/anaconda3/envs/ContentAnalysis/lib/python3.9/site-packages/sklearn/linear_model/_coordinate_descent.py:628: ConvergenceWarning: Objective did not converge. You might want to increase the number of iterations, check the scale of the features or consider increasing regularisation. Duality gap: 1.650e+08, tolerance: 4.102e+04\n",
      "  model = cd_fast.enet_coordinate_descent(\n",
      "/Users/mhhuang/anaconda3/envs/ContentAnalysis/lib/python3.9/site-packages/sklearn/linear_model/_coordinate_descent.py:628: ConvergenceWarning: Objective did not converge. You might want to increase the number of iterations, check the scale of the features or consider increasing regularisation. Duality gap: 1.690e+08, tolerance: 3.977e+04\n",
      "  model = cd_fast.enet_coordinate_descent(\n",
      "/Users/mhhuang/anaconda3/envs/ContentAnalysis/lib/python3.9/site-packages/sklearn/linear_model/_coordinate_descent.py:628: ConvergenceWarning: Objective did not converge. You might want to increase the number of iterations, check the scale of the features or consider increasing regularisation. Duality gap: 1.909e+08, tolerance: 4.561e+04\n",
      "  model = cd_fast.enet_coordinate_descent(\n",
      "/Users/mhhuang/anaconda3/envs/ContentAnalysis/lib/python3.9/site-packages/sklearn/linear_model/_coordinate_descent.py:628: ConvergenceWarning: Objective did not converge. You might want to increase the number of iterations, check the scale of the features or consider increasing regularisation. Duality gap: 1.911e+08, tolerance: 4.523e+04\n",
      "  model = cd_fast.enet_coordinate_descent(\n",
      "/Users/mhhuang/anaconda3/envs/ContentAnalysis/lib/python3.9/site-packages/sklearn/linear_model/_coordinate_descent.py:628: ConvergenceWarning: Objective did not converge. You might want to increase the number of iterations, check the scale of the features or consider increasing regularisation. Duality gap: 1.931e+08, tolerance: 4.481e+04\n",
      "  model = cd_fast.enet_coordinate_descent(\n",
      "/Users/mhhuang/anaconda3/envs/ContentAnalysis/lib/python3.9/site-packages/sklearn/linear_model/_coordinate_descent.py:628: ConvergenceWarning: Objective did not converge. You might want to increase the number of iterations, check the scale of the features or consider increasing regularisation. Duality gap: 1.757e+08, tolerance: 4.102e+04\n",
      "  model = cd_fast.enet_coordinate_descent(\n",
      "/Users/mhhuang/anaconda3/envs/ContentAnalysis/lib/python3.9/site-packages/sklearn/linear_model/_coordinate_descent.py:628: ConvergenceWarning: Objective did not converge. You might want to increase the number of iterations, check the scale of the features or consider increasing regularisation. Duality gap: 1.711e+08, tolerance: 3.977e+04\n",
      "  model = cd_fast.enet_coordinate_descent(\n",
      "/Users/mhhuang/anaconda3/envs/ContentAnalysis/lib/python3.9/site-packages/sklearn/linear_model/_coordinate_descent.py:628: ConvergenceWarning: Objective did not converge. You might want to increase the number of iterations, check the scale of the features or consider increasing regularisation. Duality gap: 1.970e+08, tolerance: 4.561e+04\n",
      "  model = cd_fast.enet_coordinate_descent(\n",
      "/Users/mhhuang/anaconda3/envs/ContentAnalysis/lib/python3.9/site-packages/sklearn/linear_model/_coordinate_descent.py:628: ConvergenceWarning: Objective did not converge. You might want to increase the number of iterations, check the scale of the features or consider increasing regularisation. Duality gap: 1.983e+08, tolerance: 4.523e+04\n",
      "  model = cd_fast.enet_coordinate_descent(\n",
      "/Users/mhhuang/anaconda3/envs/ContentAnalysis/lib/python3.9/site-packages/sklearn/linear_model/_coordinate_descent.py:628: ConvergenceWarning: Objective did not converge. You might want to increase the number of iterations, check the scale of the features or consider increasing regularisation. Duality gap: 4.194e+05, tolerance: 4.481e+04\n",
      "  model = cd_fast.enet_coordinate_descent(\n",
      "/Users/mhhuang/anaconda3/envs/ContentAnalysis/lib/python3.9/site-packages/sklearn/linear_model/_coordinate_descent.py:628: ConvergenceWarning: Objective did not converge. You might want to increase the number of iterations, check the scale of the features or consider increasing regularisation. Duality gap: 1.288e+06, tolerance: 4.102e+04\n",
      "  model = cd_fast.enet_coordinate_descent(\n",
      "/Users/mhhuang/anaconda3/envs/ContentAnalysis/lib/python3.9/site-packages/sklearn/linear_model/_coordinate_descent.py:628: ConvergenceWarning: Objective did not converge. You might want to increase the number of iterations, check the scale of the features or consider increasing regularisation. Duality gap: 4.545e+05, tolerance: 3.977e+04\n",
      "  model = cd_fast.enet_coordinate_descent(\n",
      "/Users/mhhuang/anaconda3/envs/ContentAnalysis/lib/python3.9/site-packages/sklearn/linear_model/_coordinate_descent.py:628: ConvergenceWarning: Objective did not converge. You might want to increase the number of iterations, check the scale of the features or consider increasing regularisation. Duality gap: 1.329e+06, tolerance: 4.523e+04\n",
      "  model = cd_fast.enet_coordinate_descent(\n",
      "/Users/mhhuang/anaconda3/envs/ContentAnalysis/lib/python3.9/site-packages/sklearn/linear_model/_coordinate_descent.py:628: ConvergenceWarning: Objective did not converge. You might want to increase the number of iterations, check the scale of the features or consider increasing regularisation. Duality gap: 1.402e+08, tolerance: 4.481e+04\n",
      "  model = cd_fast.enet_coordinate_descent(\n",
      "/Users/mhhuang/anaconda3/envs/ContentAnalysis/lib/python3.9/site-packages/sklearn/linear_model/_coordinate_descent.py:628: ConvergenceWarning: Objective did not converge. You might want to increase the number of iterations, check the scale of the features or consider increasing regularisation. Duality gap: 1.168e+08, tolerance: 4.102e+04\n",
      "  model = cd_fast.enet_coordinate_descent(\n",
      "/Users/mhhuang/anaconda3/envs/ContentAnalysis/lib/python3.9/site-packages/sklearn/linear_model/_coordinate_descent.py:628: ConvergenceWarning: Objective did not converge. You might want to increase the number of iterations, check the scale of the features or consider increasing regularisation. Duality gap: 1.252e+08, tolerance: 3.977e+04\n",
      "  model = cd_fast.enet_coordinate_descent(\n",
      "/Users/mhhuang/anaconda3/envs/ContentAnalysis/lib/python3.9/site-packages/sklearn/linear_model/_coordinate_descent.py:628: ConvergenceWarning: Objective did not converge. You might want to increase the number of iterations, check the scale of the features or consider increasing regularisation. Duality gap: 1.321e+08, tolerance: 4.561e+04\n",
      "  model = cd_fast.enet_coordinate_descent(\n",
      "/Users/mhhuang/anaconda3/envs/ContentAnalysis/lib/python3.9/site-packages/sklearn/linear_model/_coordinate_descent.py:628: ConvergenceWarning: Objective did not converge. You might want to increase the number of iterations, check the scale of the features or consider increasing regularisation. Duality gap: 1.429e+08, tolerance: 4.523e+04\n",
      "  model = cd_fast.enet_coordinate_descent(\n",
      "/Users/mhhuang/anaconda3/envs/ContentAnalysis/lib/python3.9/site-packages/sklearn/linear_model/_coordinate_descent.py:628: ConvergenceWarning: Objective did not converge. You might want to increase the number of iterations, check the scale of the features or consider increasing regularisation. Duality gap: 5.261e+04, tolerance: 4.481e+04\n",
      "  model = cd_fast.enet_coordinate_descent(\n",
      "/Users/mhhuang/anaconda3/envs/ContentAnalysis/lib/python3.9/site-packages/sklearn/linear_model/_coordinate_descent.py:628: ConvergenceWarning: Objective did not converge. You might want to increase the number of iterations, check the scale of the features or consider increasing regularisation. Duality gap: 1.538e+05, tolerance: 4.102e+04\n",
      "  model = cd_fast.enet_coordinate_descent(\n"
     ]
    },
    {
     "name": "stdout",
     "output_type": "stream",
     "text": [
      "Best parameters:  {'regressor__alpha': 0.001, 'regressor__l1_ratio': 0.9}\n",
      "Mean Squared Error:  174652.73692280884\n",
      "Mean Absolute Error:  243.43096786816454\n"
     ]
    },
    {
     "name": "stderr",
     "output_type": "stream",
     "text": [
      "/Users/mhhuang/anaconda3/envs/ContentAnalysis/lib/python3.9/site-packages/sklearn/linear_model/_coordinate_descent.py:628: ConvergenceWarning: Objective did not converge. You might want to increase the number of iterations, check the scale of the features or consider increasing regularisation. Duality gap: 2.268e+08, tolerance: 5.412e+04\n",
      "  model = cd_fast.enet_coordinate_descent(\n"
     ]
    }
   ],
   "source": [
    "from sklearn.linear_model import ElasticNet\n",
    "from sklearn.model_selection import GridSearchCV\n",
    "from sklearn.pipeline import Pipeline\n",
    "\n",
    "pipeline = Pipeline([\n",
    "    ('regressor', ElasticNet(max_iter= 1000))\n",
    "])\n",
    "\n",
    "# Define the grid of hyperparameters to search\n",
    "param_grid = {\n",
    "    'regressor__alpha': [0.001, 0.01, 0.1, 1, 10],  # Regularization strength\n",
    "    'regressor__l1_ratio': [ 0.1, 0.3, 0.5, 0.7, 0.9, 1]  # Balance between L1 and L2\n",
    "}\n",
    "\n",
    "# Set up the grid search\n",
    "grid_search = GridSearchCV(pipeline, param_grid, cv=5, scoring='neg_mean_squared_error')\n",
    "\n",
    "# Fit the grid search to the data\n",
    "grid_search.fit(X_train, y_train)\n",
    "\n",
    "# Best parameters found\n",
    "best_parameters = grid_search.best_params_\n",
    "print(\"Best parameters: \", best_parameters)\n",
    "\n",
    "# Best model\n",
    "best_model = grid_search.best_estimator_\n",
    "\n",
    "# Evaluate the best model\n",
    "y_pred = best_model.predict(X_test)\n",
    "mse = mean_squared_error(y_test, y_pred)\n",
    "mae = mean_absolute_error(y_test, y_pred)\n",
    "print(\"Mean Squared Error: \", mse)\n",
    "print(\"Mean Absolute Error: \", mae)"
   ],
   "metadata": {
    "collapsed": false,
    "ExecuteTime": {
     "end_time": "2024-02-18T01:17:41.311270Z",
     "start_time": "2024-02-18T01:17:07.654664Z"
    }
   },
   "id": "59469b90ef7099a",
   "execution_count": 31
  },
  {
   "cell_type": "markdown",
   "source": [
    "The best hyperparameters are best_parameters. The mean squared error is 173703 and the mean absolute error is 242. \n",
    "\n",
    "This performance after tuning is only marginally better than the untuned linear regression whose mean absolute error is 244. \n"
   ],
   "metadata": {
    "collapsed": false
   },
   "id": "cf199219ec3bb570"
  },
  {
   "cell_type": "markdown",
   "source": [
    "## Cross Validation"
   ],
   "metadata": {
    "collapsed": false
   },
   "id": "ff063d91aa9b1cfe"
  },
  {
   "cell_type": "code",
   "outputs": [
    {
     "name": "stderr",
     "output_type": "stream",
     "text": [
      "/Users/mhhuang/anaconda3/envs/ContentAnalysis/lib/python3.9/site-packages/sklearn/linear_model/_coordinate_descent.py:628: ConvergenceWarning: Objective did not converge. You might want to increase the number of iterations, check the scale of the features or consider increasing regularisation. Duality gap: 1.868e+08, tolerance: 4.481e+04\n",
      "  model = cd_fast.enet_coordinate_descent(\n",
      "/Users/mhhuang/anaconda3/envs/ContentAnalysis/lib/python3.9/site-packages/sklearn/linear_model/_coordinate_descent.py:628: ConvergenceWarning: Objective did not converge. You might want to increase the number of iterations, check the scale of the features or consider increasing regularisation. Duality gap: 1.911e+08, tolerance: 4.523e+04\n",
      "  model = cd_fast.enet_coordinate_descent(\n",
      "/Users/mhhuang/anaconda3/envs/ContentAnalysis/lib/python3.9/site-packages/sklearn/linear_model/_coordinate_descent.py:628: ConvergenceWarning: Objective did not converge. You might want to increase the number of iterations, check the scale of the features or consider increasing regularisation. Duality gap: 1.909e+08, tolerance: 4.561e+04\n",
      "  model = cd_fast.enet_coordinate_descent(\n",
      "/Users/mhhuang/anaconda3/envs/ContentAnalysis/lib/python3.9/site-packages/sklearn/linear_model/_coordinate_descent.py:628: ConvergenceWarning: Objective did not converge. You might want to increase the number of iterations, check the scale of the features or consider increasing regularisation. Duality gap: 1.650e+08, tolerance: 4.102e+04\n",
      "  model = cd_fast.enet_coordinate_descent(\n",
      "/Users/mhhuang/anaconda3/envs/ContentAnalysis/lib/python3.9/site-packages/sklearn/linear_model/_coordinate_descent.py:628: ConvergenceWarning: Objective did not converge. You might want to increase the number of iterations, check the scale of the features or consider increasing regularisation. Duality gap: 1.690e+08, tolerance: 3.977e+04\n",
      "  model = cd_fast.enet_coordinate_descent(\n",
      "/Users/mhhuang/anaconda3/envs/ContentAnalysis/lib/python3.9/site-packages/sklearn/linear_model/_coordinate_descent.py:628: ConvergenceWarning: Objective did not converge. You might want to increase the number of iterations, check the scale of the features or consider increasing regularisation. Duality gap: 1.650e+08, tolerance: 4.102e+04\n",
      "  model = cd_fast.enet_coordinate_descent(\n",
      "/Users/mhhuang/anaconda3/envs/ContentAnalysis/lib/python3.9/site-packages/sklearn/linear_model/_coordinate_descent.py:628: ConvergenceWarning: Objective did not converge. You might want to increase the number of iterations, check the scale of the features or consider increasing regularisation. Duality gap: 1.911e+08, tolerance: 4.523e+04\n",
      "  model = cd_fast.enet_coordinate_descent(\n"
     ]
    },
    {
     "name": "stdout",
     "output_type": "stream",
     "text": [
      "MSE scores for each fold:\n",
      "Fold 1: -139542.81382732507\n",
      "Fold 2: -194674.95972784553\n",
      "Fold 3: -212567.55152602453\n",
      "Fold 4: -125705.99140880014\n",
      "Fold 5: -124116.22626799131\n",
      "\n",
      "MAE scores for each fold:\n",
      "Fold 1: -228.83965129633907\n",
      "Fold 2: -239.00417011312047\n",
      "Fold 3: -262.65813352791633\n",
      "Fold 4: -221.56461084388567\n",
      "Fold 5: -221.86192068973745\n",
      "\n",
      "Cross-validated MSE: -159321.50855159733 ± 37001.673640385365\n",
      "Cross-validated MAE: -234.78569729419982 ± 15.309113665944027\n"
     ]
    },
    {
     "name": "stderr",
     "output_type": "stream",
     "text": [
      "/Users/mhhuang/anaconda3/envs/ContentAnalysis/lib/python3.9/site-packages/sklearn/linear_model/_coordinate_descent.py:628: ConvergenceWarning: Objective did not converge. You might want to increase the number of iterations, check the scale of the features or consider increasing regularisation. Duality gap: 1.868e+08, tolerance: 4.481e+04\n",
      "  model = cd_fast.enet_coordinate_descent(\n",
      "/Users/mhhuang/anaconda3/envs/ContentAnalysis/lib/python3.9/site-packages/sklearn/linear_model/_coordinate_descent.py:628: ConvergenceWarning: Objective did not converge. You might want to increase the number of iterations, check the scale of the features or consider increasing regularisation. Duality gap: 1.909e+08, tolerance: 4.561e+04\n",
      "  model = cd_fast.enet_coordinate_descent(\n",
      "/Users/mhhuang/anaconda3/envs/ContentAnalysis/lib/python3.9/site-packages/sklearn/linear_model/_coordinate_descent.py:628: ConvergenceWarning: Objective did not converge. You might want to increase the number of iterations, check the scale of the features or consider increasing regularisation. Duality gap: 1.690e+08, tolerance: 3.977e+04\n",
      "  model = cd_fast.enet_coordinate_descent(\n"
     ]
    }
   ],
   "source": [
    "from sklearn.model_selection import cross_val_score\n",
    "from sklearn.metrics import make_scorer\n",
    "\n",
    "# Define the scorers\n",
    "mse_scorer = make_scorer(mean_squared_error, greater_is_better=False)\n",
    "mae_scorer = make_scorer(mean_absolute_error, greater_is_better=False)\n",
    "\n",
    "# Perform cross-validation for MSE\n",
    "mse_scores = cross_val_score(best_model, X_train, y_train, cv=5, scoring=mse_scorer, n_jobs=-1)\n",
    "\n",
    "# Perform cross-validation for MAE\n",
    "mae_scores = cross_val_score(best_model, X_train, y_train, cv=5, scoring=mae_scorer, n_jobs=-1)\n",
    "\n",
    "# Print out the scores for each fold\n",
    "print(\"MSE scores for each fold:\")\n",
    "for i, score in enumerate(mse_scores, start=1):\n",
    "    print(f\"Fold {i}: {score}\")\n",
    "\n",
    "print(\"\\nMAE scores for each fold:\")\n",
    "for i, score in enumerate(mae_scores, start=1):\n",
    "    print(f\"Fold {i}: {score}\")\n",
    "\n",
    "# Calculate and print the mean and standard deviation of the scores\n",
    "mean_mse = mse_scores.mean()\n",
    "std_mse = mse_scores.std()\n",
    "mean_mae = mae_scores.mean()\n",
    "std_mae = mae_scores.std()\n",
    "\n",
    "print(f\"\\nCross-validated MSE: {mean_mse} ± {std_mse}\")\n",
    "print(f\"Cross-validated MAE: {mean_mae} ± {std_mae}\")\n"
   ],
   "metadata": {
    "collapsed": false,
    "ExecuteTime": {
     "end_time": "2024-02-18T01:17:43.268052Z",
     "start_time": "2024-02-18T01:17:41.320204Z"
    }
   },
   "id": "d2c7432fa776e2bb",
   "execution_count": 32
  },
  {
   "cell_type": "markdown",
   "source": [
    "The results from the 5-fold cross-validation show that the MAE values across the folds are relatively consistent, with a mean of approximately -234 and a standard deviation of 15. This indicates a stable model performance across different subsets of the data. \n",
    "\n",
    "The mean MAE value (234) is close to the MAE value obtained from the test set (242), which suggests that the model is not overfitting to the training data."
   ],
   "metadata": {
    "collapsed": false
   },
   "id": "b2d5682f785e30f9"
  },
  {
   "cell_type": "markdown",
   "source": [
    "## Polynomial Regression\n",
    "\n",
    "Due to my limited computational resources and the high dimensionality of my data (word embedding), I will only perform the analysis and tuning for polynomial regression with a degree of 2. "
   ],
   "metadata": {
    "collapsed": false
   },
   "id": "557cebd44b9b4ea9"
  },
  {
   "cell_type": "code",
   "outputs": [
    {
     "data": {
      "text/plain": "LinearRegression()",
      "text/html": "<style>#sk-container-id-1 {color: black;}#sk-container-id-1 pre{padding: 0;}#sk-container-id-1 div.sk-toggleable {background-color: white;}#sk-container-id-1 label.sk-toggleable__label {cursor: pointer;display: block;width: 100%;margin-bottom: 0;padding: 0.3em;box-sizing: border-box;text-align: center;}#sk-container-id-1 label.sk-toggleable__label-arrow:before {content: \"▸\";float: left;margin-right: 0.25em;color: #696969;}#sk-container-id-1 label.sk-toggleable__label-arrow:hover:before {color: black;}#sk-container-id-1 div.sk-estimator:hover label.sk-toggleable__label-arrow:before {color: black;}#sk-container-id-1 div.sk-toggleable__content {max-height: 0;max-width: 0;overflow: hidden;text-align: left;background-color: #f0f8ff;}#sk-container-id-1 div.sk-toggleable__content pre {margin: 0.2em;color: black;border-radius: 0.25em;background-color: #f0f8ff;}#sk-container-id-1 input.sk-toggleable__control:checked~div.sk-toggleable__content {max-height: 200px;max-width: 100%;overflow: auto;}#sk-container-id-1 input.sk-toggleable__control:checked~label.sk-toggleable__label-arrow:before {content: \"▾\";}#sk-container-id-1 div.sk-estimator input.sk-toggleable__control:checked~label.sk-toggleable__label {background-color: #d4ebff;}#sk-container-id-1 div.sk-label input.sk-toggleable__control:checked~label.sk-toggleable__label {background-color: #d4ebff;}#sk-container-id-1 input.sk-hidden--visually {border: 0;clip: rect(1px 1px 1px 1px);clip: rect(1px, 1px, 1px, 1px);height: 1px;margin: -1px;overflow: hidden;padding: 0;position: absolute;width: 1px;}#sk-container-id-1 div.sk-estimator {font-family: monospace;background-color: #f0f8ff;border: 1px dotted black;border-radius: 0.25em;box-sizing: border-box;margin-bottom: 0.5em;}#sk-container-id-1 div.sk-estimator:hover {background-color: #d4ebff;}#sk-container-id-1 div.sk-parallel-item::after {content: \"\";width: 100%;border-bottom: 1px solid gray;flex-grow: 1;}#sk-container-id-1 div.sk-label:hover label.sk-toggleable__label {background-color: #d4ebff;}#sk-container-id-1 div.sk-serial::before {content: \"\";position: absolute;border-left: 1px solid gray;box-sizing: border-box;top: 0;bottom: 0;left: 50%;z-index: 0;}#sk-container-id-1 div.sk-serial {display: flex;flex-direction: column;align-items: center;background-color: white;padding-right: 0.2em;padding-left: 0.2em;position: relative;}#sk-container-id-1 div.sk-item {position: relative;z-index: 1;}#sk-container-id-1 div.sk-parallel {display: flex;align-items: stretch;justify-content: center;background-color: white;position: relative;}#sk-container-id-1 div.sk-item::before, #sk-container-id-1 div.sk-parallel-item::before {content: \"\";position: absolute;border-left: 1px solid gray;box-sizing: border-box;top: 0;bottom: 0;left: 50%;z-index: -1;}#sk-container-id-1 div.sk-parallel-item {display: flex;flex-direction: column;z-index: 1;position: relative;background-color: white;}#sk-container-id-1 div.sk-parallel-item:first-child::after {align-self: flex-end;width: 50%;}#sk-container-id-1 div.sk-parallel-item:last-child::after {align-self: flex-start;width: 50%;}#sk-container-id-1 div.sk-parallel-item:only-child::after {width: 0;}#sk-container-id-1 div.sk-dashed-wrapped {border: 1px dashed gray;margin: 0 0.4em 0.5em 0.4em;box-sizing: border-box;padding-bottom: 0.4em;background-color: white;}#sk-container-id-1 div.sk-label label {font-family: monospace;font-weight: bold;display: inline-block;line-height: 1.2em;}#sk-container-id-1 div.sk-label-container {text-align: center;}#sk-container-id-1 div.sk-container {/* jupyter's `normalize.less` sets `[hidden] { display: none; }` but bootstrap.min.css set `[hidden] { display: none !important; }` so we also need the `!important` here to be able to override the default hidden behavior on the sphinx rendered scikit-learn.org. See: https://github.com/scikit-learn/scikit-learn/issues/21755 */display: inline-block !important;position: relative;}#sk-container-id-1 div.sk-text-repr-fallback {display: none;}</style><div id=\"sk-container-id-1\" class=\"sk-top-container\"><div class=\"sk-text-repr-fallback\"><pre>LinearRegression()</pre><b>In a Jupyter environment, please rerun this cell to show the HTML representation or trust the notebook. <br />On GitHub, the HTML representation is unable to render, please try loading this page with nbviewer.org.</b></div><div class=\"sk-container\" hidden><div class=\"sk-item\"><div class=\"sk-estimator sk-toggleable\"><input class=\"sk-toggleable__control sk-hidden--visually\" id=\"sk-estimator-id-1\" type=\"checkbox\" checked><label for=\"sk-estimator-id-1\" class=\"sk-toggleable__label sk-toggleable__label-arrow\">LinearRegression</label><div class=\"sk-toggleable__content\"><pre>LinearRegression()</pre></div></div></div></div></div>"
     },
     "execution_count": 33,
     "metadata": {},
     "output_type": "execute_result"
    }
   ],
   "source": [
    "# fit the model\n",
    "from sklearn.preprocessing import PolynomialFeatures\n",
    "\n",
    "poly2 = PolynomialFeatures(degree=2, include_bias=True)\n",
    "X_train_poly2 = poly2.fit_transform(X_train)\n",
    "X_test_poly2 = poly2.transform(X_test)\n",
    "\n",
    "lr_poly2 = LinearRegression()\n",
    "lr_poly2.fit(X_train_poly2, y_train)"
   ],
   "metadata": {
    "collapsed": false,
    "ExecuteTime": {
     "end_time": "2024-02-18T01:17:50.750335Z",
     "start_time": "2024-02-18T01:17:43.265797Z"
    }
   },
   "id": "5602f9f6b37f75e5",
   "execution_count": 33
  },
  {
   "cell_type": "code",
   "outputs": [
    {
     "data": {
      "text/plain": "-22.262689058352247"
     },
     "execution_count": 34,
     "metadata": {},
     "output_type": "execute_result"
    }
   ],
   "source": [
    "# score the model\n",
    "lr_poly2.score(X_test_poly2, y_test)"
   ],
   "metadata": {
    "collapsed": false,
    "ExecuteTime": {
     "end_time": "2024-02-18T01:17:50.921056Z",
     "start_time": "2024-02-18T01:17:50.766208Z"
    }
   },
   "id": "3f4642e39d5747a8",
   "execution_count": 34
  },
  {
   "cell_type": "code",
   "outputs": [
    {
     "name": "stdout",
     "output_type": "stream",
     "text": [
      "The MSE is  4369169.757429424\n",
      "The MAE is  1409.7787959821796\n"
     ]
    }
   ],
   "source": [
    "# get mean squared error\n",
    "y_pred = lr_poly2.predict(X_test_poly2)\n",
    "print(\"The MSE is \",mean_squared_error(y_test, y_pred))\n",
    "\n",
    "print(\"The MAE is \",mean_absolute_error(y_test, y_pred))"
   ],
   "metadata": {
    "collapsed": false,
    "ExecuteTime": {
     "end_time": "2024-02-18T01:17:51.122903Z",
     "start_time": "2024-02-18T01:17:50.861708Z"
    }
   },
   "id": "82f68d1e69f6629d",
   "execution_count": 35
  },
  {
   "cell_type": "markdown",
   "source": [
    "Interpretation: The average squared difference between the actual income (observed values) and the predicted income produced by the model is 4096385. The average absolute difference between the actual income (observed values) and the predicted income produced by the model is 1407. This model is A LOT worse than the linear regression model, probably due to overfitting."
   ],
   "metadata": {
    "collapsed": false
   },
   "id": "273fd503fc027133"
  },
  {
   "cell_type": "markdown",
   "source": [
    "### Hyperparameter Tuning"
   ],
   "metadata": {
    "collapsed": false
   },
   "id": "cdcf76da81191541"
  },
  {
   "cell_type": "code",
   "outputs": [
    {
     "name": "stderr",
     "output_type": "stream",
     "text": [
      "/Users/mhhuang/anaconda3/envs/ContentAnalysis/lib/python3.9/site-packages/sklearn/linear_model/_coordinate_descent.py:628: ConvergenceWarning: Objective did not converge. You might want to increase the number of iterations, check the scale of the features or consider increasing regularisation. Duality gap: 1.889e+08, tolerance: 4.481e+04\n",
      "  model = cd_fast.enet_coordinate_descent(\n",
      "/Users/mhhuang/anaconda3/envs/ContentAnalysis/lib/python3.9/site-packages/sklearn/linear_model/_coordinate_descent.py:628: ConvergenceWarning: Objective did not converge. You might want to increase the number of iterations, check the scale of the features or consider increasing regularisation. Duality gap: 1.726e+08, tolerance: 4.102e+04\n",
      "  model = cd_fast.enet_coordinate_descent(\n",
      "/Users/mhhuang/anaconda3/envs/ContentAnalysis/lib/python3.9/site-packages/sklearn/linear_model/_coordinate_descent.py:628: ConvergenceWarning: Objective did not converge. You might want to increase the number of iterations, check the scale of the features or consider increasing regularisation. Duality gap: 1.675e+08, tolerance: 3.977e+04\n",
      "  model = cd_fast.enet_coordinate_descent(\n",
      "/Users/mhhuang/anaconda3/envs/ContentAnalysis/lib/python3.9/site-packages/sklearn/linear_model/_coordinate_descent.py:628: ConvergenceWarning: Objective did not converge. You might want to increase the number of iterations, check the scale of the features or consider increasing regularisation. Duality gap: 1.930e+08, tolerance: 4.561e+04\n",
      "  model = cd_fast.enet_coordinate_descent(\n",
      "/Users/mhhuang/anaconda3/envs/ContentAnalysis/lib/python3.9/site-packages/sklearn/linear_model/_coordinate_descent.py:628: ConvergenceWarning: Objective did not converge. You might want to increase the number of iterations, check the scale of the features or consider increasing regularisation. Duality gap: 1.917e+08, tolerance: 4.523e+04\n",
      "  model = cd_fast.enet_coordinate_descent(\n",
      "/Users/mhhuang/anaconda3/envs/ContentAnalysis/lib/python3.9/site-packages/sklearn/linear_model/_coordinate_descent.py:628: ConvergenceWarning: Objective did not converge. You might want to increase the number of iterations, check the scale of the features or consider increasing regularisation. Duality gap: 1.864e+08, tolerance: 4.481e+04\n",
      "  model = cd_fast.enet_coordinate_descent(\n",
      "/Users/mhhuang/anaconda3/envs/ContentAnalysis/lib/python3.9/site-packages/sklearn/linear_model/_coordinate_descent.py:628: ConvergenceWarning: Objective did not converge. You might want to increase the number of iterations, check the scale of the features or consider increasing regularisation. Duality gap: 1.710e+08, tolerance: 4.102e+04\n",
      "  model = cd_fast.enet_coordinate_descent(\n",
      "/Users/mhhuang/anaconda3/envs/ContentAnalysis/lib/python3.9/site-packages/sklearn/linear_model/_coordinate_descent.py:628: ConvergenceWarning: Objective did not converge. You might want to increase the number of iterations, check the scale of the features or consider increasing regularisation. Duality gap: 1.650e+08, tolerance: 3.977e+04\n",
      "  model = cd_fast.enet_coordinate_descent(\n",
      "/Users/mhhuang/anaconda3/envs/ContentAnalysis/lib/python3.9/site-packages/sklearn/linear_model/_coordinate_descent.py:628: ConvergenceWarning: Objective did not converge. You might want to increase the number of iterations, check the scale of the features or consider increasing regularisation. Duality gap: 1.912e+08, tolerance: 4.561e+04\n",
      "  model = cd_fast.enet_coordinate_descent(\n",
      "/Users/mhhuang/anaconda3/envs/ContentAnalysis/lib/python3.9/site-packages/sklearn/linear_model/_coordinate_descent.py:628: ConvergenceWarning: Objective did not converge. You might want to increase the number of iterations, check the scale of the features or consider increasing regularisation. Duality gap: 1.901e+08, tolerance: 4.523e+04\n",
      "  model = cd_fast.enet_coordinate_descent(\n",
      "/Users/mhhuang/anaconda3/envs/ContentAnalysis/lib/python3.9/site-packages/sklearn/linear_model/_coordinate_descent.py:628: ConvergenceWarning: Objective did not converge. You might want to increase the number of iterations, check the scale of the features or consider increasing regularisation. Duality gap: 1.833e+08, tolerance: 4.481e+04\n",
      "  model = cd_fast.enet_coordinate_descent(\n",
      "/Users/mhhuang/anaconda3/envs/ContentAnalysis/lib/python3.9/site-packages/sklearn/linear_model/_coordinate_descent.py:628: ConvergenceWarning: Objective did not converge. You might want to increase the number of iterations, check the scale of the features or consider increasing regularisation. Duality gap: 1.670e+08, tolerance: 4.102e+04\n",
      "  model = cd_fast.enet_coordinate_descent(\n",
      "/Users/mhhuang/anaconda3/envs/ContentAnalysis/lib/python3.9/site-packages/sklearn/linear_model/_coordinate_descent.py:628: ConvergenceWarning: Objective did not converge. You might want to increase the number of iterations, check the scale of the features or consider increasing regularisation. Duality gap: 1.618e+08, tolerance: 3.977e+04\n",
      "  model = cd_fast.enet_coordinate_descent(\n",
      "/Users/mhhuang/anaconda3/envs/ContentAnalysis/lib/python3.9/site-packages/sklearn/linear_model/_coordinate_descent.py:628: ConvergenceWarning: Objective did not converge. You might want to increase the number of iterations, check the scale of the features or consider increasing regularisation. Duality gap: 1.873e+08, tolerance: 4.561e+04\n",
      "  model = cd_fast.enet_coordinate_descent(\n",
      "/Users/mhhuang/anaconda3/envs/ContentAnalysis/lib/python3.9/site-packages/sklearn/linear_model/_coordinate_descent.py:628: ConvergenceWarning: Objective did not converge. You might want to increase the number of iterations, check the scale of the features or consider increasing regularisation. Duality gap: 1.851e+08, tolerance: 4.523e+04\n",
      "  model = cd_fast.enet_coordinate_descent(\n",
      "/Users/mhhuang/anaconda3/envs/ContentAnalysis/lib/python3.9/site-packages/sklearn/linear_model/_coordinate_descent.py:628: ConvergenceWarning: Objective did not converge. You might want to increase the number of iterations, check the scale of the features or consider increasing regularisation. Duality gap: 1.797e+08, tolerance: 4.481e+04\n",
      "  model = cd_fast.enet_coordinate_descent(\n",
      "/Users/mhhuang/anaconda3/envs/ContentAnalysis/lib/python3.9/site-packages/sklearn/linear_model/_coordinate_descent.py:628: ConvergenceWarning: Objective did not converge. You might want to increase the number of iterations, check the scale of the features or consider increasing regularisation. Duality gap: 1.638e+08, tolerance: 4.102e+04\n",
      "  model = cd_fast.enet_coordinate_descent(\n",
      "/Users/mhhuang/anaconda3/envs/ContentAnalysis/lib/python3.9/site-packages/sklearn/linear_model/_coordinate_descent.py:628: ConvergenceWarning: Objective did not converge. You might want to increase the number of iterations, check the scale of the features or consider increasing regularisation. Duality gap: 1.597e+08, tolerance: 3.977e+04\n",
      "  model = cd_fast.enet_coordinate_descent(\n",
      "/Users/mhhuang/anaconda3/envs/ContentAnalysis/lib/python3.9/site-packages/sklearn/linear_model/_coordinate_descent.py:628: ConvergenceWarning: Objective did not converge. You might want to increase the number of iterations, check the scale of the features or consider increasing regularisation. Duality gap: 1.844e+08, tolerance: 4.561e+04\n",
      "  model = cd_fast.enet_coordinate_descent(\n",
      "/Users/mhhuang/anaconda3/envs/ContentAnalysis/lib/python3.9/site-packages/sklearn/linear_model/_coordinate_descent.py:628: ConvergenceWarning: Objective did not converge. You might want to increase the number of iterations, check the scale of the features or consider increasing regularisation. Duality gap: 1.820e+08, tolerance: 4.523e+04\n",
      "  model = cd_fast.enet_coordinate_descent(\n",
      "/Users/mhhuang/anaconda3/envs/ContentAnalysis/lib/python3.9/site-packages/sklearn/linear_model/_coordinate_descent.py:628: ConvergenceWarning: Objective did not converge. You might want to increase the number of iterations, check the scale of the features or consider increasing regularisation. Duality gap: 1.687e+08, tolerance: 4.481e+04\n",
      "  model = cd_fast.enet_coordinate_descent(\n",
      "/Users/mhhuang/anaconda3/envs/ContentAnalysis/lib/python3.9/site-packages/sklearn/linear_model/_coordinate_descent.py:628: ConvergenceWarning: Objective did not converge. You might want to increase the number of iterations, check the scale of the features or consider increasing regularisation. Duality gap: 1.550e+08, tolerance: 4.102e+04\n",
      "  model = cd_fast.enet_coordinate_descent(\n",
      "/Users/mhhuang/anaconda3/envs/ContentAnalysis/lib/python3.9/site-packages/sklearn/linear_model/_coordinate_descent.py:628: ConvergenceWarning: Objective did not converge. You might want to increase the number of iterations, check the scale of the features or consider increasing regularisation. Duality gap: 1.495e+08, tolerance: 3.977e+04\n",
      "  model = cd_fast.enet_coordinate_descent(\n",
      "/Users/mhhuang/anaconda3/envs/ContentAnalysis/lib/python3.9/site-packages/sklearn/linear_model/_coordinate_descent.py:628: ConvergenceWarning: Objective did not converge. You might want to increase the number of iterations, check the scale of the features or consider increasing regularisation. Duality gap: 1.722e+08, tolerance: 4.561e+04\n",
      "  model = cd_fast.enet_coordinate_descent(\n",
      "/Users/mhhuang/anaconda3/envs/ContentAnalysis/lib/python3.9/site-packages/sklearn/linear_model/_coordinate_descent.py:628: ConvergenceWarning: Objective did not converge. You might want to increase the number of iterations, check the scale of the features or consider increasing regularisation. Duality gap: 1.726e+08, tolerance: 4.523e+04\n",
      "  model = cd_fast.enet_coordinate_descent(\n",
      "/Users/mhhuang/anaconda3/envs/ContentAnalysis/lib/python3.9/site-packages/sklearn/linear_model/_coordinate_descent.py:628: ConvergenceWarning: Objective did not converge. You might want to increase the number of iterations, check the scale of the features or consider increasing regularisation. Duality gap: 1.349e+08, tolerance: 4.481e+04\n",
      "  model = cd_fast.enet_coordinate_descent(\n",
      "/Users/mhhuang/anaconda3/envs/ContentAnalysis/lib/python3.9/site-packages/sklearn/linear_model/_coordinate_descent.py:628: ConvergenceWarning: Objective did not converge. You might want to increase the number of iterations, check the scale of the features or consider increasing regularisation. Duality gap: 1.235e+08, tolerance: 4.102e+04\n",
      "  model = cd_fast.enet_coordinate_descent(\n",
      "/Users/mhhuang/anaconda3/envs/ContentAnalysis/lib/python3.9/site-packages/sklearn/linear_model/_coordinate_descent.py:628: ConvergenceWarning: Objective did not converge. You might want to increase the number of iterations, check the scale of the features or consider increasing regularisation. Duality gap: 1.184e+08, tolerance: 3.977e+04\n",
      "  model = cd_fast.enet_coordinate_descent(\n",
      "/Users/mhhuang/anaconda3/envs/ContentAnalysis/lib/python3.9/site-packages/sklearn/linear_model/_coordinate_descent.py:628: ConvergenceWarning: Objective did not converge. You might want to increase the number of iterations, check the scale of the features or consider increasing regularisation. Duality gap: 1.363e+08, tolerance: 4.561e+04\n",
      "  model = cd_fast.enet_coordinate_descent(\n",
      "/Users/mhhuang/anaconda3/envs/ContentAnalysis/lib/python3.9/site-packages/sklearn/linear_model/_coordinate_descent.py:628: ConvergenceWarning: Objective did not converge. You might want to increase the number of iterations, check the scale of the features or consider increasing regularisation. Duality gap: 1.327e+08, tolerance: 4.523e+04\n",
      "  model = cd_fast.enet_coordinate_descent(\n",
      "/Users/mhhuang/anaconda3/envs/ContentAnalysis/lib/python3.9/site-packages/sklearn/linear_model/_coordinate_descent.py:628: ConvergenceWarning: Objective did not converge. You might want to increase the number of iterations, check the scale of the features or consider increasing regularisation. Duality gap: 1.958e+08, tolerance: 4.481e+04\n",
      "  model = cd_fast.enet_coordinate_descent(\n",
      "/Users/mhhuang/anaconda3/envs/ContentAnalysis/lib/python3.9/site-packages/sklearn/linear_model/_coordinate_descent.py:628: ConvergenceWarning: Objective did not converge. You might want to increase the number of iterations, check the scale of the features or consider increasing regularisation. Duality gap: 1.765e+08, tolerance: 4.102e+04\n",
      "  model = cd_fast.enet_coordinate_descent(\n",
      "/Users/mhhuang/anaconda3/envs/ContentAnalysis/lib/python3.9/site-packages/sklearn/linear_model/_coordinate_descent.py:628: ConvergenceWarning: Objective did not converge. You might want to increase the number of iterations, check the scale of the features or consider increasing regularisation. Duality gap: 1.719e+08, tolerance: 3.977e+04\n",
      "  model = cd_fast.enet_coordinate_descent(\n",
      "/Users/mhhuang/anaconda3/envs/ContentAnalysis/lib/python3.9/site-packages/sklearn/linear_model/_coordinate_descent.py:628: ConvergenceWarning: Objective did not converge. You might want to increase the number of iterations, check the scale of the features or consider increasing regularisation. Duality gap: 1.980e+08, tolerance: 4.561e+04\n",
      "  model = cd_fast.enet_coordinate_descent(\n",
      "/Users/mhhuang/anaconda3/envs/ContentAnalysis/lib/python3.9/site-packages/sklearn/linear_model/_coordinate_descent.py:628: ConvergenceWarning: Objective did not converge. You might want to increase the number of iterations, check the scale of the features or consider increasing regularisation. Duality gap: 1.981e+08, tolerance: 4.523e+04\n",
      "  model = cd_fast.enet_coordinate_descent(\n",
      "/Users/mhhuang/anaconda3/envs/ContentAnalysis/lib/python3.9/site-packages/sklearn/linear_model/_coordinate_descent.py:628: ConvergenceWarning: Objective did not converge. You might want to increase the number of iterations, check the scale of the features or consider increasing regularisation. Duality gap: 1.814e+08, tolerance: 4.481e+04\n",
      "  model = cd_fast.enet_coordinate_descent(\n",
      "/Users/mhhuang/anaconda3/envs/ContentAnalysis/lib/python3.9/site-packages/sklearn/linear_model/_coordinate_descent.py:628: ConvergenceWarning: Objective did not converge. You might want to increase the number of iterations, check the scale of the features or consider increasing regularisation. Duality gap: 1.636e+08, tolerance: 4.102e+04\n",
      "  model = cd_fast.enet_coordinate_descent(\n",
      "/Users/mhhuang/anaconda3/envs/ContentAnalysis/lib/python3.9/site-packages/sklearn/linear_model/_coordinate_descent.py:628: ConvergenceWarning: Objective did not converge. You might want to increase the number of iterations, check the scale of the features or consider increasing regularisation. Duality gap: 1.610e+08, tolerance: 3.977e+04\n",
      "  model = cd_fast.enet_coordinate_descent(\n",
      "/Users/mhhuang/anaconda3/envs/ContentAnalysis/lib/python3.9/site-packages/sklearn/linear_model/_coordinate_descent.py:628: ConvergenceWarning: Objective did not converge. You might want to increase the number of iterations, check the scale of the features or consider increasing regularisation. Duality gap: 1.867e+08, tolerance: 4.561e+04\n",
      "  model = cd_fast.enet_coordinate_descent(\n",
      "/Users/mhhuang/anaconda3/envs/ContentAnalysis/lib/python3.9/site-packages/sklearn/linear_model/_coordinate_descent.py:628: ConvergenceWarning: Objective did not converge. You might want to increase the number of iterations, check the scale of the features or consider increasing regularisation. Duality gap: 1.864e+08, tolerance: 4.523e+04\n",
      "  model = cd_fast.enet_coordinate_descent(\n",
      "/Users/mhhuang/anaconda3/envs/ContentAnalysis/lib/python3.9/site-packages/sklearn/linear_model/_coordinate_descent.py:628: ConvergenceWarning: Objective did not converge. You might want to increase the number of iterations, check the scale of the features or consider increasing regularisation. Duality gap: 1.801e+08, tolerance: 4.481e+04\n",
      "  model = cd_fast.enet_coordinate_descent(\n",
      "/Users/mhhuang/anaconda3/envs/ContentAnalysis/lib/python3.9/site-packages/sklearn/linear_model/_coordinate_descent.py:628: ConvergenceWarning: Objective did not converge. You might want to increase the number of iterations, check the scale of the features or consider increasing regularisation. Duality gap: 1.582e+08, tolerance: 4.102e+04\n",
      "  model = cd_fast.enet_coordinate_descent(\n",
      "/Users/mhhuang/anaconda3/envs/ContentAnalysis/lib/python3.9/site-packages/sklearn/linear_model/_coordinate_descent.py:628: ConvergenceWarning: Objective did not converge. You might want to increase the number of iterations, check the scale of the features or consider increasing regularisation. Duality gap: 1.587e+08, tolerance: 3.977e+04\n",
      "  model = cd_fast.enet_coordinate_descent(\n",
      "/Users/mhhuang/anaconda3/envs/ContentAnalysis/lib/python3.9/site-packages/sklearn/linear_model/_coordinate_descent.py:628: ConvergenceWarning: Objective did not converge. You might want to increase the number of iterations, check the scale of the features or consider increasing regularisation. Duality gap: 1.803e+08, tolerance: 4.561e+04\n",
      "  model = cd_fast.enet_coordinate_descent(\n",
      "/Users/mhhuang/anaconda3/envs/ContentAnalysis/lib/python3.9/site-packages/sklearn/linear_model/_coordinate_descent.py:628: ConvergenceWarning: Objective did not converge. You might want to increase the number of iterations, check the scale of the features or consider increasing regularisation. Duality gap: 1.835e+08, tolerance: 4.523e+04\n",
      "  model = cd_fast.enet_coordinate_descent(\n",
      "/Users/mhhuang/anaconda3/envs/ContentAnalysis/lib/python3.9/site-packages/sklearn/linear_model/_coordinate_descent.py:628: ConvergenceWarning: Objective did not converge. You might want to increase the number of iterations, check the scale of the features or consider increasing regularisation. Duality gap: 1.598e+08, tolerance: 4.481e+04\n",
      "  model = cd_fast.enet_coordinate_descent(\n",
      "/Users/mhhuang/anaconda3/envs/ContentAnalysis/lib/python3.9/site-packages/sklearn/linear_model/_coordinate_descent.py:628: ConvergenceWarning: Objective did not converge. You might want to increase the number of iterations, check the scale of the features or consider increasing regularisation. Duality gap: 1.385e+08, tolerance: 4.102e+04\n",
      "  model = cd_fast.enet_coordinate_descent(\n",
      "/Users/mhhuang/anaconda3/envs/ContentAnalysis/lib/python3.9/site-packages/sklearn/linear_model/_coordinate_descent.py:628: ConvergenceWarning: Objective did not converge. You might want to increase the number of iterations, check the scale of the features or consider increasing regularisation. Duality gap: 1.414e+08, tolerance: 3.977e+04\n",
      "  model = cd_fast.enet_coordinate_descent(\n",
      "/Users/mhhuang/anaconda3/envs/ContentAnalysis/lib/python3.9/site-packages/sklearn/linear_model/_coordinate_descent.py:628: ConvergenceWarning: Objective did not converge. You might want to increase the number of iterations, check the scale of the features or consider increasing regularisation. Duality gap: 1.555e+08, tolerance: 4.561e+04\n",
      "  model = cd_fast.enet_coordinate_descent(\n",
      "/Users/mhhuang/anaconda3/envs/ContentAnalysis/lib/python3.9/site-packages/sklearn/linear_model/_coordinate_descent.py:628: ConvergenceWarning: Objective did not converge. You might want to increase the number of iterations, check the scale of the features or consider increasing regularisation. Duality gap: 1.626e+08, tolerance: 4.523e+04\n",
      "  model = cd_fast.enet_coordinate_descent(\n",
      "/Users/mhhuang/anaconda3/envs/ContentAnalysis/lib/python3.9/site-packages/sklearn/linear_model/_coordinate_descent.py:628: ConvergenceWarning: Objective did not converge. You might want to increase the number of iterations, check the scale of the features or consider increasing regularisation. Duality gap: 1.513e+08, tolerance: 4.481e+04\n",
      "  model = cd_fast.enet_coordinate_descent(\n",
      "/Users/mhhuang/anaconda3/envs/ContentAnalysis/lib/python3.9/site-packages/sklearn/linear_model/_coordinate_descent.py:628: ConvergenceWarning: Objective did not converge. You might want to increase the number of iterations, check the scale of the features or consider increasing regularisation. Duality gap: 1.280e+08, tolerance: 4.102e+04\n",
      "  model = cd_fast.enet_coordinate_descent(\n",
      "/Users/mhhuang/anaconda3/envs/ContentAnalysis/lib/python3.9/site-packages/sklearn/linear_model/_coordinate_descent.py:628: ConvergenceWarning: Objective did not converge. You might want to increase the number of iterations, check the scale of the features or consider increasing regularisation. Duality gap: 1.229e+08, tolerance: 3.977e+04\n",
      "  model = cd_fast.enet_coordinate_descent(\n",
      "/Users/mhhuang/anaconda3/envs/ContentAnalysis/lib/python3.9/site-packages/sklearn/linear_model/_coordinate_descent.py:628: ConvergenceWarning: Objective did not converge. You might want to increase the number of iterations, check the scale of the features or consider increasing regularisation. Duality gap: 1.501e+08, tolerance: 4.561e+04\n",
      "  model = cd_fast.enet_coordinate_descent(\n",
      "/Users/mhhuang/anaconda3/envs/ContentAnalysis/lib/python3.9/site-packages/sklearn/linear_model/_coordinate_descent.py:628: ConvergenceWarning: Objective did not converge. You might want to increase the number of iterations, check the scale of the features or consider increasing regularisation. Duality gap: 1.510e+08, tolerance: 4.523e+04\n",
      "  model = cd_fast.enet_coordinate_descent(\n",
      "/Users/mhhuang/anaconda3/envs/ContentAnalysis/lib/python3.9/site-packages/sklearn/linear_model/_coordinate_descent.py:628: ConvergenceWarning: Objective did not converge. You might want to increase the number of iterations, check the scale of the features or consider increasing regularisation. Duality gap: 1.005e+08, tolerance: 4.481e+04\n",
      "  model = cd_fast.enet_coordinate_descent(\n",
      "/Users/mhhuang/anaconda3/envs/ContentAnalysis/lib/python3.9/site-packages/sklearn/linear_model/_coordinate_descent.py:628: ConvergenceWarning: Objective did not converge. You might want to increase the number of iterations, check the scale of the features or consider increasing regularisation. Duality gap: 8.634e+07, tolerance: 4.102e+04\n",
      "  model = cd_fast.enet_coordinate_descent(\n",
      "/Users/mhhuang/anaconda3/envs/ContentAnalysis/lib/python3.9/site-packages/sklearn/linear_model/_coordinate_descent.py:628: ConvergenceWarning: Objective did not converge. You might want to increase the number of iterations, check the scale of the features or consider increasing regularisation. Duality gap: 8.500e+07, tolerance: 3.977e+04\n",
      "  model = cd_fast.enet_coordinate_descent(\n",
      "/Users/mhhuang/anaconda3/envs/ContentAnalysis/lib/python3.9/site-packages/sklearn/linear_model/_coordinate_descent.py:628: ConvergenceWarning: Objective did not converge. You might want to increase the number of iterations, check the scale of the features or consider increasing regularisation. Duality gap: 1.094e+08, tolerance: 4.561e+04\n",
      "  model = cd_fast.enet_coordinate_descent(\n",
      "/Users/mhhuang/anaconda3/envs/ContentAnalysis/lib/python3.9/site-packages/sklearn/linear_model/_coordinate_descent.py:628: ConvergenceWarning: Objective did not converge. You might want to increase the number of iterations, check the scale of the features or consider increasing regularisation. Duality gap: 1.059e+08, tolerance: 4.523e+04\n",
      "  model = cd_fast.enet_coordinate_descent(\n",
      "/Users/mhhuang/anaconda3/envs/ContentAnalysis/lib/python3.9/site-packages/sklearn/linear_model/_coordinate_descent.py:628: ConvergenceWarning: Objective did not converge. You might want to increase the number of iterations, check the scale of the features or consider increasing regularisation. Duality gap: 9.089e+04, tolerance: 4.481e+04\n",
      "  model = cd_fast.enet_coordinate_descent(\n",
      "/Users/mhhuang/anaconda3/envs/ContentAnalysis/lib/python3.9/site-packages/sklearn/linear_model/_coordinate_descent.py:628: ConvergenceWarning: Objective did not converge. You might want to increase the number of iterations, check the scale of the features or consider increasing regularisation. Duality gap: 1.355e+05, tolerance: 4.102e+04\n",
      "  model = cd_fast.enet_coordinate_descent(\n",
      "/Users/mhhuang/anaconda3/envs/ContentAnalysis/lib/python3.9/site-packages/sklearn/linear_model/_coordinate_descent.py:628: ConvergenceWarning: Objective did not converge. You might want to increase the number of iterations, check the scale of the features or consider increasing regularisation. Duality gap: 2.720e+05, tolerance: 3.977e+04\n",
      "  model = cd_fast.enet_coordinate_descent(\n",
      "/Users/mhhuang/anaconda3/envs/ContentAnalysis/lib/python3.9/site-packages/sklearn/linear_model/_coordinate_descent.py:628: ConvergenceWarning: Objective did not converge. You might want to increase the number of iterations, check the scale of the features or consider increasing regularisation. Duality gap: 1.513e+05, tolerance: 4.561e+04\n",
      "  model = cd_fast.enet_coordinate_descent(\n",
      "/Users/mhhuang/anaconda3/envs/ContentAnalysis/lib/python3.9/site-packages/sklearn/linear_model/_coordinate_descent.py:628: ConvergenceWarning: Objective did not converge. You might want to increase the number of iterations, check the scale of the features or consider increasing regularisation. Duality gap: 1.500e+06, tolerance: 4.481e+04\n",
      "  model = cd_fast.enet_coordinate_descent(\n",
      "/Users/mhhuang/anaconda3/envs/ContentAnalysis/lib/python3.9/site-packages/sklearn/linear_model/_coordinate_descent.py:628: ConvergenceWarning: Objective did not converge. You might want to increase the number of iterations, check the scale of the features or consider increasing regularisation. Duality gap: 2.207e+06, tolerance: 4.102e+04\n",
      "  model = cd_fast.enet_coordinate_descent(\n",
      "/Users/mhhuang/anaconda3/envs/ContentAnalysis/lib/python3.9/site-packages/sklearn/linear_model/_coordinate_descent.py:628: ConvergenceWarning: Objective did not converge. You might want to increase the number of iterations, check the scale of the features or consider increasing regularisation. Duality gap: 3.808e+06, tolerance: 3.977e+04\n",
      "  model = cd_fast.enet_coordinate_descent(\n",
      "/Users/mhhuang/anaconda3/envs/ContentAnalysis/lib/python3.9/site-packages/sklearn/linear_model/_coordinate_descent.py:628: ConvergenceWarning: Objective did not converge. You might want to increase the number of iterations, check the scale of the features or consider increasing regularisation. Duality gap: 1.309e+06, tolerance: 4.561e+04\n",
      "  model = cd_fast.enet_coordinate_descent(\n",
      "/Users/mhhuang/anaconda3/envs/ContentAnalysis/lib/python3.9/site-packages/sklearn/linear_model/_coordinate_descent.py:628: ConvergenceWarning: Objective did not converge. You might want to increase the number of iterations, check the scale of the features or consider increasing regularisation. Duality gap: 1.737e+06, tolerance: 4.523e+04\n",
      "  model = cd_fast.enet_coordinate_descent(\n",
      "/Users/mhhuang/anaconda3/envs/ContentAnalysis/lib/python3.9/site-packages/sklearn/linear_model/_coordinate_descent.py:628: ConvergenceWarning: Objective did not converge. You might want to increase the number of iterations, check the scale of the features or consider increasing regularisation. Duality gap: 1.147e+07, tolerance: 4.481e+04\n",
      "  model = cd_fast.enet_coordinate_descent(\n",
      "/Users/mhhuang/anaconda3/envs/ContentAnalysis/lib/python3.9/site-packages/sklearn/linear_model/_coordinate_descent.py:628: ConvergenceWarning: Objective did not converge. You might want to increase the number of iterations, check the scale of the features or consider increasing regularisation. Duality gap: 1.163e+07, tolerance: 4.102e+04\n",
      "  model = cd_fast.enet_coordinate_descent(\n",
      "/Users/mhhuang/anaconda3/envs/ContentAnalysis/lib/python3.9/site-packages/sklearn/linear_model/_coordinate_descent.py:628: ConvergenceWarning: Objective did not converge. You might want to increase the number of iterations, check the scale of the features or consider increasing regularisation. Duality gap: 1.310e+07, tolerance: 3.977e+04\n",
      "  model = cd_fast.enet_coordinate_descent(\n",
      "/Users/mhhuang/anaconda3/envs/ContentAnalysis/lib/python3.9/site-packages/sklearn/linear_model/_coordinate_descent.py:628: ConvergenceWarning: Objective did not converge. You might want to increase the number of iterations, check the scale of the features or consider increasing regularisation. Duality gap: 1.057e+07, tolerance: 4.561e+04\n",
      "  model = cd_fast.enet_coordinate_descent(\n",
      "/Users/mhhuang/anaconda3/envs/ContentAnalysis/lib/python3.9/site-packages/sklearn/linear_model/_coordinate_descent.py:628: ConvergenceWarning: Objective did not converge. You might want to increase the number of iterations, check the scale of the features or consider increasing regularisation. Duality gap: 1.089e+07, tolerance: 4.523e+04\n",
      "  model = cd_fast.enet_coordinate_descent(\n",
      "/Users/mhhuang/anaconda3/envs/ContentAnalysis/lib/python3.9/site-packages/sklearn/linear_model/_coordinate_descent.py:628: ConvergenceWarning: Objective did not converge. You might want to increase the number of iterations, check the scale of the features or consider increasing regularisation. Duality gap: 1.902e+06, tolerance: 4.481e+04\n",
      "  model = cd_fast.enet_coordinate_descent(\n",
      "/Users/mhhuang/anaconda3/envs/ContentAnalysis/lib/python3.9/site-packages/sklearn/linear_model/_coordinate_descent.py:628: ConvergenceWarning: Objective did not converge. You might want to increase the number of iterations, check the scale of the features or consider increasing regularisation. Duality gap: 4.958e+05, tolerance: 4.102e+04\n",
      "  model = cd_fast.enet_coordinate_descent(\n",
      "/Users/mhhuang/anaconda3/envs/ContentAnalysis/lib/python3.9/site-packages/sklearn/linear_model/_coordinate_descent.py:628: ConvergenceWarning: Objective did not converge. You might want to increase the number of iterations, check the scale of the features or consider increasing regularisation. Duality gap: 9.630e+05, tolerance: 3.977e+04\n",
      "  model = cd_fast.enet_coordinate_descent(\n",
      "/Users/mhhuang/anaconda3/envs/ContentAnalysis/lib/python3.9/site-packages/sklearn/linear_model/_coordinate_descent.py:628: ConvergenceWarning: Objective did not converge. You might want to increase the number of iterations, check the scale of the features or consider increasing regularisation. Duality gap: 2.647e+06, tolerance: 4.561e+04\n",
      "  model = cd_fast.enet_coordinate_descent(\n",
      "/Users/mhhuang/anaconda3/envs/ContentAnalysis/lib/python3.9/site-packages/sklearn/linear_model/_coordinate_descent.py:628: ConvergenceWarning: Objective did not converge. You might want to increase the number of iterations, check the scale of the features or consider increasing regularisation. Duality gap: 1.965e+06, tolerance: 4.523e+04\n",
      "  model = cd_fast.enet_coordinate_descent(\n"
     ]
    },
    {
     "name": "stdout",
     "output_type": "stream",
     "text": [
      "Best parameters:  {'regressor__alpha': 0.1, 'regressor__l1_ratio': 0.9}\n",
      "Mean Squared Error:  173669.02084852647\n",
      "Mean Absolute Error:  241.31554721634808\n"
     ]
    },
    {
     "name": "stderr",
     "output_type": "stream",
     "text": [
      "/Users/mhhuang/anaconda3/envs/ContentAnalysis/lib/python3.9/site-packages/sklearn/linear_model/_coordinate_descent.py:628: ConvergenceWarning: Objective did not converge. You might want to increase the number of iterations, check the scale of the features or consider increasing regularisation. Duality gap: 1.728e+07, tolerance: 5.412e+04\n",
      "  model = cd_fast.enet_coordinate_descent(\n"
     ]
    }
   ],
   "source": [
    "from sklearn.linear_model import ElasticNet\n",
    "from sklearn.model_selection import GridSearchCV\n",
    "from sklearn.pipeline import Pipeline\n",
    "\n",
    "pipeline = Pipeline([\n",
    "    ('regressor', ElasticNet(max_iter= 1000))\n",
    "])\n",
    "\n",
    "# Define the grid of hyperparameters to search\n",
    "param_grid = {\n",
    "    'regressor__alpha': [0.001, 0.01, 0.1, 1, 10],  # Regularization strength\n",
    "    'regressor__l1_ratio': [ 0.1, 0.3, 0.5, 0.7, 0.9, 1]  # Balance between L1 and L2\n",
    "}\n",
    "\n",
    "# Set up the grid search\n",
    "grid_search = GridSearchCV(pipeline, param_grid, cv=5, scoring='neg_mean_squared_error')\n",
    "\n",
    "# Fit the grid search to the data\n",
    "grid_search.fit(X_train_poly2, y_train)\n",
    "\n",
    "# Best parameters found\n",
    "best_parameters = grid_search.best_params_\n",
    "print(\"Best parameters: \", best_parameters)\n",
    "\n",
    "# Best model\n",
    "best_model = grid_search.best_estimator_\n",
    "\n",
    "# Evaluate the best model\n",
    "y_pred = best_model.predict(X_test_poly2)\n",
    "mse = mean_squared_error(y_test, y_pred)\n",
    "mae = mean_absolute_error(y_test, y_pred)\n",
    "print(\"Mean Squared Error: \", mse)\n",
    "print(\"Mean Absolute Error: \", mae)"
   ],
   "metadata": {
    "collapsed": false,
    "ExecuteTime": {
     "end_time": "2024-02-18T02:13:29.945540Z",
     "start_time": "2024-02-18T02:06:43.827574Z"
    }
   },
   "id": "483897785b70e7c",
   "execution_count": 44
  },
  {
   "cell_type": "markdown",
   "source": [
    "The best hyperparameters are {'regressor__alpha': 0.01, 'regressor__l1_ratio': 0.9}. The mean squared error is 173669 and the mean absolute error is 241, which is only marginally better than the untuned linear regression whose mean absolute error is 244, and tuned linear regression whose mean absolute error is 242. However, it is a lot better than the untuned polynomial regression whose mean absolute error is 1407. In this sense, the hyperparameter tuning is effective in reducing overfitting.\n",
    "\n",
    "Again, I will skip on degree of 3, because my dataset is high-dimensional to begin with, scale it up to degree 3 will make it crazily high-dimensional (taking forever to run on my laptop)."
   ],
   "metadata": {
    "collapsed": false
   },
   "id": "40eaf326671b85db"
  },
  {
   "cell_type": "markdown",
   "source": [
    "### Cross Validation"
   ],
   "metadata": {
    "collapsed": false
   },
   "id": "7634d98c4153232a"
  },
  {
   "cell_type": "code",
   "outputs": [
    {
     "name": "stdout",
     "output_type": "stream",
     "text": [
      "MSE scores for each fold:\n",
      "Fold 1: -138555.44237935529\n",
      "Fold 2: -194492.4921718515\n",
      "Fold 3: -213823.75146845297\n",
      "Fold 4: -126455.07967788943\n",
      "Fold 5: -126205.56048145675\n",
      "\n",
      "MAE scores for each fold:\n",
      "Fold 1: -227.19167796028677\n",
      "Fold 2: -242.46270045240624\n",
      "Fold 3: -259.6976733812486\n",
      "Fold 4: -222.75178218934747\n",
      "Fold 5: -224.44748630781692\n",
      "\n",
      "Cross-validated MSE: -159906.46523580118 ± 36915.79436484291\n",
      "Cross-validated MAE: -235.3102640582212 ± 14.053682274740872\n"
     ]
    }
   ],
   "source": [
    "from sklearn.model_selection import cross_val_score\n",
    "from sklearn.metrics import make_scorer\n",
    "\n",
    "# Define the scorers\n",
    "mse_scorer = make_scorer(mean_squared_error, greater_is_better=False)\n",
    "mae_scorer = make_scorer(mean_absolute_error, greater_is_better=False)\n",
    "\n",
    "# Perform cross-validation for MSE\n",
    "mse_scores = cross_val_score(best_model, X_train, y_train, cv=5, scoring=mse_scorer, n_jobs=-1)\n",
    "\n",
    "# Perform cross-validation for MAE\n",
    "mae_scores = cross_val_score(best_model, X_train, y_train, cv=5, scoring=mae_scorer, n_jobs=-1)\n",
    "\n",
    "# Print out the scores for each fold\n",
    "print(\"MSE scores for each fold:\")\n",
    "for i, score in enumerate(mse_scores, start=1):\n",
    "    print(f\"Fold {i}: {score}\")\n",
    "\n",
    "print(\"\\nMAE scores for each fold:\")\n",
    "for i, score in enumerate(mae_scores, start=1):\n",
    "    print(f\"Fold {i}: {score}\")\n",
    "\n",
    "# Calculate and print the mean and standard deviation of the scores\n",
    "mean_mse = mse_scores.mean()\n",
    "std_mse = mse_scores.std()\n",
    "mean_mae = mae_scores.mean()\n",
    "std_mae = mae_scores.std()\n",
    "\n",
    "print(f\"\\nCross-validated MSE: {mean_mse} ± {std_mse}\")\n",
    "print(f\"Cross-validated MAE: {mean_mae} ± {std_mae}\")\n"
   ],
   "metadata": {
    "collapsed": false,
    "ExecuteTime": {
     "end_time": "2024-02-18T02:13:32.260578Z",
     "start_time": "2024-02-18T02:13:29.949418Z"
    }
   },
   "id": "7baf14cebe25151d",
   "execution_count": 45
  },
  {
   "cell_type": "markdown",
   "source": [
    "The results from the 5-fold cross-validation show that the MAE values across the folds are relatively consistent, with a mean of approximately -234 and a standard deviation of 14. This indicates a stable model performance across different subsets of the data. \n",
    "\n",
    "The mean MAE value (235) is close to the MAE value obtained from the test set (241), which suggests that the model is not overfitting too bad to the training data."
   ],
   "metadata": {
    "collapsed": false
   },
   "id": "f815249d3492e32d"
  },
  {
   "cell_type": "markdown",
   "source": [
    "## Decision Tree Regression"
   ],
   "metadata": {
    "collapsed": false
   },
   "id": "84223c050c3fe08d"
  },
  {
   "cell_type": "code",
   "outputs": [
    {
     "name": "stdout",
     "output_type": "stream",
     "text": [
      "Mean Squared Error:  254689.63916693116\n",
      "Mean Absolute Error:  312.351343811674\n"
     ]
    }
   ],
   "source": [
    "from sklearn.tree import DecisionTreeRegressor\n",
    "\n",
    "# build the model\n",
    "reg = DecisionTreeRegressor(random_state=42, max_depth=25, min_samples_leaf=5, min_samples_split=5)\n",
    "reg.fit(X_train, y_train)\n",
    "\n",
    "# make predictions\n",
    "y_pred = reg.predict(X_test)\n",
    "\n",
    "# evaluate the model\n",
    "mse = mean_squared_error(y_test, y_pred)\n",
    "mae = mean_absolute_error(y_test, y_pred)\n",
    "\n",
    "print(\"Mean Squared Error: \", mse)\n",
    "print(\"Mean Absolute Error: \", mae)"
   ],
   "metadata": {
    "collapsed": false,
    "ExecuteTime": {
     "end_time": "2024-02-18T01:25:05.677457Z",
     "start_time": "2024-02-18T01:25:05.271155Z"
    }
   },
   "id": "50c1ff7823af93b5",
   "execution_count": 38
  },
  {
   "cell_type": "markdown",
   "source": [
    "This performance is not bad compared to the untuned polynomial regression, however, it is still worse than the tuned linear regression and tuned polynomial regression. Let us see if hyperparameter tuning can improve the performance."
   ],
   "metadata": {
    "collapsed": false
   },
   "id": "6a7eea4d38a95a2d"
  },
  {
   "cell_type": "markdown",
   "source": [
    "### Hyperparameter Tuning"
   ],
   "metadata": {
    "collapsed": false
   },
   "id": "808088acb632fce8"
  },
  {
   "cell_type": "code",
   "outputs": [
    {
     "name": "stderr",
     "output_type": "stream",
     "text": [
      "/Users/mhhuang/anaconda3/envs/ContentAnalysis/lib/python3.9/site-packages/sklearn/model_selection/_validation.py:425: FitFailedWarning: \n",
      "250 fits failed out of a total of 750.\n",
      "The score on these train-test partitions for these parameters will be set to nan.\n",
      "If these failures are not expected, you can try to debug them by setting error_score='raise'.\n",
      "\n",
      "Below are more details about the failures:\n",
      "--------------------------------------------------------------------------------\n",
      "125 fits failed with the following error:\n",
      "Traceback (most recent call last):\n",
      "  File \"/Users/mhhuang/anaconda3/envs/ContentAnalysis/lib/python3.9/site-packages/sklearn/model_selection/_validation.py\", line 729, in _fit_and_score\n",
      "    estimator.fit(X_train, y_train, **fit_params)\n",
      "  File \"/Users/mhhuang/anaconda3/envs/ContentAnalysis/lib/python3.9/site-packages/sklearn/base.py\", line 1145, in wrapper\n",
      "    estimator._validate_params()\n",
      "  File \"/Users/mhhuang/anaconda3/envs/ContentAnalysis/lib/python3.9/site-packages/sklearn/base.py\", line 638, in _validate_params\n",
      "    validate_parameter_constraints(\n",
      "  File \"/Users/mhhuang/anaconda3/envs/ContentAnalysis/lib/python3.9/site-packages/sklearn/utils/_param_validation.py\", line 96, in validate_parameter_constraints\n",
      "    raise InvalidParameterError(\n",
      "sklearn.utils._param_validation.InvalidParameterError: The 'min_samples_split' parameter of DecisionTreeRegressor must be an int in the range [2, inf) or a float in the range (0.0, 1.0]. Got 0 instead.\n",
      "\n",
      "--------------------------------------------------------------------------------\n",
      "125 fits failed with the following error:\n",
      "Traceback (most recent call last):\n",
      "  File \"/Users/mhhuang/anaconda3/envs/ContentAnalysis/lib/python3.9/site-packages/sklearn/model_selection/_validation.py\", line 729, in _fit_and_score\n",
      "    estimator.fit(X_train, y_train, **fit_params)\n",
      "  File \"/Users/mhhuang/anaconda3/envs/ContentAnalysis/lib/python3.9/site-packages/sklearn/base.py\", line 1145, in wrapper\n",
      "    estimator._validate_params()\n",
      "  File \"/Users/mhhuang/anaconda3/envs/ContentAnalysis/lib/python3.9/site-packages/sklearn/base.py\", line 638, in _validate_params\n",
      "    validate_parameter_constraints(\n",
      "  File \"/Users/mhhuang/anaconda3/envs/ContentAnalysis/lib/python3.9/site-packages/sklearn/utils/_param_validation.py\", line 96, in validate_parameter_constraints\n",
      "    raise InvalidParameterError(\n",
      "sklearn.utils._param_validation.InvalidParameterError: The 'min_samples_split' parameter of DecisionTreeRegressor must be an int in the range [2, inf) or a float in the range (0.0, 1.0]. Got 1 instead.\n",
      "\n",
      "  warnings.warn(some_fits_failed_message, FitFailedWarning)\n",
      "/Users/mhhuang/anaconda3/envs/ContentAnalysis/lib/python3.9/site-packages/sklearn/model_selection/_search.py:979: UserWarning: One or more of the test scores are non-finite: [             nan              nan -180802.37550717 -180802.37550717\n",
      " -180257.67800802 -180257.67800802              nan              nan\n",
      " -178993.33045947 -178993.33045947 -178993.33045947 -179000.72591248\n",
      "              nan              nan -177522.14691436 -177522.14691436\n",
      " -177522.14691436 -177522.14691436              nan              nan\n",
      " -175023.37097689 -175023.37097689 -175023.37097689 -175023.37097689\n",
      "              nan              nan -175126.79881246 -175126.79881246\n",
      " -175126.79881246 -175126.79881246              nan              nan\n",
      " -229623.96265928 -229623.96265928 -225564.17001276 -218889.49187915\n",
      "              nan              nan -221400.15331955 -221400.15331955\n",
      " -221400.15331955 -218701.70343961              nan              nan\n",
      " -220347.05719196 -220347.05719196 -220347.05719196 -220347.05719196\n",
      "              nan              nan -205810.03403455 -205810.03403455\n",
      " -205810.03403455 -205810.03403455              nan              nan\n",
      " -191800.93834979 -191800.93834979 -191800.93834979 -191800.93834979\n",
      "              nan              nan -267507.4562872  -267507.4562872\n",
      " -262966.2453336  -248568.98649644              nan              nan\n",
      " -240242.52070712 -240242.52070712 -240242.52070712 -236832.22320979\n",
      "              nan              nan -235941.72291501 -235941.72291501\n",
      " -235941.72291501 -235941.72291501              nan              nan\n",
      " -220939.46621968 -220939.46621968 -220939.46621968 -220939.46621968\n",
      "              nan              nan -193190.18259412 -193190.18259412\n",
      " -193190.18259412 -193190.18259412              nan              nan\n",
      " -269188.55048591 -269188.55048591 -264133.49466808 -248999.61094267\n",
      "              nan              nan -240486.41274192 -240486.41274192\n",
      " -240486.41274192 -237000.92641068              nan              nan\n",
      " -236035.97362585 -236035.97362585 -236035.97362585 -236035.97362585\n",
      "              nan              nan -221214.58797917 -221214.58797917\n",
      " -221214.58797917 -221214.58797917              nan              nan\n",
      " -193190.18259412 -193190.18259412 -193190.18259412 -193190.18259412\n",
      "              nan              nan -269188.55048591 -269188.55048591\n",
      " -264133.49466808 -248999.61094267              nan              nan\n",
      " -240486.41274192 -240486.41274192 -240486.41274192 -237000.92641068\n",
      "              nan              nan -236035.97362585 -236035.97362585\n",
      " -236035.97362585 -236035.97362585              nan              nan\n",
      " -221214.58797917 -221214.58797917 -221214.58797917 -221214.58797917\n",
      "              nan              nan -193190.18259412 -193190.18259412\n",
      " -193190.18259412 -193190.18259412]\n",
      "  warnings.warn(\n"
     ]
    },
    {
     "name": "stdout",
     "output_type": "stream",
     "text": [
      "Best parameters: {'max_depth': 5, 'min_samples_leaf': 10, 'min_samples_split': 2}\n",
      "Mean Squared Error:  180243.76625600245\n",
      "Mean Absolute Error:  255.82310671721748\n"
     ]
    }
   ],
   "source": [
    "# Define the parameters grid\n",
    "param_grid = {\n",
    "    'max_depth': [5, 10, 20, 30, 40],  \n",
    "    'min_samples_leaf': [4, 6, 8, 10, 20],\n",
    "    'min_samples_split': [0, 1, 2, 5, 10, 15]\n",
    "}\n",
    "\n",
    "# Setup GridSearchCV\n",
    "grid_search = GridSearchCV(estimator=reg, param_grid=param_grid, cv=5, scoring='neg_mean_squared_error', n_jobs=-1)\n",
    "\n",
    "# Fit the model\n",
    "grid_search.fit(X_train, y_train)\n",
    "\n",
    "# Best parameters\n",
    "print(\"Best parameters:\", grid_search.best_params_)\n",
    "\n",
    "# Best model\n",
    "best_model = grid_search.best_estimator_\n",
    "\n",
    "# Use the best estimator to make predictions\n",
    "y_pred = best_model.predict(X_test)\n",
    "\n",
    "# Evaluate the model\n",
    "mse = mean_squared_error(y_test, y_pred)\n",
    "mae = mean_absolute_error(y_test, y_pred)\n",
    "\n",
    "print(\"Mean Squared Error: \", mse)\n",
    "print(\"Mean Absolute Error: \", mae)"
   ],
   "metadata": {
    "collapsed": false,
    "ExecuteTime": {
     "end_time": "2024-02-18T01:25:14.689912Z",
     "start_time": "2024-02-18T01:25:05.678398Z"
    }
   },
   "id": "e90f708cec4f7900",
   "execution_count": 39
  },
  {
   "cell_type": "markdown",
   "source": [
    "Okay, the best hyperparameters are {'max_depth': 5, 'min_samples_leaf': 20, 'min_samples_split': 2}. The mean squared error is 180243, and the mean absolute error is 255. \n",
    "The tuning does improve the result of RFR from the untuned one.\n",
    "\n",
    "However, this performance is not as good as the tuned linear regression (MAE = 244) and tuned polynomial regression (MAE = 242)."
   ],
   "metadata": {
    "collapsed": false
   },
   "id": "b2a5bf3b079cba02"
  },
  {
   "cell_type": "markdown",
   "source": [
    "### Cross Validation"
   ],
   "metadata": {
    "collapsed": false
   },
   "id": "9a3a312faeb1f9c6"
  },
  {
   "cell_type": "code",
   "outputs": [
    {
     "name": "stdout",
     "output_type": "stream",
     "text": [
      "MSE scores for each fold:\n",
      "Fold 1: -138555.44237935529\n",
      "Fold 2: -194492.4921718515\n",
      "Fold 3: -213823.75146845297\n",
      "Fold 4: -126455.07967788943\n",
      "Fold 5: -126205.56048145675\n",
      "\n",
      "MAE scores for each fold:\n",
      "Fold 1: -227.19167796028677\n",
      "Fold 2: -242.46270045240624\n",
      "Fold 3: -259.6976733812486\n",
      "Fold 4: -222.75178218934747\n",
      "Fold 5: -224.44748630781692\n",
      "\n",
      "Cross-validated MSE: -159906.46523580118 ± 36915.79436484291\n",
      "Cross-validated MAE: -235.3102640582212 ± 14.053682274740872\n"
     ]
    }
   ],
   "source": [
    "from sklearn.model_selection import cross_val_score\n",
    "from sklearn.metrics import make_scorer\n",
    "\n",
    "# Define the scorers\n",
    "mse_scorer = make_scorer(mean_squared_error, greater_is_better=False)\n",
    "mae_scorer = make_scorer(mean_absolute_error, greater_is_better=False)\n",
    "\n",
    "# Perform cross-validation for MSE\n",
    "mse_scores = cross_val_score(best_model, X_train, y_train, cv=5, scoring=mse_scorer, n_jobs=-1)\n",
    "\n",
    "# Perform cross-validation for MAE\n",
    "mae_scores = cross_val_score(best_model, X_train, y_train, cv=5, scoring=mae_scorer, n_jobs=-1)\n",
    "\n",
    "# Print out the scores for each fold\n",
    "print(\"MSE scores for each fold:\")\n",
    "for i, score in enumerate(mse_scores, start=1):\n",
    "    print(f\"Fold {i}: {score}\")\n",
    "\n",
    "print(\"\\nMAE scores for each fold:\")\n",
    "for i, score in enumerate(mae_scores, start=1):\n",
    "    print(f\"Fold {i}: {score}\")\n",
    "\n",
    "# Calculate and print the mean and standard deviation of the scores\n",
    "mean_mse = mse_scores.mean()\n",
    "std_mse = mse_scores.std()\n",
    "mean_mae = mae_scores.mean()\n",
    "std_mae = mae_scores.std()\n",
    "\n",
    "print(f\"\\nCross-validated MSE: {mean_mse} ± {std_mse}\")\n",
    "print(f\"Cross-validated MAE: {mean_mae} ± {std_mae}\")\n"
   ],
   "metadata": {
    "collapsed": false,
    "ExecuteTime": {
     "end_time": "2024-02-18T01:25:14.935073Z",
     "start_time": "2024-02-18T01:25:14.641348Z"
    }
   },
   "id": "ba2ebfbd06401f94",
   "execution_count": 40
  },
  {
   "cell_type": "markdown",
   "source": [
    "The results from the 5-fold cross-validation show that the MAE values across the folds are relatively consistent, with a mean of approximately 235 and a standard deviation of 15. This indicates a stable model performance across different subsets of the data.\n",
    "\n",
    "The mean MAE value (235) is close to the MAE value obtained from the test set (255), which suggests that the model is not overfitting to the training data."
   ],
   "metadata": {
    "collapsed": false
   },
   "id": "33cd3c32d2ef9f22"
  },
  {
   "cell_type": "markdown",
   "source": [
    "## Random Forest Regression"
   ],
   "metadata": {
    "collapsed": false
   },
   "id": "468564248a049a96"
  },
  {
   "cell_type": "code",
   "outputs": [
    {
     "name": "stdout",
     "output_type": "stream",
     "text": [
      "Mean Squared Error:  176375.86487140902\n",
      "Mean Absolute Error:  250.30166019854212\n"
     ]
    }
   ],
   "source": [
    "from sklearn.ensemble import RandomForestRegressor\n",
    "\n",
    "# build the model\n",
    "reg = RandomForestRegressor(n_estimators=100, random_state=42, max_depth=25, min_samples_leaf=5, min_samples_split=5)\n",
    "reg.fit(X_train, y_train)\n",
    "\n",
    "# evaluate the model\n",
    "y_pred = reg.predict(X_test)\n",
    "mse = mean_squared_error(y_test, y_pred)\n",
    "mae = mean_absolute_error(y_test, y_pred)\n",
    "\n",
    "print(\"Mean Squared Error: \", mse)\n",
    "print(\"Mean Absolute Error: \", mae)"
   ],
   "metadata": {
    "collapsed": false,
    "ExecuteTime": {
     "end_time": "2024-02-18T01:25:33.686540Z",
     "start_time": "2024-02-18T01:25:14.932983Z"
    }
   },
   "id": "33b0ddb90b976d0",
   "execution_count": 41
  },
  {
   "cell_type": "markdown",
   "source": [
    "Just like the decision tree regression, the performance of random forest regression is not as good as the tuned linear regression and tuned polynomial regression. \n",
    "\n",
    "Let us see if hyperparameter tuning can improve the performance. This time, I will use `RandomizedSearchCV` instead of `GridSearchCV` to speed up the process."
   ],
   "metadata": {
    "collapsed": false
   },
   "id": "e1a8844583189073"
  },
  {
   "cell_type": "code",
   "outputs": [
    {
     "name": "stdout",
     "output_type": "stream",
     "text": [
      "Best parameters: {'n_estimators': 200, 'min_samples_split': 2, 'min_samples_leaf': 6, 'max_depth': 10}\n",
      "Mean Squared Error:  175892.7232391635\n",
      "Mean Absolute Error:  248.20616437582586\n"
     ]
    }
   ],
   "source": [
    "from sklearn.model_selection import RandomizedSearchCV\n",
    "\n",
    "# Define the model\n",
    "reg = RandomForestRegressor(random_state=42)\n",
    "\n",
    "# Define the parameters grid\n",
    "param_distributions = {\n",
    "    'n_estimators': [50, 100, 200],  # Number of trees in the forest\n",
    "    'max_depth': [10, 20, 30, None],  # Maximum depth of the tree\n",
    "    'min_samples_leaf': [1, 2, 4, 6],  # Minimum number of samples required at each leaf node\n",
    "    'min_samples_split': [2, 5, 10, 15]  # Minimum number of samples required to split an internal node\n",
    "}\n",
    "\n",
    "# Setup RandomizedSearchCV\n",
    "random_search = RandomizedSearchCV(estimator=reg, param_distributions=param_distributions, n_iter=100, cv=5, scoring='neg_mean_squared_error', n_jobs=-1, random_state=42)\n",
    "\n",
    "# Fit the model\n",
    "random_search.fit(X_train, y_train)\n",
    "\n",
    "# Best parameters\n",
    "print(\"Best parameters:\", random_search.best_params_)\n",
    "\n",
    "# Use the best estimator to make predictions\n",
    "y_pred = random_search.best_estimator_.predict(X_test)\n",
    "\n",
    "# Evaluate the model\n",
    "mse = mean_squared_error(y_test, y_pred)\n",
    "mae = mean_absolute_error(y_test, y_pred)\n",
    "\n",
    "print(\"Mean Squared Error: \", mse)\n",
    "print(\"Mean Absolute Error: \", mae)\n"
   ],
   "metadata": {
    "collapsed": false,
    "ExecuteTime": {
     "end_time": "2024-02-18T01:39:19.809390Z",
     "start_time": "2024-02-18T01:25:33.696762Z"
    }
   },
   "id": "fc593968a7aae3ad",
   "execution_count": 42
  },
  {
   "cell_type": "markdown",
   "source": [
    "### Cross Validation"
   ],
   "metadata": {
    "collapsed": false
   },
   "id": "14cffd1ac6a06b3d"
  },
  {
   "cell_type": "code",
   "outputs": [
    {
     "name": "stdout",
     "output_type": "stream",
     "text": [
      "MSE scores for each fold:\n",
      "Fold 1: -140854.73883754254\n",
      "Fold 2: -195320.16255478212\n",
      "Fold 3: -215194.79239033107\n",
      "Fold 4: -127871.51827313837\n",
      "Fold 5: -131489.88993002262\n",
      "\n",
      "MAE scores for each fold:\n",
      "Fold 1: -235.4194172976302\n",
      "Fold 2: -245.7676737628672\n",
      "Fold 3: -261.95829433708866\n",
      "Fold 4: -229.74263012144277\n",
      "Fold 5: -231.13265526556606\n",
      "\n",
      "Cross-validated MSE: -162146.22039716336 ± 36007.09490974298\n",
      "Cross-validated MAE: -240.80413415691896 ± 11.975180745822115\n"
     ]
    }
   ],
   "source": [
    "from sklearn.model_selection import cross_val_score\n",
    "from sklearn.metrics import make_scorer\n",
    "\n",
    "# Assuming you have the RandomForestRegressor imported\n",
    "from sklearn.ensemble import RandomForestRegressor\n",
    "\n",
    "# Best model from RandomizedSearchCV\n",
    "best_model = random_search.best_estimator_\n",
    "\n",
    "# Define the scorers\n",
    "mse_scorer = make_scorer(mean_squared_error, greater_is_better=False)\n",
    "mae_scorer = make_scorer(mean_absolute_error, greater_is_better=False)\n",
    "\n",
    "# Perform cross-validation for MSE\n",
    "mse_scores = cross_val_score(best_model, X_train, y_train, cv=5, scoring=mse_scorer, n_jobs=-1)\n",
    "\n",
    "# Perform cross-validation for MAE\n",
    "mae_scores = cross_val_score(best_model, X_train, y_train, cv=5, scoring=mae_scorer, n_jobs=-1)\n",
    "\n",
    "# Print out the scores for each fold\n",
    "print(\"MSE scores for each fold:\")\n",
    "for i, score in enumerate(mse_scores, start=1):\n",
    "    print(f\"Fold {i}: {score}\")\n",
    "\n",
    "print(\"\\nMAE scores for each fold:\")\n",
    "for i, score in enumerate(mae_scores, start=1):\n",
    "    print(f\"Fold {i}: {score}\")\n",
    "\n",
    "# Calculate and print the mean and standard deviation of the scores\n",
    "mean_mse = mse_scores.mean()\n",
    "std_mse = mse_scores.std()\n",
    "mean_mae = mae_scores.mean()\n",
    "std_mae = mae_scores.std()\n",
    "\n",
    "print(f\"\\nCross-validated MSE: {mean_mse} ± {std_mse}\")\n",
    "print(f\"Cross-validated MAE: {mean_mae} ± {std_mae}\")"
   ],
   "metadata": {
    "collapsed": false,
    "ExecuteTime": {
     "end_time": "2024-02-18T01:40:07.023811Z",
     "start_time": "2024-02-18T01:39:19.816681Z"
    }
   },
   "id": "877a27263bf3edba",
   "execution_count": 43
  },
  {
   "cell_type": "markdown",
   "source": [
    "The results from the 5-fold cross-validation show that the MAE values across the folds are relatively consistent, with a mean of approximately 240 and a standard deviation of 11. This indicates a stable model performance across different subsets of the data.\n",
    "\n",
    "The mean MAE value (240) is close to the MAE value obtained from the test set (248), which suggests that the model is not overfitting to the training data."
   ],
   "metadata": {
    "collapsed": false
   },
   "id": "5fb91bf1e8abcf1b"
  },
  {
   "cell_type": "markdown",
   "source": [
    "# Summary and Conclusion"
   ],
   "metadata": {
    "collapsed": false
   },
   "id": "8b890f1f7a69dfee"
  },
  {
   "cell_type": "markdown",
   "source": [
    "Comparing across 4 models, **after hyperparameter tuning**, they all have **similar performance**. The mean absolute error (MAE) is 243, 241, 255, 250 for linear regression, polynomial regression, decision tree regression, and random forest regression, respectively.\n",
    "\n",
    "Also, the **cross-validation** results show that the MAE values across the folds are relatively consistent, with a mean of approximately 235-240 and a standard deviation of 11-15. This indicates a stable model performance across different subsets of the data and across models, which is very impressive given the high dimensionality of the data.\n",
    "\n",
    "Given the simplicity of linear regression and the similar performance across models, I would recommend using linear regression (with regularization) for predicting income based on the essays."
   ],
   "metadata": {
    "collapsed": false
   },
   "id": "fc0146eebbcf5f2d"
  }
 ],
 "metadata": {
  "kernelspec": {
   "display_name": "Python 3",
   "language": "python",
   "name": "python3"
  },
  "language_info": {
   "codemirror_mode": {
    "name": "ipython",
    "version": 2
   },
   "file_extension": ".py",
   "mimetype": "text/x-python",
   "name": "python",
   "nbconvert_exporter": "python",
   "pygments_lexer": "ipython2",
   "version": "2.7.6"
  }
 },
 "nbformat": 4,
 "nbformat_minor": 5
}
